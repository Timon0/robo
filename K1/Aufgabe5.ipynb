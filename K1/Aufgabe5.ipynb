{
 "cells": [
  {
   "cell_type": "markdown",
   "id": "3852a601",
   "metadata": {},
   "source": [
    "# Aufgabe 5"
   ]
  },
  {
   "cell_type": "code",
   "execution_count": 1,
   "id": "1302fa35",
   "metadata": {},
   "outputs": [],
   "source": [
    "import numpy as np\n",
    "from math import pi, cos, sin, radians"
   ]
  },
  {
   "cell_type": "markdown",
   "id": "d9d25725",
   "metadata": {},
   "source": [
    "### Forward Kinematic (vorherige Aufgabe)"
   ]
  },
  {
   "cell_type": "code",
   "execution_count": 2,
   "id": "2ef32a66",
   "metadata": {},
   "outputs": [],
   "source": [
    "def forward_kinematic_braccio(joint_angles):\n",
    "    ''' param: joints: current position of all the joints of the braccio '''\n",
    "    ''' return: current position'''\n",
    "\n",
    "    result = np.eye(4)\n",
    "    \n",
    "    ## initial translation\n",
    "    result = result @ translation([281, 0, 3])\n",
    "    \n",
    "    ## Joint 0 (Base b)\n",
    "    result = result @ rotate_z(90 - joint_angles[0]) @ translation([0, 0, 71]) \n",
    "    \n",
    "    ## Joint 1 (Shoulder s)\n",
    "    result = result @ rotate_y(90 - joint_angles[1]) @ translation([0, 0, 126]) \n",
    "    \n",
    "    ## Joint 2 (Elbow e)\n",
    "    result = result @ rotate_y(90 - joint_angles[2]) @ translation([0, 0, 124]) \n",
    "    \n",
    "    ## Joint 3 (Wrist tilt v)\n",
    "    result = result @ rotate_y(90 - joint_angles[3]) @ translation([0, 0, 60])\n",
    "\n",
    "    ## Joint 4 (Wrist rotate w)\n",
    "    result = result @ rotate_z(90 - joint_angles[4]) @ translation([0, 0, 134]) \n",
    "    \n",
    "    return result\n",
    "\n",
    "def translation(trans):\n",
    "    return np.array([\n",
    "        [1,0,0,trans[0]],\n",
    "        [0,1,0,trans[1]],\n",
    "        [0,0,1,trans[2]],\n",
    "        [0,0,0,1]\n",
    "    ])\n",
    "\n",
    "def rotate_z(theta):\n",
    "    rad = radians(theta)\n",
    "    return np.array([\n",
    "        [cos(rad), -sin(rad), 0, 0],\n",
    "        [sin(rad), cos(rad), 0, 0],\n",
    "        [0,0,1,0],\n",
    "        [0,0,0,1]\n",
    "    ])\n",
    "\n",
    "def rotate_y(theta):\n",
    "    rad = radians(theta)\n",
    "    return np.array([\n",
    "        [cos(rad),0, sin(rad), 0],\n",
    "        [0,1,0,0],\n",
    "        [-sin(rad),0, cos(rad), 0],\n",
    "        [0,0,0,1]\n",
    "    ])\n",
    "\n",
    "def forward_kinematic_braccio_fixed(joint_angles):\n",
    "    b = joint_angles[0]\n",
    "    s = 110\n",
    "    e = joint_angles[1]\n",
    "    v = joint_angles[2]\n",
    "    w = 90\n",
    "    g = 73\n",
    "    joint_angles_with_fixed = [b, s, e, v, w, g]\n",
    "    return forward_kinematic_braccio(joint_angles_with_fixed)"
   ]
  },
  {
   "cell_type": "code",
   "execution_count": 3,
   "id": "beb843e8",
   "metadata": {},
   "outputs": [
    {
     "name": "stdout",
     "output_type": "stream",
     "text": [
      "[[  1.   0.   0. 281.]\n",
      " [  0.   1.   0.   0.]\n",
      " [  0.   0.   1. 518.]\n",
      " [  0.   0.   0.   1.]]\n"
     ]
    }
   ],
   "source": [
    "result = forward_kinematic_braccio([90, 90, 90, 90, 90, 90])\n",
    "print(result)"
   ]
  },
  {
   "cell_type": "markdown",
   "id": "8b68529e",
   "metadata": {},
   "source": [
    "### Rückwärts Kinematik"
   ]
  },
  {
   "cell_type": "code",
   "execution_count": 4,
   "id": "24f52820",
   "metadata": {},
   "outputs": [],
   "source": [
    "def F(x_soll, joint_angles):\n",
    "    transformation_matrix = forward_kinematic_braccio_fixed(joint_angles)\n",
    "    x_ist = transformation_matrix[0:3,3]\n",
    "    return x_ist - x_soll\n",
    "\n",
    "def dF_theta1(x_soll, joint_angles):\n",
    "    h = 1E-4\n",
    "    new_joint_angles = [joint_angles[0]+ h, joint_angles[1], joint_angles[2]]\n",
    "    return (F(x_soll, new_joint_angles) - F(x_soll, joint_angles)) / h\n",
    "\n",
    "def dF_theta2(x_soll, joint_angles):\n",
    "    h = 1E-4\n",
    "    new_joint_angles = [joint_angles[0], joint_angles[1] + h, joint_angles[2]]\n",
    "    return (F(x_soll, new_joint_angles) - F(x_soll, joint_angles)) / h\n",
    "\n",
    "def dF_theta3(x_soll, joint_angles):\n",
    "    h = 1E-4\n",
    "    new_joint_angles = [joint_angles[0], joint_angles[1], joint_angles[2] + h]\n",
    "    return (F(x_soll, new_joint_angles) - F(x_soll, joint_angles)) / h"
   ]
  },
  {
   "cell_type": "code",
   "execution_count": 5,
   "id": "b9aae53d",
   "metadata": {},
   "outputs": [],
   "source": [
    "def jaccobi(x_soll, joint_angles):\n",
    "    return np.stack((\n",
    "        dF_theta1(x_soll, joint_angles),\n",
    "        dF_theta2(x_soll, joint_angles),\n",
    "        dF_theta3(x_soll, joint_angles)\n",
    "    ), axis=-1)\n",
    "\n",
    "def inv_jaccobi(x_soll, joint_angles):\n",
    "    return np.linalg.pinv(jaccobi(x_soll, joint_angles))"
   ]
  },
  {
   "cell_type": "code",
   "execution_count": 27,
   "id": "5b70fe07",
   "metadata": {},
   "outputs": [],
   "source": [
    "def backward_kinematic_braccio(x_soll, theta_0, max_iter=1000, error=1e-6, alpha=1):\n",
    "    \n",
    "    theta_i = theta_0\n",
    "    errors = []\n",
    "    \n",
    "    for i in range(max_iter):\n",
    "        diff = np.linalg.norm(F(x_soll, theta_i))\n",
    "        errors.append(diff)\n",
    "                \n",
    "        if diff < error:\n",
    "            return (errors, theta_i)\n",
    "        \n",
    "        j_inv = inv_jaccobi(x_soll, theta_i)\n",
    "        theta_i = theta_i - alpha * j_inv.dot(F(x_soll, theta_i))\n",
    "        \n",
    "    raise Exception(\"Sorry, no solution found\") "
   ]
  },
  {
   "cell_type": "code",
   "execution_count": 28,
   "id": "ed87ba35",
   "metadata": {},
   "outputs": [
    {
     "name": "stdout",
     "output_type": "stream",
     "text": [
      "[ 60.04280075 160.19188749 159.53838278]\n"
     ]
    }
   ],
   "source": [
    "x_goal = np.array([78, -117, 10])\n",
    "theta_0 = np.array([40, 140, 150])\n",
    "errors, theta_final = backward_kinematic_braccio(x_goal, theta_0)\n",
    "print(theta_final)"
   ]
  },
  {
   "cell_type": "code",
   "execution_count": 29,
   "id": "f48fab68",
   "metadata": {},
   "outputs": [
    {
     "data": {
      "text/plain": [
       "array([  78., -117.,   10.])"
      ]
     },
     "execution_count": 29,
     "metadata": {},
     "output_type": "execute_result"
    }
   ],
   "source": [
    "forward_kinematic_braccio_fixed(theta_final)[0:3,3]"
   ]
  },
  {
   "cell_type": "code",
   "execution_count": 30,
   "id": "4bf93bea",
   "metadata": {},
   "outputs": [],
   "source": [
    "import matplotlib.pyplot as plt"
   ]
  },
  {
   "cell_type": "code",
   "execution_count": 31,
   "id": "bfb258ec",
   "metadata": {},
   "outputs": [
    {
     "data": {
      "image/png": "[encoded data removed]",
      "text/plain": [
       "<Figure size 640x480 with 1 Axes>"
      ]
     },
     "metadata": {},
     "output_type": "display_data"
    }
   ],
   "source": [
    "plt.plot(errors)\n",
    "\n",
    "plt.xlabel(\"Iteration\")\n",
    "plt.ylabel(\"Error\")\n",
    "\n",
    "plt.savefig(\"backward_kinematic.svg\")"
   ]
  },
  {
   "cell_type": "code",
   "execution_count": null,
   "id": "487a9ac4",
   "metadata": {},
   "outputs": [],
   "source": []
  }
 ],
 "metadata": {
  "kernelspec": {
   "display_name": "Python 3 (ipykernel)",
   "language": "python",
   "name": "python3"
  },
  "language_info": {
   "codemirror_mode": {
    "name": "ipython",
    "version": 3
   },
   "file_extension": ".py",
   "mimetype": "text/x-python",
   "name": "python",
   "nbconvert_exporter": "python",
   "pygments_lexer": "ipython3",
   "version": "3.8.3"
  }
 },
 "nbformat": 4,
 "nbformat_minor": 5
}
