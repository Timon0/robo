{
 "cells": [
  {
   "cell_type": "markdown",
   "id": "01c479fb",
   "metadata": {},
   "source": [
    "## Bibliothek importieren"
   ]
  },
  {
   "cell_type": "code",
   "execution_count": 1,
   "id": "df096f19",
   "metadata": {},
   "outputs": [],
   "source": [
    "import serial as ser"
   ]
  },
  {
   "cell_type": "markdown",
   "id": "b96dcab2",
   "metadata": {},
   "source": [
    "# Roboter UNBEDINGT senkrecht stellen!"
   ]
  },
  {
   "cell_type": "markdown",
   "id": "bbe9f746",
   "metadata": {},
   "source": [
    "## Seriellen Port öffnen"
   ]
  },
  {
   "cell_type": "code",
   "execution_count": 99,
   "id": "f47c2e58",
   "metadata": {},
   "outputs": [],
   "source": [
    "s = ser.Serial ('COM9', baudrate = 9600, parity = 'N', bytesize = 8, stopbits = 1, timeout = None)"
   ]
  },
  {
   "cell_type": "markdown",
   "id": "1d980f1e",
   "metadata": {},
   "source": [
    "## Aufgabe 4"
   ]
  },
  {
   "cell_type": "code",
   "execution_count": 8,
   "id": "54801d9b",
   "metadata": {},
   "outputs": [],
   "source": [
    "def reset():\n",
    "    s.write (b'90 b 90 s 90 e 90 v 90 w 60 g\\r\\n')"
   ]
  },
  {
   "cell_type": "code",
   "execution_count": 71,
   "id": "fc32142c",
   "metadata": {},
   "outputs": [
    {
     "data": {
      "text/plain": [
       "29"
      ]
     },
     "execution_count": 71,
     "metadata": {},
     "output_type": "execute_result"
    }
   ],
   "source": [
    "s.write (b'63 b 140 s 120 e 170 v 65 w\\r\\n')"
   ]
  },
  {
   "cell_type": "code",
   "execution_count": 112,
   "id": "ba4d195c",
   "metadata": {},
   "outputs": [
    {
     "data": {
      "text/plain": [
       "27"
      ]
     },
     "execution_count": 112,
     "metadata": {},
     "output_type": "execute_result"
    }
   ],
   "source": [
    "s.write (b'90 b 160 s 90 e 90 v 90 w\\r\\n')"
   ]
  },
  {
   "cell_type": "code",
   "execution_count": 113,
   "id": "711bc805",
   "metadata": {},
   "outputs": [],
   "source": [
    "reset()"
   ]
  },
  {
   "cell_type": "markdown",
   "id": "c0738692",
   "metadata": {},
   "source": [
    "## Port schliessen"
   ]
  },
  {
   "cell_type": "code",
   "execution_count": 114,
   "id": "2ef32a66",
   "metadata": {},
   "outputs": [],
   "source": [
    "s.close()"
   ]
  },
  {
   "cell_type": "code",
   "execution_count": null,
   "id": "4e32c46d",
   "metadata": {},
   "outputs": [],
   "source": []
  }
 ],
 "metadata": {
  "kernelspec": {
   "display_name": "robok1",
   "language": "python",
   "name": "robok1"
  },
  "language_info": {
   "codemirror_mode": {
    "name": "ipython",
    "version": 3
   },
   "file_extension": ".py",
   "mimetype": "text/x-python",
   "name": "python",
   "nbconvert_exporter": "python",
   "pygments_lexer": "ipython3",
   "version": "3.9.7"
  }
 },
 "nbformat": 4,
 "nbformat_minor": 5
}
