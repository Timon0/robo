{
 "cells": [
  {
   "cell_type": "code",
   "execution_count": 1,
   "id": "b055abb7",
   "metadata": {},
   "outputs": [],
   "source": [
    "import numpy as np"
   ]
  },
  {
   "cell_type": "code",
   "execution_count": 2,
   "id": "0cb3bba0",
   "metadata": {},
   "outputs": [],
   "source": [
    "def Rx (phi):\n",
    "    t = phi * np.pi / 180\n",
    "    c = np.cos (t)\n",
    "    s = np.sin (t)\n",
    "    return np.array ([\n",
    "        [1, 0,  0, 0],\n",
    "        [0, c, -s, 0],\n",
    "        [0, s,  c, 0],\n",
    "        [0, 0,  0, 1]\n",
    "    ])"
   ]
  },
  {
   "cell_type": "code",
   "execution_count": 3,
   "id": "79ff225d",
   "metadata": {},
   "outputs": [
    {
     "data": {
      "text/plain": [
       "array([[ 1.       ,  0.       ,  0.       ,  0.       ],\n",
       "       [ 0.       ,  0.8660254, -0.5      ,  0.       ],\n",
       "       [ 0.       ,  0.5      ,  0.8660254,  0.       ],\n",
       "       [ 0.       ,  0.       ,  0.       ,  1.       ]])"
      ]
     },
     "execution_count": 3,
     "metadata": {},
     "output_type": "execute_result"
    }
   ],
   "source": [
    "Rx (30)"
   ]
  },
  {
   "cell_type": "code",
   "execution_count": 4,
   "id": "8f1da211",
   "metadata": {},
   "outputs": [],
   "source": [
    "def Tz (z):\n",
    "    return np.array ([\n",
    "        [1, 0, 0, 0],\n",
    "        [0, 1, 0, 0],\n",
    "        [0, 0, 1, z],\n",
    "        [0, 0, 0, 1]\n",
    "    ])"
   ]
  },
  {
   "cell_type": "code",
   "execution_count": 5,
   "id": "0187fa09",
   "metadata": {},
   "outputs": [
    {
     "data": {
      "text/plain": [
       "array([[ 1,  0,  0,  0],\n",
       "       [ 0,  1,  0,  0],\n",
       "       [ 0,  0,  1, 10],\n",
       "       [ 0,  0,  0,  1]])"
      ]
     },
     "execution_count": 5,
     "metadata": {},
     "output_type": "execute_result"
    }
   ],
   "source": [
    "Tz (10)"
   ]
  },
  {
   "cell_type": "code",
   "execution_count": 6,
   "id": "0f0f3131",
   "metadata": {},
   "outputs": [
    {
     "data": {
      "text/plain": [
       "array([[ 1.        ,  0.        ,  0.        ,  0.        ],\n",
       "       [ 0.        ,  0.8660254 , -0.5       , -5.        ],\n",
       "       [ 0.        ,  0.5       ,  0.8660254 ,  8.66025404],\n",
       "       [ 0.        ,  0.        ,  0.        ,  1.        ]])"
      ]
     },
     "execution_count": 6,
     "metadata": {},
     "output_type": "execute_result"
    }
   ],
   "source": [
    "Rx (30) @ Tz (10)"
   ]
  },
  {
   "cell_type": "code",
   "execution_count": null,
   "id": "4d6e814a",
   "metadata": {},
   "outputs": [],
   "source": []
  }
 ],
 "metadata": {
  "kernelspec": {
   "display_name": "Python 3 (ipykernel)",
   "language": "python",
   "name": "python3"
  },
  "language_info": {
   "codemirror_mode": {
    "name": "ipython",
    "version": 3
   },
   "file_extension": ".py",
   "mimetype": "text/x-python",
   "name": "python",
   "nbconvert_exporter": "python",
   "pygments_lexer": "ipython3",
   "version": "3.10.10"
  }
 },
 "nbformat": 4,
 "nbformat_minor": 5
}
