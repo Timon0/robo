{
 "cells": [
  {
   "cell_type": "code",
   "execution_count": 59,
   "id": "24ee09cc",
   "metadata": {},
   "outputs": [],
   "source": [
    "import serial as ser\n",
    "import numpy as np\n",
    "from math import pi, cos, sin, radians\n",
    "import time"
   ]
  },
  {
   "cell_type": "markdown",
   "id": "d9d25725",
   "metadata": {},
   "source": [
    "### Forward Kinematic (Vorherige Aufgabe)"
   ]
  },
  {
   "cell_type": "code",
   "execution_count": 15,
   "id": "2ef32a66",
   "metadata": {},
   "outputs": [],
   "source": [
    "def forward_kinematic_braccio(joint_angles):\n",
    "    ''' param: joints: current position of all the joints of the braccio '''\n",
    "    ''' return: current position'''\n",
    "\n",
    "    result = np.eye(4)\n",
    "    \n",
    "    ## initial translation\n",
    "    result = result @ translation([281, 0, 3])\n",
    "    \n",
    "    ## Joint 0 (Base b)\n",
    "    result = result @ rotate_z(90 - joint_angles[0]) @ translation([0, 0, 71]) \n",
    "    \n",
    "    ## Joint 1 (Shoulder s)\n",
    "    result = result @ rotate_y(90 - joint_angles[1]) @ translation([0, 0, 126]) \n",
    "    \n",
    "    ## Joint 2 (Elbow e)\n",
    "    result = result @ rotate_y(90 - joint_angles[2]) @ translation([0, 0, 124]) \n",
    "    \n",
    "    ## Joint 3 (Wrist tilt v)\n",
    "    result = result @ rotate_y(90 - joint_angles[3]) @ translation([0, 0, 60])\n",
    "\n",
    "    ## Joint 4 (Wrist rotate w)\n",
    "    result = result @ rotate_z(90 - joint_angles[4]) @ translation([0, 0, 134]) \n",
    "    \n",
    "    return result\n",
    "\n",
    "def translation(trans):\n",
    "    return np.array([\n",
    "        [1,0,0,trans[0]],\n",
    "        [0,1,0,trans[1]],\n",
    "        [0,0,1,trans[2]],\n",
    "        [0,0,0,1]\n",
    "    ])\n",
    "\n",
    "def rotate_z(theta):\n",
    "    rad = radians(theta)\n",
    "    return np.array([\n",
    "        [cos(rad), -sin(rad), 0, 0],\n",
    "        [sin(rad), cos(rad), 0, 0],\n",
    "        [0,0,1,0],\n",
    "        [0,0,0,1]\n",
    "    ])\n",
    "\n",
    "def rotate_y(theta):\n",
    "    rad = radians(theta)\n",
    "    return np.array([\n",
    "        [cos(rad),0, sin(rad), 0],\n",
    "        [0,1,0,0],\n",
    "        [-sin(rad),0, cos(rad), 0],\n",
    "        [0,0,0,1]\n",
    "    ])\n",
    "\n",
    "def forward_kinematic_braccio_fixed(joint_angles):\n",
    "    b = joint_angles[0]\n",
    "    s = 110\n",
    "    e = joint_angles[1]\n",
    "    v = joint_angles[2]\n",
    "    w = 90\n",
    "    g = 73\n",
    "    joint_angles_with_fixed = [b, s, e, v, w, g]\n",
    "    return forward_kinematic_braccio(joint_angles_with_fixed)"
   ]
  },
  {
   "cell_type": "code",
   "execution_count": 39,
   "id": "beb843e8",
   "metadata": {},
   "outputs": [
    {
     "name": "stdout",
     "output_type": "stream",
     "text": [
      "[  78.82944746 -116.72322293   10.10090179]\n"
     ]
    }
   ],
   "source": [
    "result = forward_kinematic_braccio_fixed([60, 160, 160])[0:3,3]\n",
    "print(result)"
   ]
  },
  {
   "cell_type": "markdown",
   "id": "8b68529e",
   "metadata": {},
   "source": [
    "### Rückwärts Kinematik"
   ]
  },
  {
   "cell_type": "code",
   "execution_count": 17,
   "id": "24f52820",
   "metadata": {},
   "outputs": [],
   "source": [
    "def F(x_soll, joint_angles):\n",
    "    transformation_matrix = forward_kinematic_braccio_fixed(joint_angles)\n",
    "    x_ist = transformation_matrix[0:3,3]\n",
    "    return x_ist - x_soll\n",
    "\n",
    "def dF_theta1(x_soll, joint_angles):\n",
    "    h = 1E-4\n",
    "    new_joint_angles = [joint_angles[0]+ h, joint_angles[1], joint_angles[2]]\n",
    "    return (F(x_soll, new_joint_angles) - F(x_soll, joint_angles)) / h\n",
    "\n",
    "def dF_theta2(x_soll, joint_angles):\n",
    "    h = 1E-4\n",
    "    new_joint_angles = [joint_angles[0], joint_angles[1] + h, joint_angles[2]]\n",
    "    return (F(x_soll, new_joint_angles) - F(x_soll, joint_angles)) / h\n",
    "\n",
    "def dF_theta3(x_soll, joint_angles):\n",
    "    h = 1E-4\n",
    "    new_joint_angles = [joint_angles[0], joint_angles[1], joint_angles[2] + h]\n",
    "    return (F(x_soll, new_joint_angles) - F(x_soll, joint_angles)) / h"
   ]
  },
  {
   "cell_type": "code",
   "execution_count": 18,
   "id": "b9aae53d",
   "metadata": {},
   "outputs": [],
   "source": [
    "def jaccobi(x_soll, joint_angles):\n",
    "    return np.stack((\n",
    "        dF_theta1(x_soll, joint_angles),\n",
    "        dF_theta2(x_soll, joint_angles),\n",
    "        dF_theta3(x_soll, joint_angles)\n",
    "    ), axis=-1)\n",
    "\n",
    "def inv_jaccobi(x_soll, joint_angles):\n",
    "    return np.linalg.pinv(jaccobi(x_soll, joint_angles))"
   ]
  },
  {
   "cell_type": "code",
   "execution_count": 19,
   "id": "5b70fe07",
   "metadata": {},
   "outputs": [],
   "source": [
    "def backward_kinematic_braccio(x_soll, theta_0, max_iter=1000, error=1, alpha=1):\n",
    "    \n",
    "    theta_i = theta_0\n",
    "    \n",
    "    for i in range(max_iter):\n",
    "        transformation_matrix = forward_kinematic_braccio_fixed(theta_i)\n",
    "        x_ist = transformation_matrix[0:3,3]\n",
    "        diff = np.linalg.norm(x_soll - x_ist)\n",
    "                \n",
    "        if diff < error:\n",
    "            return theta_i\n",
    "        \n",
    "        j_inv = inv_jaccobi(x_soll, theta_i)\n",
    "        theta_i = theta_i - alpha * j_inv.dot(F(x_soll, theta_i))\n",
    "        \n",
    "    raise Exception(\"Sorry, no solution found\") "
   ]
  },
  {
   "cell_type": "code",
   "execution_count": 63,
   "id": "1fc4137d",
   "metadata": {},
   "outputs": [],
   "source": [
    "def linear_backward(x_soll, theta_0, splits=20):\n",
    "    joints = []\n",
    "    coordinates = forward_kinematic_braccio_fixed([60, 160, 160])[0:3,3]\n",
    "    correction = (x_soll - coordinates)/splits\n",
    "    theta_i = theta_0\n",
    "    for i in range(splits):\n",
    "        coordinates += correction\n",
    "        theta_i = backward_kinematic_braccio(coordinates, theta_i)\n",
    "        joints.append(theta_i)\n",
    "    return joints"
   ]
  },
  {
   "cell_type": "code",
   "execution_count": 64,
   "id": "ed87ba35",
   "metadata": {},
   "outputs": [
    {
     "name": "stdout",
     "output_type": "stream",
     "text": [
      "[ 62.78693836 157.58591187 163.04413909]\n",
      "[ 65.64214134 155.37232722 165.52570345]\n",
      "[ 68.51477416 153.26637871 167.67209468]\n",
      "[ 71.39508918 151.26462093 169.49266769]\n",
      "[ 74.26846021 149.36601482 170.99476125]\n",
      "[ 77.12046095 147.57313085 172.18297305]\n",
      "[ 79.93731657 145.89169493 173.05961073]\n",
      "[ 82.70627654 144.33002898 173.62530012]\n",
      "[ 85.41592473 142.89849156 173.87943179]\n",
      "[ 88.05640083 141.60892812 173.82046431]\n",
      "[ 90.61952767 140.474158   173.44608906]\n",
      "[ 93.09884852 139.50753485 172.75325147]\n",
      "[ 95.48958594 138.72262106 171.73801742]\n",
      "[ 97.78853835 138.13301617 170.39526682]\n",
      "[ 99.99393227 137.75237714 168.71818678]\n",
      "[102.10524768 137.59466955 166.69751856]\n",
      "[104.12303163 137.67469898 164.32047999]\n",
      "[106.04871245 138.00899951 161.56922569]\n",
      "[107.88442338 138.61721673 158.41859787]\n",
      "[109.6328417  139.52424679 154.83271058]\n"
     ]
    }
   ],
   "source": [
    "x_goal = np.array([0, 100, 100])\n",
    "theta_0 = np.array([60, 160, 160])\n",
    "joints = linear_backward(x_goal, theta_0)\n",
    "for joint in joints:\n",
    "    print(joint)"
   ]
  },
  {
   "cell_type": "markdown",
   "id": "f49245e1",
   "metadata": {},
   "source": [
    "### Input to Braccio"
   ]
  },
  {
   "cell_type": "code",
   "execution_count": 69,
   "id": "1ce1637f",
   "metadata": {},
   "outputs": [],
   "source": [
    "s = ser.Serial ('COM9', baudrate = 9600, parity = 'N', bytesize = 8, stopbits = 1, timeout = None)"
   ]
  },
  {
   "cell_type": "code",
   "execution_count": 52,
   "id": "5c490d8a",
   "metadata": {},
   "outputs": [],
   "source": [
    "def reset():\n",
    "    s.write (b'90 b 90 s 90 e 90 v 90 w 60 g\\r\\n')"
   ]
  },
  {
   "cell_type": "code",
   "execution_count": 78,
   "id": "43b29f1c",
   "metadata": {},
   "outputs": [],
   "source": [
    "def go_to_joint(joint):\n",
    "    value = f'{int(joint[0])} b 110 s {int(joint[1])} e {int(joint[2])} v 90 w 73 g\\r\\n'.encode('utf-8')\n",
    "    s.write (value)"
   ]
  },
  {
   "cell_type": "code",
   "execution_count": 82,
   "id": "c3cdeccc",
   "metadata": {},
   "outputs": [
    {
     "ename": "SerialTimeoutException",
     "evalue": "Write timeout",
     "output_type": "error",
     "traceback": [
      "\u001b[1;31m---------------------------------------------------------------------------\u001b[0m",
      "\u001b[1;31mSerialTimeoutException\u001b[0m                    Traceback (most recent call last)",
      "Input \u001b[1;32mIn [82]\u001b[0m, in \u001b[0;36m<cell line: 1>\u001b[1;34m()\u001b[0m\n\u001b[1;32m----> 1\u001b[0m \u001b[43mreset\u001b[49m\u001b[43m(\u001b[49m\u001b[43m)\u001b[49m\n",
      "Input \u001b[1;32mIn [52]\u001b[0m, in \u001b[0;36mreset\u001b[1;34m()\u001b[0m\n\u001b[0;32m      1\u001b[0m \u001b[38;5;28;01mdef\u001b[39;00m \u001b[38;5;21mreset\u001b[39m():\n\u001b[1;32m----> 2\u001b[0m     \u001b[43ms\u001b[49m\u001b[38;5;241;43m.\u001b[39;49m\u001b[43mwrite\u001b[49m\u001b[43m \u001b[49m\u001b[43m(\u001b[49m\u001b[38;5;124;43mb\u001b[39;49m\u001b[38;5;124;43m'\u001b[39;49m\u001b[38;5;124;43m90 b 90 s 90 e 90 v 90 w 60 g\u001b[39;49m\u001b[38;5;130;43;01m\\r\u001b[39;49;00m\u001b[38;5;130;43;01m\\n\u001b[39;49;00m\u001b[38;5;124;43m'\u001b[39;49m\u001b[43m)\u001b[49m\n",
      "File \u001b[1;32m~\\anaconda3\\lib\\site-packages\\serial\\serialwin32.py:325\u001b[0m, in \u001b[0;36mSerial.write\u001b[1;34m(self, data)\u001b[0m\n\u001b[0;32m    323\u001b[0m         \u001b[38;5;28;01mreturn\u001b[39;00m n\u001b[38;5;241m.\u001b[39mvalue  \u001b[38;5;66;03m# canceled IO is no error\u001b[39;00m\n\u001b[0;32m    324\u001b[0m     \u001b[38;5;28;01mif\u001b[39;00m n\u001b[38;5;241m.\u001b[39mvalue \u001b[38;5;241m!=\u001b[39m \u001b[38;5;28mlen\u001b[39m(data):\n\u001b[1;32m--> 325\u001b[0m         \u001b[38;5;28;01mraise\u001b[39;00m SerialTimeoutException(\u001b[38;5;124m'\u001b[39m\u001b[38;5;124mWrite timeout\u001b[39m\u001b[38;5;124m'\u001b[39m)\n\u001b[0;32m    326\u001b[0m     \u001b[38;5;28;01mreturn\u001b[39;00m n\u001b[38;5;241m.\u001b[39mvalue\n\u001b[0;32m    327\u001b[0m \u001b[38;5;28;01melse\u001b[39;00m:\n",
      "\u001b[1;31mSerialTimeoutException\u001b[0m: Write timeout"
     ]
    }
   ],
   "source": [
    "reset()"
   ]
  },
  {
   "cell_type": "code",
   "execution_count": 79,
   "id": "71c96ba5",
   "metadata": {},
   "outputs": [],
   "source": [
    "go_to_joint(joints[0])"
   ]
  },
  {
   "cell_type": "code",
   "execution_count": 80,
   "id": "a885358f",
   "metadata": {},
   "outputs": [
    {
     "ename": "KeyboardInterrupt",
     "evalue": "",
     "output_type": "error",
     "traceback": [
      "\u001b[1;31m---------------------------------------------------------------------------\u001b[0m",
      "\u001b[1;31mKeyboardInterrupt\u001b[0m                         Traceback (most recent call last)",
      "Input \u001b[1;32mIn [80]\u001b[0m, in \u001b[0;36m<cell line: 1>\u001b[1;34m()\u001b[0m\n\u001b[0;32m      1\u001b[0m \u001b[38;5;28;01mfor\u001b[39;00m joint \u001b[38;5;129;01min\u001b[39;00m joints:\n\u001b[0;32m      2\u001b[0m     time\u001b[38;5;241m.\u001b[39msleep(\u001b[38;5;241m2\u001b[39m)\n\u001b[1;32m----> 3\u001b[0m     \u001b[43mgo_to_joint\u001b[49m\u001b[43m(\u001b[49m\u001b[43mjoint\u001b[49m\u001b[43m)\u001b[49m\n",
      "Input \u001b[1;32mIn [78]\u001b[0m, in \u001b[0;36mgo_to_joint\u001b[1;34m(joint)\u001b[0m\n\u001b[0;32m      1\u001b[0m \u001b[38;5;28;01mdef\u001b[39;00m \u001b[38;5;21mgo_to_joint\u001b[39m(joint):\n\u001b[0;32m      2\u001b[0m     value \u001b[38;5;241m=\u001b[39m \u001b[38;5;124mf\u001b[39m\u001b[38;5;124m'\u001b[39m\u001b[38;5;132;01m{\u001b[39;00m\u001b[38;5;28mint\u001b[39m(joint[\u001b[38;5;241m0\u001b[39m])\u001b[38;5;132;01m}\u001b[39;00m\u001b[38;5;124m b 110 s \u001b[39m\u001b[38;5;132;01m{\u001b[39;00m\u001b[38;5;28mint\u001b[39m(joint[\u001b[38;5;241m1\u001b[39m])\u001b[38;5;132;01m}\u001b[39;00m\u001b[38;5;124m e \u001b[39m\u001b[38;5;132;01m{\u001b[39;00m\u001b[38;5;28mint\u001b[39m(joint[\u001b[38;5;241m2\u001b[39m])\u001b[38;5;132;01m}\u001b[39;00m\u001b[38;5;124m v 90 w 73 g\u001b[39m\u001b[38;5;130;01m\\r\u001b[39;00m\u001b[38;5;130;01m\\n\u001b[39;00m\u001b[38;5;124m'\u001b[39m\u001b[38;5;241m.\u001b[39mencode(\u001b[38;5;124m'\u001b[39m\u001b[38;5;124mutf-8\u001b[39m\u001b[38;5;124m'\u001b[39m)\n\u001b[1;32m----> 3\u001b[0m     \u001b[43ms\u001b[49m\u001b[38;5;241;43m.\u001b[39;49m\u001b[43mwrite\u001b[49m\u001b[43m \u001b[49m\u001b[43m(\u001b[49m\u001b[43mvalue\u001b[49m\u001b[43m)\u001b[49m\n",
      "File \u001b[1;32m~\\anaconda3\\lib\\site-packages\\serial\\serialwin32.py:321\u001b[0m, in \u001b[0;36mSerial.write\u001b[1;34m(self, data)\u001b[0m\n\u001b[0;32m    317\u001b[0m     \u001b[38;5;28;01mraise\u001b[39;00m SerialException(\u001b[38;5;124m\"\u001b[39m\u001b[38;5;124mWriteFile failed (\u001b[39m\u001b[38;5;132;01m{!r}\u001b[39;00m\u001b[38;5;124m)\u001b[39m\u001b[38;5;124m\"\u001b[39m\u001b[38;5;241m.\u001b[39mformat(ctypes\u001b[38;5;241m.\u001b[39mWinError()))\n\u001b[0;32m    319\u001b[0m \u001b[38;5;66;03m# Wait for the write to complete.\u001b[39;00m\n\u001b[0;32m    320\u001b[0m \u001b[38;5;66;03m#~ win32.WaitForSingleObject(self._overlapped_write.hEvent, win32.INFINITE)\u001b[39;00m\n\u001b[1;32m--> 321\u001b[0m \u001b[43mwin32\u001b[49m\u001b[38;5;241;43m.\u001b[39;49m\u001b[43mGetOverlappedResult\u001b[49m\u001b[43m(\u001b[49m\u001b[38;5;28;43mself\u001b[39;49m\u001b[38;5;241;43m.\u001b[39;49m\u001b[43m_port_handle\u001b[49m\u001b[43m,\u001b[49m\u001b[43m \u001b[49m\u001b[38;5;28;43mself\u001b[39;49m\u001b[38;5;241;43m.\u001b[39;49m\u001b[43m_overlapped_write\u001b[49m\u001b[43m,\u001b[49m\u001b[43m \u001b[49m\u001b[43mctypes\u001b[49m\u001b[38;5;241;43m.\u001b[39;49m\u001b[43mbyref\u001b[49m\u001b[43m(\u001b[49m\u001b[43mn\u001b[49m\u001b[43m)\u001b[49m\u001b[43m,\u001b[49m\u001b[43m \u001b[49m\u001b[38;5;28;43;01mTrue\u001b[39;49;00m\u001b[43m)\u001b[49m\n\u001b[0;32m    322\u001b[0m \u001b[38;5;28;01mif\u001b[39;00m win32\u001b[38;5;241m.\u001b[39mGetLastError() \u001b[38;5;241m==\u001b[39m win32\u001b[38;5;241m.\u001b[39mERROR_OPERATION_ABORTED:\n\u001b[0;32m    323\u001b[0m     \u001b[38;5;28;01mreturn\u001b[39;00m n\u001b[38;5;241m.\u001b[39mvalue  \u001b[38;5;66;03m# canceled IO is no error\u001b[39;00m\n",
      "\u001b[1;31mKeyboardInterrupt\u001b[0m: "
     ]
    }
   ],
   "source": [
    "for joint in joints:\n",
    "    time.sleep(2)\n",
    "    go_to_joint(joint)"
   ]
  },
  {
   "cell_type": "code",
   "execution_count": 77,
   "id": "e85330b0",
   "metadata": {},
   "outputs": [
    {
     "name": "stdout",
     "output_type": "stream",
     "text": [
      "[ 62.78693836 157.58591187 163.04413909]\n"
     ]
    }
   ],
   "source": [
    "print(joints[0])"
   ]
  },
  {
   "cell_type": "markdown",
   "id": "c0738692",
   "metadata": {},
   "source": [
    "## Port schliessen"
   ]
  },
  {
   "cell_type": "code",
   "execution_count": 68,
   "id": "1c1f7b75",
   "metadata": {},
   "outputs": [],
   "source": [
    "s.close()"
   ]
  }
 ],
 "metadata": {
  "kernelspec": {
   "display_name": "robok1",
   "language": "python",
   "name": "robok1"
  },
  "language_info": {
   "codemirror_mode": {
    "name": "ipython",
    "version": 3
   },
   "file_extension": ".py",
   "mimetype": "text/x-python",
   "name": "python",
   "nbconvert_exporter": "python",
   "pygments_lexer": "ipython3",
   "version": "3.9.7"
  }
 },
 "nbformat": 4,
 "nbformat_minor": 5
}
