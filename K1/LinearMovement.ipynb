{
 "cells": [
  {
   "cell_type": "code",
   "execution_count": 1,
   "id": "24ee09cc",
   "metadata": {},
   "outputs": [],
   "source": [
    "import serial as ser\n",
    "import numpy as np\n",
    "from math import pi, cos, sin, radians\n",
    "import time"
   ]
  },
  {
   "cell_type": "markdown",
   "id": "d9d25725",
   "metadata": {},
   "source": [
    "### Forward Kinematic (Vorherige Aufgabe)"
   ]
  },
  {
   "cell_type": "code",
   "execution_count": 4,
   "id": "2ef32a66",
   "metadata": {},
   "outputs": [],
   "source": [
    "def forward_kinematic_braccio(joint_angles):\n",
    "    ''' param: joints: current position of all the joints of the braccio '''\n",
    "    ''' return: current position'''\n",
    "\n",
    "    result = np.eye(4)\n",
    "    \n",
    "    ## initial translation\n",
    "    result = result @ translation([281, 0, 3])\n",
    "    \n",
    "    ## Joint 0 (Base b)\n",
    "    result = result @ rotate_z(90 - joint_angles[0]) @ translation([0, 0, 71]) \n",
    "    \n",
    "    ## Joint 1 (Shoulder s)\n",
    "    result = result @ rotate_y(90 - joint_angles[1]) @ translation([0, 0, 126]) \n",
    "    \n",
    "    ## Joint 2 (Elbow e)\n",
    "    result = result @ rotate_y(90 - joint_angles[2]) @ translation([0, 0, 124]) \n",
    "    \n",
    "    ## Joint 3 (Wrist tilt v)\n",
    "    result = result @ rotate_y(90 - joint_angles[3]) @ translation([0, 0, 60])\n",
    "\n",
    "    ## Joint 4 (Wrist rotate w)\n",
    "    result = result @ rotate_z(90 - joint_angles[4]) @ translation([0, 0, 134]) \n",
    "    \n",
    "    return result\n",
    "\n",
    "def translation(trans):\n",
    "    return np.array([\n",
    "        [1,0,0,trans[0]],\n",
    "        [0,1,0,trans[1]],\n",
    "        [0,0,1,trans[2]],\n",
    "        [0,0,0,1]\n",
    "    ])\n",
    "\n",
    "def rotate_z(theta):\n",
    "    rad = radians(theta)\n",
    "    return np.array([\n",
    "        [cos(rad), -sin(rad), 0, 0],\n",
    "        [sin(rad), cos(rad), 0, 0],\n",
    "        [0,0,1,0],\n",
    "        [0,0,0,1]\n",
    "    ])\n",
    "\n",
    "def rotate_y(theta):\n",
    "    rad = radians(theta)\n",
    "    return np.array([\n",
    "        [cos(rad),0, sin(rad), 0],\n",
    "        [0,1,0,0],\n",
    "        [-sin(rad),0, cos(rad), 0],\n",
    "        [0,0,0,1]\n",
    "    ])\n",
    "\n",
    "def forward_kinematic_braccio_fixed(joint_angles):\n",
    "    b = joint_angles[0]\n",
    "    s = 110\n",
    "    e = joint_angles[1]\n",
    "    v = joint_angles[2]\n",
    "    w = 90\n",
    "    g = 73\n",
    "    joint_angles_with_fixed = [b, s, e, v, w, g]\n",
    "    return forward_kinematic_braccio(joint_angles_with_fixed)"
   ]
  },
  {
   "cell_type": "code",
   "execution_count": 5,
   "id": "beb843e8",
   "metadata": {},
   "outputs": [
    {
     "name": "stdout",
     "output_type": "stream",
     "text": [
      "[  78.82944746 -116.72322293   10.10090179]\n"
     ]
    }
   ],
   "source": [
    "result = forward_kinematic_braccio_fixed([60, 160, 160])[0:3,3]\n",
    "print(result)"
   ]
  },
  {
   "cell_type": "markdown",
   "id": "8b68529e",
   "metadata": {},
   "source": [
    "### Rückwärts Kinematik"
   ]
  },
  {
   "cell_type": "code",
   "execution_count": 6,
   "id": "24f52820",
   "metadata": {},
   "outputs": [],
   "source": [
    "def F(x_soll, joint_angles):\n",
    "    transformation_matrix = forward_kinematic_braccio_fixed(joint_angles)\n",
    "    x_ist = transformation_matrix[0:3,3]\n",
    "    return x_ist - x_soll\n",
    "\n",
    "def dF_theta1(x_soll, joint_angles):\n",
    "    h = 1E-4\n",
    "    new_joint_angles = [joint_angles[0]+ h, joint_angles[1], joint_angles[2]]\n",
    "    return (F(x_soll, new_joint_angles) - F(x_soll, joint_angles)) / h\n",
    "\n",
    "def dF_theta2(x_soll, joint_angles):\n",
    "    h = 1E-4\n",
    "    new_joint_angles = [joint_angles[0], joint_angles[1] + h, joint_angles[2]]\n",
    "    return (F(x_soll, new_joint_angles) - F(x_soll, joint_angles)) / h\n",
    "\n",
    "def dF_theta3(x_soll, joint_angles):\n",
    "    h = 1E-4\n",
    "    new_joint_angles = [joint_angles[0], joint_angles[1], joint_angles[2] + h]\n",
    "    return (F(x_soll, new_joint_angles) - F(x_soll, joint_angles)) / h"
   ]
  },
  {
   "cell_type": "code",
   "execution_count": 7,
   "id": "b9aae53d",
   "metadata": {},
   "outputs": [],
   "source": [
    "def jaccobi(x_soll, joint_angles):\n",
    "    return np.stack((\n",
    "        dF_theta1(x_soll, joint_angles),\n",
    "        dF_theta2(x_soll, joint_angles),\n",
    "        dF_theta3(x_soll, joint_angles)\n",
    "    ), axis=-1)\n",
    "\n",
    "def inv_jaccobi(x_soll, joint_angles):\n",
    "    return np.linalg.pinv(jaccobi(x_soll, joint_angles))"
   ]
  },
  {
   "cell_type": "code",
   "execution_count": 8,
   "id": "5b70fe07",
   "metadata": {},
   "outputs": [],
   "source": [
    "def backward_kinematic_braccio(x_soll, theta_0, max_iter=1000, error=1, alpha=1):\n",
    "    \n",
    "    theta_i = theta_0\n",
    "    \n",
    "    for i in range(max_iter):\n",
    "        transformation_matrix = forward_kinematic_braccio_fixed(theta_i)\n",
    "        x_ist = transformation_matrix[0:3,3]\n",
    "        diff = np.linalg.norm(x_soll - x_ist)\n",
    "                \n",
    "        if diff < error:\n",
    "            return theta_i\n",
    "        \n",
    "        j_inv = inv_jaccobi(x_soll, theta_i)\n",
    "        theta_i = theta_i - alpha * j_inv.dot(F(x_soll, theta_i))\n",
    "        \n",
    "    raise Exception(\"Sorry, no solution found\") "
   ]
  },
  {
   "cell_type": "code",
   "execution_count": 9,
   "id": "1fc4137d",
   "metadata": {},
   "outputs": [],
   "source": [
    "def linear_backward(x_soll, theta_0, splits=10):\n",
    "    joints = []\n",
    "    positions = []\n",
    "    coordinates = forward_kinematic_braccio_fixed(theta_0)[0:3,3]\n",
    "    positions.append(coordinates)\n",
    "    print(coordinates)\n",
    "    correction = (x_soll - coordinates)/splits\n",
    "    theta_i = theta_0\n",
    "    for i in range(splits):\n",
    "        coordinates = coordinates + correction\n",
    "        positions.append(coordinates)\n",
    "        print(coordinates)\n",
    "        theta_i = backward_kinematic_braccio(coordinates, theta_i)\n",
    "        joints.append(theta_i)\n",
    "    return joints, positions"
   ]
  },
  {
   "cell_type": "code",
   "execution_count": 10,
   "id": "ed87ba35",
   "metadata": {},
   "outputs": [
    {
     "name": "stdout",
     "output_type": "stream",
     "text": [
      "[  78.82944746 -116.72322293   10.10090179]\n",
      "[ 70.94650271 -95.05090064  19.09081161]\n",
      "[ 63.06355797 -73.37857835  28.08072143]\n",
      "[ 55.18061322 -51.70625605  37.07063125]\n",
      "[ 47.29766848 -30.03393376  46.06054107]\n",
      "[39.41472373 -8.36161147 55.05045089]\n",
      "[31.53177898 13.31071083 64.04036071]\n",
      "[23.64883424 34.98303312 73.03027054]\n",
      "[15.76588949 56.65535541 82.02018036]\n",
      "[ 7.88294475 78.32767771 91.01009018]\n",
      "[1.24344979e-14 1.00000000e+02 1.00000000e+02]\n",
      "[ 65.65340875 155.42730881 165.35557343]\n",
      "[ 71.39192827 151.31457419 169.33443724]\n",
      "[ 77.10299823 147.6260059  172.02950135]\n",
      "[ 82.67635132 144.39137113 173.47285281]\n",
      "[ 88.01701606 141.68208119 173.66694976]\n",
      "[ 93.05343302 139.59389314 172.5970924 ]\n",
      "[ 97.7402928  138.23282696 170.23419655]\n",
      "[102.05674721 137.70845568 166.52704118]\n",
      "[106.00177418 138.13971091 161.38013098]\n",
      "[109.58856932 139.68112081 154.60560638]\n"
     ]
    }
   ],
   "source": [
    "x_goal = np.array([0, 100, 100])\n",
    "theta_0 = np.array([60, 160, 160])\n",
    "joints, positions = linear_backward(x_goal, theta_0)\n",
    "for joint in joints:\n",
    "    print(joint)"
   ]
  },
  {
   "cell_type": "code",
   "execution_count": 49,
   "id": "783be4e4",
   "metadata": {},
   "outputs": [
    {
     "data": {
      "text/plain": [
       "array([  78.82944746, -116.72322293,   10.10090179])"
      ]
     },
     "execution_count": 49,
     "metadata": {},
     "output_type": "execute_result"
    }
   ],
   "source": [
    "forward_kinematic_braccio_fixed([60, 160, 160])[0:3,3]"
   ]
  },
  {
   "cell_type": "markdown",
   "id": "f49245e1",
   "metadata": {},
   "source": [
    "### Input to Braccio"
   ]
  },
  {
   "cell_type": "code",
   "execution_count": 55,
   "id": "1ce1637f",
   "metadata": {},
   "outputs": [],
   "source": [
    "s = ser.Serial ('COM9', baudrate = 9600, parity = 'N', bytesize = 8, stopbits = 1, timeout = None)"
   ]
  },
  {
   "cell_type": "code",
   "execution_count": 44,
   "id": "5c490d8a",
   "metadata": {},
   "outputs": [],
   "source": [
    "def reset():\n",
    "    s.write (b'90 b 90 s 90 e 90 v 90 w 60 g\\r\\n')"
   ]
  },
  {
   "cell_type": "code",
   "execution_count": 45,
   "id": "43b29f1c",
   "metadata": {},
   "outputs": [],
   "source": [
    "def go_to_joint(joint):\n",
    "    value = f'{int(joint[0])} b 110 s {int(joint[1])} e {int(joint[2])} v 90 w 73 g\\r\\n'.encode('utf-8')\n",
    "    s.write (value)\n",
    "    print(s.read())"
   ]
  },
  {
   "cell_type": "code",
   "execution_count": 60,
   "id": "c3cdeccc",
   "metadata": {},
   "outputs": [],
   "source": [
    "reset()"
   ]
  },
  {
   "cell_type": "code",
   "execution_count": 57,
   "id": "71c96ba5",
   "metadata": {},
   "outputs": [
    {
     "name": "stdout",
     "output_type": "stream",
     "text": [
      "b'i'\n"
     ]
    }
   ],
   "source": [
    "go_to_joint(joints[0])"
   ]
  },
  {
   "cell_type": "code",
   "execution_count": 58,
   "id": "a885358f",
   "metadata": {},
   "outputs": [
    {
     "name": "stdout",
     "output_type": "stream",
     "text": [
      "b'n'\n",
      "b'i'\n",
      "b't'\n",
      "b'i'\n",
      "b'a'\n",
      "b'l'\n",
      "b'i'\n",
      "b'z'\n",
      "b'i'\n",
      "b'n'\n"
     ]
    }
   ],
   "source": [
    "for i, joint in enumerate(joints):\n",
    "    time.sleep(1)\n",
    "    go_to_joint(joint)"
   ]
  },
  {
   "cell_type": "code",
   "execution_count": 41,
   "id": "e85330b0",
   "metadata": {
    "scrolled": true
   },
   "outputs": [
    {
     "name": "stdout",
     "output_type": "stream",
     "text": [
      "10\n"
     ]
    }
   ],
   "source": [
    "print(len(joints))"
   ]
  },
  {
   "cell_type": "code",
   "execution_count": 14,
   "id": "c5a4473c",
   "metadata": {},
   "outputs": [
    {
     "data": {
      "text/plain": [
       "6"
      ]
     },
     "execution_count": 14,
     "metadata": {},
     "output_type": "execute_result"
    }
   ],
   "source": [
    "s.write (b'80 b\\r\\n')"
   ]
  },
  {
   "cell_type": "code",
   "execution_count": 61,
   "id": "0fe40756",
   "metadata": {},
   "outputs": [
    {
     "data": {
      "text/plain": [
       "b'g, please wait ...\\r\\ndone\\r\\n\\r\\nb: base           90\\r\\ns: shoulder   '"
      ]
     },
     "execution_count": 61,
     "metadata": {},
     "output_type": "execute_result"
    }
   ],
   "source": [
    "s.read(size=64)"
   ]
  },
  {
   "cell_type": "markdown",
   "id": "c0738692",
   "metadata": {},
   "source": [
    "## Port schliessen"
   ]
  },
  {
   "cell_type": "code",
   "execution_count": 63,
   "id": "1c1f7b75",
   "metadata": {},
   "outputs": [],
   "source": [
    "s.close()"
   ]
  },
  {
   "cell_type": "markdown",
   "id": "e821977a",
   "metadata": {},
   "source": [
    "### Plot linear movement"
   ]
  },
  {
   "cell_type": "code",
   "execution_count": 2,
   "id": "01d026c7",
   "metadata": {},
   "outputs": [],
   "source": [
    "import plotly.graph_objects as go\n",
    "import pandas as pd"
   ]
  },
  {
   "cell_type": "code",
   "execution_count": 11,
   "id": "677d34d9",
   "metadata": {},
   "outputs": [],
   "source": [
    "data = pd.DataFrame(positions, columns = ['x','y','z'])"
   ]
  },
  {
   "cell_type": "code",
   "execution_count": 12,
   "id": "7892c61c",
   "metadata": {},
   "outputs": [
    {
     "data": {
      "text/html": [
       "<div>\n",
       "<style scoped>\n",
       "    .dataframe tbody tr th:only-of-type {\n",
       "        vertical-align: middle;\n",
       "    }\n",
       "\n",
       "    .dataframe tbody tr th {\n",
       "        vertical-align: top;\n",
       "    }\n",
       "\n",
       "    .dataframe thead th {\n",
       "        text-align: right;\n",
       "    }\n",
       "</style>\n",
       "<table border=\"1\" class=\"dataframe\">\n",
       "  <thead>\n",
       "    <tr style=\"text-align: right;\">\n",
       "      <th></th>\n",
       "      <th>x</th>\n",
       "      <th>y</th>\n",
       "      <th>z</th>\n",
       "    </tr>\n",
       "  </thead>\n",
       "  <tbody>\n",
       "    <tr>\n",
       "      <th>0</th>\n",
       "      <td>281</td>\n",
       "      <td>0</td>\n",
       "      <td>0</td>\n",
       "    </tr>\n",
       "    <tr>\n",
       "      <th>1</th>\n",
       "      <td>281</td>\n",
       "      <td>0</td>\n",
       "      <td>37</td>\n",
       "    </tr>\n",
       "    <tr>\n",
       "      <th>2</th>\n",
       "      <td>281</td>\n",
       "      <td>0</td>\n",
       "      <td>100</td>\n",
       "    </tr>\n",
       "    <tr>\n",
       "      <th>3</th>\n",
       "      <td>281</td>\n",
       "      <td>0</td>\n",
       "      <td>162</td>\n",
       "    </tr>\n",
       "    <tr>\n",
       "      <th>4</th>\n",
       "      <td>281</td>\n",
       "      <td>0</td>\n",
       "      <td>260</td>\n",
       "    </tr>\n",
       "  </tbody>\n",
       "</table>\n",
       "</div>"
      ],
      "text/plain": [
       "     x  y    z\n",
       "0  281  0    0\n",
       "1  281  0   37\n",
       "2  281  0  100\n",
       "3  281  0  162\n",
       "4  281  0  260"
      ]
     },
     "execution_count": 12,
     "metadata": {},
     "output_type": "execute_result"
    }
   ],
   "source": [
    "positions_braccio = np.array([[281, 0, 0], [281, 0, 37], [281, 0, 100], [281, 0, 162], [281, 0, 260]])\n",
    "data_braccio = pd.DataFrame(positions_braccio, columns = ['x','y','z'])\n",
    "data_braccio.head()"
   ]
  },
  {
   "cell_type": "code",
   "execution_count": 45,
   "id": "9a9f775d",
   "metadata": {},
   "outputs": [
    {
     "data": {
      "application/vnd.plotly.v1+json": {
       "config": {
        "plotlyServerURL": "https://plot.ly"
       },
       "data": [
        {
         "name": "Calculated points for a linear movement",
         "type": "scatter3d",
         "x": [
          78.82944745840194,
          70.94650271256175,
          63.06355796672156,
          55.18061322088137,
          47.29766847504118,
          39.414723729200986,
          31.53177898336079,
          23.648834237520596,
          15.7658894916804,
          7.882944745840207,
          1.2434497875801753e-14
         ],
         "y": [
          -116.72322293210699,
          -95.0509006388963,
          -73.3785783456856,
          -51.7062560524749,
          -30.0339337592642,
          -8.361611466053503,
          13.310710827157195,
          34.98303312036789,
          56.65535541357859,
          78.32767770678929,
          99.99999999999999
         ],
         "z": [
          10.100901786558296,
          19.090811607902467,
          28.080721429246637,
          37.07063125059081,
          46.06054107193498,
          55.05045089327915,
          64.04036071462332,
          73.03027053596749,
          82.02018035731166,
          91.01009017865583,
          100
         ]
        },
        {
         "name": "Braccio",
         "type": "scatter3d",
         "x": [
          281,
          281,
          281,
          281,
          281
         ],
         "y": [
          0,
          0,
          0,
          0,
          0
         ],
         "z": [
          0,
          37,
          100,
          162,
          260
         ]
        }
       ],
       "layout": {
        "margin": {
         "b": 0,
         "l": 0,
         "r": 0,
         "t": 0
        },
        "scene": {
         "aspectmode": "data",
         "camera": {
          "center": {
           "x": 0,
           "y": 0,
           "z": 0
          },
          "eye": {
           "x": -1.3,
           "y": -1.7,
           "z": 0.06
          },
          "up": {
           "x": 0,
           "y": 0,
           "z": 1
          }
         },
         "xaxis": {
          "backgroundcolor": "rgba(0,0,0,0)",
          "range": [
           0,
           400
          ]
         },
         "yaxis": {
          "backgroundcolor": "rgba(0,0,0,0)",
          "range": [
           -150,
           150
          ]
         },
         "zaxis": {
          "backgroundcolor": "rgba(205,133,63,1)",
          "range": [
           0,
           265
          ],
          "showticklabels": false
         }
        },
        "template": {
         "data": {
          "bar": [
           {
            "error_x": {
             "color": "#2a3f5f"
            },
            "error_y": {
             "color": "#2a3f5f"
            },
            "marker": {
             "line": {
              "color": "#E5ECF6",
              "width": 0.5
             },
             "pattern": {
              "fillmode": "overlay",
              "size": 10,
              "solidity": 0.2
             }
            },
            "type": "bar"
           }
          ],
          "barpolar": [
           {
            "marker": {
             "line": {
              "color": "#E5ECF6",
              "width": 0.5
             },
             "pattern": {
              "fillmode": "overlay",
              "size": 10,
              "solidity": 0.2
             }
            },
            "type": "barpolar"
           }
          ],
          "carpet": [
           {
            "aaxis": {
             "endlinecolor": "#2a3f5f",
             "gridcolor": "white",
             "linecolor": "white",
             "minorgridcolor": "white",
             "startlinecolor": "#2a3f5f"
            },
            "baxis": {
             "endlinecolor": "#2a3f5f",
             "gridcolor": "white",
             "linecolor": "white",
             "minorgridcolor": "white",
             "startlinecolor": "#2a3f5f"
            },
            "type": "carpet"
           }
          ],
          "choropleth": [
           {
            "colorbar": {
             "outlinewidth": 0,
             "ticks": ""
            },
            "type": "choropleth"
           }
          ],
          "contour": [
           {
            "colorbar": {
             "outlinewidth": 0,
             "ticks": ""
            },
            "colorscale": [
             [
              0,
              "#0d0887"
             ],
             [
              0.1111111111111111,
              "#46039f"
             ],
             [
              0.2222222222222222,
              "#7201a8"
             ],
             [
              0.3333333333333333,
              "#9c179e"
             ],
             [
              0.4444444444444444,
              "#bd3786"
             ],
             [
              0.5555555555555556,
              "#d8576b"
             ],
             [
              0.6666666666666666,
              "#ed7953"
             ],
             [
              0.7777777777777778,
              "#fb9f3a"
             ],
             [
              0.8888888888888888,
              "#fdca26"
             ],
             [
              1,
              "#f0f921"
             ]
            ],
            "type": "contour"
           }
          ],
          "contourcarpet": [
           {
            "colorbar": {
             "outlinewidth": 0,
             "ticks": ""
            },
            "type": "contourcarpet"
           }
          ],
          "heatmap": [
           {
            "colorbar": {
             "outlinewidth": 0,
             "ticks": ""
            },
            "colorscale": [
             [
              0,
              "#0d0887"
             ],
             [
              0.1111111111111111,
              "#46039f"
             ],
             [
              0.2222222222222222,
              "#7201a8"
             ],
             [
              0.3333333333333333,
              "#9c179e"
             ],
             [
              0.4444444444444444,
              "#bd3786"
             ],
             [
              0.5555555555555556,
              "#d8576b"
             ],
             [
              0.6666666666666666,
              "#ed7953"
             ],
             [
              0.7777777777777778,
              "#fb9f3a"
             ],
             [
              0.8888888888888888,
              "#fdca26"
             ],
             [
              1,
              "#f0f921"
             ]
            ],
            "type": "heatmap"
           }
          ],
          "heatmapgl": [
           {
            "colorbar": {
             "outlinewidth": 0,
             "ticks": ""
            },
            "colorscale": [
             [
              0,
              "#0d0887"
             ],
             [
              0.1111111111111111,
              "#46039f"
             ],
             [
              0.2222222222222222,
              "#7201a8"
             ],
             [
              0.3333333333333333,
              "#9c179e"
             ],
             [
              0.4444444444444444,
              "#bd3786"
             ],
             [
              0.5555555555555556,
              "#d8576b"
             ],
             [
              0.6666666666666666,
              "#ed7953"
             ],
             [
              0.7777777777777778,
              "#fb9f3a"
             ],
             [
              0.8888888888888888,
              "#fdca26"
             ],
             [
              1,
              "#f0f921"
             ]
            ],
            "type": "heatmapgl"
           }
          ],
          "histogram": [
           {
            "marker": {
             "pattern": {
              "fillmode": "overlay",
              "size": 10,
              "solidity": 0.2
             }
            },
            "type": "histogram"
           }
          ],
          "histogram2d": [
           {
            "colorbar": {
             "outlinewidth": 0,
             "ticks": ""
            },
            "colorscale": [
             [
              0,
              "#0d0887"
             ],
             [
              0.1111111111111111,
              "#46039f"
             ],
             [
              0.2222222222222222,
              "#7201a8"
             ],
             [
              0.3333333333333333,
              "#9c179e"
             ],
             [
              0.4444444444444444,
              "#bd3786"
             ],
             [
              0.5555555555555556,
              "#d8576b"
             ],
             [
              0.6666666666666666,
              "#ed7953"
             ],
             [
              0.7777777777777778,
              "#fb9f3a"
             ],
             [
              0.8888888888888888,
              "#fdca26"
             ],
             [
              1,
              "#f0f921"
             ]
            ],
            "type": "histogram2d"
           }
          ],
          "histogram2dcontour": [
           {
            "colorbar": {
             "outlinewidth": 0,
             "ticks": ""
            },
            "colorscale": [
             [
              0,
              "#0d0887"
             ],
             [
              0.1111111111111111,
              "#46039f"
             ],
             [
              0.2222222222222222,
              "#7201a8"
             ],
             [
              0.3333333333333333,
              "#9c179e"
             ],
             [
              0.4444444444444444,
              "#bd3786"
             ],
             [
              0.5555555555555556,
              "#d8576b"
             ],
             [
              0.6666666666666666,
              "#ed7953"
             ],
             [
              0.7777777777777778,
              "#fb9f3a"
             ],
             [
              0.8888888888888888,
              "#fdca26"
             ],
             [
              1,
              "#f0f921"
             ]
            ],
            "type": "histogram2dcontour"
           }
          ],
          "mesh3d": [
           {
            "colorbar": {
             "outlinewidth": 0,
             "ticks": ""
            },
            "type": "mesh3d"
           }
          ],
          "parcoords": [
           {
            "line": {
             "colorbar": {
              "outlinewidth": 0,
              "ticks": ""
             }
            },
            "type": "parcoords"
           }
          ],
          "pie": [
           {
            "automargin": true,
            "type": "pie"
           }
          ],
          "scatter": [
           {
            "marker": {
             "colorbar": {
              "outlinewidth": 0,
              "ticks": ""
             }
            },
            "type": "scatter"
           }
          ],
          "scatter3d": [
           {
            "line": {
             "colorbar": {
              "outlinewidth": 0,
              "ticks": ""
             }
            },
            "marker": {
             "colorbar": {
              "outlinewidth": 0,
              "ticks": ""
             }
            },
            "type": "scatter3d"
           }
          ],
          "scattercarpet": [
           {
            "marker": {
             "colorbar": {
              "outlinewidth": 0,
              "ticks": ""
             }
            },
            "type": "scattercarpet"
           }
          ],
          "scattergeo": [
           {
            "marker": {
             "colorbar": {
              "outlinewidth": 0,
              "ticks": ""
             }
            },
            "type": "scattergeo"
           }
          ],
          "scattergl": [
           {
            "marker": {
             "colorbar": {
              "outlinewidth": 0,
              "ticks": ""
             }
            },
            "type": "scattergl"
           }
          ],
          "scattermapbox": [
           {
            "marker": {
             "colorbar": {
              "outlinewidth": 0,
              "ticks": ""
             }
            },
            "type": "scattermapbox"
           }
          ],
          "scatterpolar": [
           {
            "marker": {
             "colorbar": {
              "outlinewidth": 0,
              "ticks": ""
             }
            },
            "type": "scatterpolar"
           }
          ],
          "scatterpolargl": [
           {
            "marker": {
             "colorbar": {
              "outlinewidth": 0,
              "ticks": ""
             }
            },
            "type": "scatterpolargl"
           }
          ],
          "scatterternary": [
           {
            "marker": {
             "colorbar": {
              "outlinewidth": 0,
              "ticks": ""
             }
            },
            "type": "scatterternary"
           }
          ],
          "surface": [
           {
            "colorbar": {
             "outlinewidth": 0,
             "ticks": ""
            },
            "colorscale": [
             [
              0,
              "#0d0887"
             ],
             [
              0.1111111111111111,
              "#46039f"
             ],
             [
              0.2222222222222222,
              "#7201a8"
             ],
             [
              0.3333333333333333,
              "#9c179e"
             ],
             [
              0.4444444444444444,
              "#bd3786"
             ],
             [
              0.5555555555555556,
              "#d8576b"
             ],
             [
              0.6666666666666666,
              "#ed7953"
             ],
             [
              0.7777777777777778,
              "#fb9f3a"
             ],
             [
              0.8888888888888888,
              "#fdca26"
             ],
             [
              1,
              "#f0f921"
             ]
            ],
            "type": "surface"
           }
          ],
          "table": [
           {
            "cells": {
             "fill": {
              "color": "#EBF0F8"
             },
             "line": {
              "color": "white"
             }
            },
            "header": {
             "fill": {
              "color": "#C8D4E3"
             },
             "line": {
              "color": "white"
             }
            },
            "type": "table"
           }
          ]
         },
         "layout": {
          "annotationdefaults": {
           "arrowcolor": "#2a3f5f",
           "arrowhead": 0,
           "arrowwidth": 1
          },
          "autotypenumbers": "strict",
          "coloraxis": {
           "colorbar": {
            "outlinewidth": 0,
            "ticks": ""
           }
          },
          "colorscale": {
           "diverging": [
            [
             0,
             "#8e0152"
            ],
            [
             0.1,
             "#c51b7d"
            ],
            [
             0.2,
             "#de77ae"
            ],
            [
             0.3,
             "#f1b6da"
            ],
            [
             0.4,
             "#fde0ef"
            ],
            [
             0.5,
             "#f7f7f7"
            ],
            [
             0.6,
             "#e6f5d0"
            ],
            [
             0.7,
             "#b8e186"
            ],
            [
             0.8,
             "#7fbc41"
            ],
            [
             0.9,
             "#4d9221"
            ],
            [
             1,
             "#276419"
            ]
           ],
           "sequential": [
            [
             0,
             "#0d0887"
            ],
            [
             0.1111111111111111,
             "#46039f"
            ],
            [
             0.2222222222222222,
             "#7201a8"
            ],
            [
             0.3333333333333333,
             "#9c179e"
            ],
            [
             0.4444444444444444,
             "#bd3786"
            ],
            [
             0.5555555555555556,
             "#d8576b"
            ],
            [
             0.6666666666666666,
             "#ed7953"
            ],
            [
             0.7777777777777778,
             "#fb9f3a"
            ],
            [
             0.8888888888888888,
             "#fdca26"
            ],
            [
             1,
             "#f0f921"
            ]
           ],
           "sequentialminus": [
            [
             0,
             "#0d0887"
            ],
            [
             0.1111111111111111,
             "#46039f"
            ],
            [
             0.2222222222222222,
             "#7201a8"
            ],
            [
             0.3333333333333333,
             "#9c179e"
            ],
            [
             0.4444444444444444,
             "#bd3786"
            ],
            [
             0.5555555555555556,
             "#d8576b"
            ],
            [
             0.6666666666666666,
             "#ed7953"
            ],
            [
             0.7777777777777778,
             "#fb9f3a"
            ],
            [
             0.8888888888888888,
             "#fdca26"
            ],
            [
             1,
             "#f0f921"
            ]
           ]
          },
          "colorway": [
           "#636efa",
           "#EF553B",
           "#00cc96",
           "#ab63fa",
           "#FFA15A",
           "#19d3f3",
           "#FF6692",
           "#B6E880",
           "#FF97FF",
           "#FECB52"
          ],
          "font": {
           "color": "#2a3f5f"
          },
          "geo": {
           "bgcolor": "white",
           "lakecolor": "white",
           "landcolor": "#E5ECF6",
           "showlakes": true,
           "showland": true,
           "subunitcolor": "white"
          },
          "hoverlabel": {
           "align": "left"
          },
          "hovermode": "closest",
          "mapbox": {
           "style": "light"
          },
          "paper_bgcolor": "white",
          "plot_bgcolor": "#E5ECF6",
          "polar": {
           "angularaxis": {
            "gridcolor": "white",
            "linecolor": "white",
            "ticks": ""
           },
           "bgcolor": "#E5ECF6",
           "radialaxis": {
            "gridcolor": "white",
            "linecolor": "white",
            "ticks": ""
           }
          },
          "scene": {
           "xaxis": {
            "backgroundcolor": "#E5ECF6",
            "gridcolor": "white",
            "gridwidth": 2,
            "linecolor": "white",
            "showbackground": true,
            "ticks": "",
            "zerolinecolor": "white"
           },
           "yaxis": {
            "backgroundcolor": "#E5ECF6",
            "gridcolor": "white",
            "gridwidth": 2,
            "linecolor": "white",
            "showbackground": true,
            "ticks": "",
            "zerolinecolor": "white"
           },
           "zaxis": {
            "backgroundcolor": "#E5ECF6",
            "gridcolor": "white",
            "gridwidth": 2,
            "linecolor": "white",
            "showbackground": true,
            "ticks": "",
            "zerolinecolor": "white"
           }
          },
          "shapedefaults": {
           "line": {
            "color": "#2a3f5f"
           }
          },
          "ternary": {
           "aaxis": {
            "gridcolor": "white",
            "linecolor": "white",
            "ticks": ""
           },
           "baxis": {
            "gridcolor": "white",
            "linecolor": "white",
            "ticks": ""
           },
           "bgcolor": "#E5ECF6",
           "caxis": {
            "gridcolor": "white",
            "linecolor": "white",
            "ticks": ""
           }
          },
          "title": {
           "x": 0.05
          },
          "xaxis": {
           "automargin": true,
           "gridcolor": "white",
           "linecolor": "white",
           "ticks": "",
           "title": {
            "standoff": 15
           },
           "zerolinecolor": "white",
           "zerolinewidth": 2
          },
          "yaxis": {
           "automargin": true,
           "gridcolor": "white",
           "linecolor": "white",
           "ticks": "",
           "title": {
            "standoff": 15
           },
           "zerolinecolor": "white",
           "zerolinewidth": 2
          }
         }
        }
       }
      },
      "text/html": [
       "<div>                            <div id=\"82f0c736-0116-4df2-9aed-39ba3b3097d4\" class=\"plotly-graph-div\" style=\"height:525px; width:100%;\"></div>            <script type=\"text/javascript\">                require([\"plotly\"], function(Plotly) {                    window.PLOTLYENV=window.PLOTLYENV || {};                                    if (document.getElementById(\"82f0c736-0116-4df2-9aed-39ba3b3097d4\")) {                    Plotly.newPlot(                        \"82f0c736-0116-4df2-9aed-39ba3b3097d4\",                        [{\"name\":\"Calculated points for a linear movement\",\"x\":[78.82944745840194,70.94650271256175,63.06355796672156,55.18061322088137,47.29766847504118,39.414723729200986,31.53177898336079,23.648834237520596,15.7658894916804,7.882944745840207,1.2434497875801753e-14],\"y\":[-116.72322293210699,-95.0509006388963,-73.3785783456856,-51.7062560524749,-30.0339337592642,-8.361611466053503,13.310710827157195,34.98303312036789,56.65535541357859,78.32767770678929,99.99999999999999],\"z\":[10.100901786558296,19.090811607902467,28.080721429246637,37.07063125059081,46.06054107193498,55.05045089327915,64.04036071462332,73.03027053596749,82.02018035731166,91.01009017865583,100.0],\"type\":\"scatter3d\"},{\"name\":\"Braccio\",\"x\":[281,281,281,281,281],\"y\":[0,0,0,0,0],\"z\":[0,37,100,162,260],\"type\":\"scatter3d\"}],                        {\"margin\":{\"b\":0,\"l\":0,\"r\":0,\"t\":0},\"scene\":{\"aspectmode\":\"data\",\"camera\":{\"center\":{\"x\":0,\"y\":0,\"z\":0},\"eye\":{\"x\":-1.3,\"y\":-1.7,\"z\":0.06},\"up\":{\"x\":0,\"y\":0,\"z\":1}},\"xaxis\":{\"backgroundcolor\":\"rgba(0,0,0,0)\",\"range\":[0,400]},\"yaxis\":{\"backgroundcolor\":\"rgba(0,0,0,0)\",\"range\":[-150,150]},\"zaxis\":{\"backgroundcolor\":\"rgba(205,133,63,1)\",\"range\":[0,265],\"showticklabels\":false}},\"template\":{\"data\":{\"bar\":[{\"error_x\":{\"color\":\"#2a3f5f\"},\"error_y\":{\"color\":\"#2a3f5f\"},\"marker\":{\"line\":{\"color\":\"#E5ECF6\",\"width\":0.5},\"pattern\":{\"fillmode\":\"overlay\",\"size\":10,\"solidity\":0.2}},\"type\":\"bar\"}],\"barpolar\":[{\"marker\":{\"line\":{\"color\":\"#E5ECF6\",\"width\":0.5},\"pattern\":{\"fillmode\":\"overlay\",\"size\":10,\"solidity\":0.2}},\"type\":\"barpolar\"}],\"carpet\":[{\"aaxis\":{\"endlinecolor\":\"#2a3f5f\",\"gridcolor\":\"white\",\"linecolor\":\"white\",\"minorgridcolor\":\"white\",\"startlinecolor\":\"#2a3f5f\"},\"baxis\":{\"endlinecolor\":\"#2a3f5f\",\"gridcolor\":\"white\",\"linecolor\":\"white\",\"minorgridcolor\":\"white\",\"startlinecolor\":\"#2a3f5f\"},\"type\":\"carpet\"}],\"choropleth\":[{\"colorbar\":{\"outlinewidth\":0,\"ticks\":\"\"},\"type\":\"choropleth\"}],\"contour\":[{\"colorbar\":{\"outlinewidth\":0,\"ticks\":\"\"},\"colorscale\":[[0.0,\"#0d0887\"],[0.1111111111111111,\"#46039f\"],[0.2222222222222222,\"#7201a8\"],[0.3333333333333333,\"#9c179e\"],[0.4444444444444444,\"#bd3786\"],[0.5555555555555556,\"#d8576b\"],[0.6666666666666666,\"#ed7953\"],[0.7777777777777778,\"#fb9f3a\"],[0.8888888888888888,\"#fdca26\"],[1.0,\"#f0f921\"]],\"type\":\"contour\"}],\"contourcarpet\":[{\"colorbar\":{\"outlinewidth\":0,\"ticks\":\"\"},\"type\":\"contourcarpet\"}],\"heatmap\":[{\"colorbar\":{\"outlinewidth\":0,\"ticks\":\"\"},\"colorscale\":[[0.0,\"#0d0887\"],[0.1111111111111111,\"#46039f\"],[0.2222222222222222,\"#7201a8\"],[0.3333333333333333,\"#9c179e\"],[0.4444444444444444,\"#bd3786\"],[0.5555555555555556,\"#d8576b\"],[0.6666666666666666,\"#ed7953\"],[0.7777777777777778,\"#fb9f3a\"],[0.8888888888888888,\"#fdca26\"],[1.0,\"#f0f921\"]],\"type\":\"heatmap\"}],\"heatmapgl\":[{\"colorbar\":{\"outlinewidth\":0,\"ticks\":\"\"},\"colorscale\":[[0.0,\"#0d0887\"],[0.1111111111111111,\"#46039f\"],[0.2222222222222222,\"#7201a8\"],[0.3333333333333333,\"#9c179e\"],[0.4444444444444444,\"#bd3786\"],[0.5555555555555556,\"#d8576b\"],[0.6666666666666666,\"#ed7953\"],[0.7777777777777778,\"#fb9f3a\"],[0.8888888888888888,\"#fdca26\"],[1.0,\"#f0f921\"]],\"type\":\"heatmapgl\"}],\"histogram\":[{\"marker\":{\"pattern\":{\"fillmode\":\"overlay\",\"size\":10,\"solidity\":0.2}},\"type\":\"histogram\"}],\"histogram2d\":[{\"colorbar\":{\"outlinewidth\":0,\"ticks\":\"\"},\"colorscale\":[[0.0,\"#0d0887\"],[0.1111111111111111,\"#46039f\"],[0.2222222222222222,\"#7201a8\"],[0.3333333333333333,\"#9c179e\"],[0.4444444444444444,\"#bd3786\"],[0.5555555555555556,\"#d8576b\"],[0.6666666666666666,\"#ed7953\"],[0.7777777777777778,\"#fb9f3a\"],[0.8888888888888888,\"#fdca26\"],[1.0,\"#f0f921\"]],\"type\":\"histogram2d\"}],\"histogram2dcontour\":[{\"colorbar\":{\"outlinewidth\":0,\"ticks\":\"\"},\"colorscale\":[[0.0,\"#0d0887\"],[0.1111111111111111,\"#46039f\"],[0.2222222222222222,\"#7201a8\"],[0.3333333333333333,\"#9c179e\"],[0.4444444444444444,\"#bd3786\"],[0.5555555555555556,\"#d8576b\"],[0.6666666666666666,\"#ed7953\"],[0.7777777777777778,\"#fb9f3a\"],[0.8888888888888888,\"#fdca26\"],[1.0,\"#f0f921\"]],\"type\":\"histogram2dcontour\"}],\"mesh3d\":[{\"colorbar\":{\"outlinewidth\":0,\"ticks\":\"\"},\"type\":\"mesh3d\"}],\"parcoords\":[{\"line\":{\"colorbar\":{\"outlinewidth\":0,\"ticks\":\"\"}},\"type\":\"parcoords\"}],\"pie\":[{\"automargin\":true,\"type\":\"pie\"}],\"scatter\":[{\"marker\":{\"colorbar\":{\"outlinewidth\":0,\"ticks\":\"\"}},\"type\":\"scatter\"}],\"scatter3d\":[{\"line\":{\"colorbar\":{\"outlinewidth\":0,\"ticks\":\"\"}},\"marker\":{\"colorbar\":{\"outlinewidth\":0,\"ticks\":\"\"}},\"type\":\"scatter3d\"}],\"scattercarpet\":[{\"marker\":{\"colorbar\":{\"outlinewidth\":0,\"ticks\":\"\"}},\"type\":\"scattercarpet\"}],\"scattergeo\":[{\"marker\":{\"colorbar\":{\"outlinewidth\":0,\"ticks\":\"\"}},\"type\":\"scattergeo\"}],\"scattergl\":[{\"marker\":{\"colorbar\":{\"outlinewidth\":0,\"ticks\":\"\"}},\"type\":\"scattergl\"}],\"scattermapbox\":[{\"marker\":{\"colorbar\":{\"outlinewidth\":0,\"ticks\":\"\"}},\"type\":\"scattermapbox\"}],\"scatterpolar\":[{\"marker\":{\"colorbar\":{\"outlinewidth\":0,\"ticks\":\"\"}},\"type\":\"scatterpolar\"}],\"scatterpolargl\":[{\"marker\":{\"colorbar\":{\"outlinewidth\":0,\"ticks\":\"\"}},\"type\":\"scatterpolargl\"}],\"scatterternary\":[{\"marker\":{\"colorbar\":{\"outlinewidth\":0,\"ticks\":\"\"}},\"type\":\"scatterternary\"}],\"surface\":[{\"colorbar\":{\"outlinewidth\":0,\"ticks\":\"\"},\"colorscale\":[[0.0,\"#0d0887\"],[0.1111111111111111,\"#46039f\"],[0.2222222222222222,\"#7201a8\"],[0.3333333333333333,\"#9c179e\"],[0.4444444444444444,\"#bd3786\"],[0.5555555555555556,\"#d8576b\"],[0.6666666666666666,\"#ed7953\"],[0.7777777777777778,\"#fb9f3a\"],[0.8888888888888888,\"#fdca26\"],[1.0,\"#f0f921\"]],\"type\":\"surface\"}],\"table\":[{\"cells\":{\"fill\":{\"color\":\"#EBF0F8\"},\"line\":{\"color\":\"white\"}},\"header\":{\"fill\":{\"color\":\"#C8D4E3\"},\"line\":{\"color\":\"white\"}},\"type\":\"table\"}]},\"layout\":{\"annotationdefaults\":{\"arrowcolor\":\"#2a3f5f\",\"arrowhead\":0,\"arrowwidth\":1},\"autotypenumbers\":\"strict\",\"coloraxis\":{\"colorbar\":{\"outlinewidth\":0,\"ticks\":\"\"}},\"colorscale\":{\"diverging\":[[0,\"#8e0152\"],[0.1,\"#c51b7d\"],[0.2,\"#de77ae\"],[0.3,\"#f1b6da\"],[0.4,\"#fde0ef\"],[0.5,\"#f7f7f7\"],[0.6,\"#e6f5d0\"],[0.7,\"#b8e186\"],[0.8,\"#7fbc41\"],[0.9,\"#4d9221\"],[1,\"#276419\"]],\"sequential\":[[0.0,\"#0d0887\"],[0.1111111111111111,\"#46039f\"],[0.2222222222222222,\"#7201a8\"],[0.3333333333333333,\"#9c179e\"],[0.4444444444444444,\"#bd3786\"],[0.5555555555555556,\"#d8576b\"],[0.6666666666666666,\"#ed7953\"],[0.7777777777777778,\"#fb9f3a\"],[0.8888888888888888,\"#fdca26\"],[1.0,\"#f0f921\"]],\"sequentialminus\":[[0.0,\"#0d0887\"],[0.1111111111111111,\"#46039f\"],[0.2222222222222222,\"#7201a8\"],[0.3333333333333333,\"#9c179e\"],[0.4444444444444444,\"#bd3786\"],[0.5555555555555556,\"#d8576b\"],[0.6666666666666666,\"#ed7953\"],[0.7777777777777778,\"#fb9f3a\"],[0.8888888888888888,\"#fdca26\"],[1.0,\"#f0f921\"]]},\"colorway\":[\"#636efa\",\"#EF553B\",\"#00cc96\",\"#ab63fa\",\"#FFA15A\",\"#19d3f3\",\"#FF6692\",\"#B6E880\",\"#FF97FF\",\"#FECB52\"],\"font\":{\"color\":\"#2a3f5f\"},\"geo\":{\"bgcolor\":\"white\",\"lakecolor\":\"white\",\"landcolor\":\"#E5ECF6\",\"showlakes\":true,\"showland\":true,\"subunitcolor\":\"white\"},\"hoverlabel\":{\"align\":\"left\"},\"hovermode\":\"closest\",\"mapbox\":{\"style\":\"light\"},\"paper_bgcolor\":\"white\",\"plot_bgcolor\":\"#E5ECF6\",\"polar\":{\"angularaxis\":{\"gridcolor\":\"white\",\"linecolor\":\"white\",\"ticks\":\"\"},\"bgcolor\":\"#E5ECF6\",\"radialaxis\":{\"gridcolor\":\"white\",\"linecolor\":\"white\",\"ticks\":\"\"}},\"scene\":{\"xaxis\":{\"backgroundcolor\":\"#E5ECF6\",\"gridcolor\":\"white\",\"gridwidth\":2,\"linecolor\":\"white\",\"showbackground\":true,\"ticks\":\"\",\"zerolinecolor\":\"white\"},\"yaxis\":{\"backgroundcolor\":\"#E5ECF6\",\"gridcolor\":\"white\",\"gridwidth\":2,\"linecolor\":\"white\",\"showbackground\":true,\"ticks\":\"\",\"zerolinecolor\":\"white\"},\"zaxis\":{\"backgroundcolor\":\"#E5ECF6\",\"gridcolor\":\"white\",\"gridwidth\":2,\"linecolor\":\"white\",\"showbackground\":true,\"ticks\":\"\",\"zerolinecolor\":\"white\"}},\"shapedefaults\":{\"line\":{\"color\":\"#2a3f5f\"}},\"ternary\":{\"aaxis\":{\"gridcolor\":\"white\",\"linecolor\":\"white\",\"ticks\":\"\"},\"baxis\":{\"gridcolor\":\"white\",\"linecolor\":\"white\",\"ticks\":\"\"},\"bgcolor\":\"#E5ECF6\",\"caxis\":{\"gridcolor\":\"white\",\"linecolor\":\"white\",\"ticks\":\"\"}},\"title\":{\"x\":0.05},\"xaxis\":{\"automargin\":true,\"gridcolor\":\"white\",\"linecolor\":\"white\",\"ticks\":\"\",\"title\":{\"standoff\":15},\"zerolinecolor\":\"white\",\"zerolinewidth\":2},\"yaxis\":{\"automargin\":true,\"gridcolor\":\"white\",\"linecolor\":\"white\",\"ticks\":\"\",\"title\":{\"standoff\":15},\"zerolinecolor\":\"white\",\"zerolinewidth\":2}}}},                        {\"responsive\": true}                    ).then(function(){\n",
       "                            \n",
       "var gd = document.getElementById('82f0c736-0116-4df2-9aed-39ba3b3097d4');\n",
       "var x = new MutationObserver(function (mutations, observer) {{\n",
       "        var display = window.getComputedStyle(gd).display;\n",
       "        if (!display || display === 'none') {{\n",
       "            console.log([gd, 'removed!']);\n",
       "            Plotly.purge(gd);\n",
       "            observer.disconnect();\n",
       "        }}\n",
       "}});\n",
       "\n",
       "// Listen for the removal of the full notebook cells\n",
       "var notebookContainer = gd.closest('#notebook-container');\n",
       "if (notebookContainer) {{\n",
       "    x.observe(notebookContainer, {childList: true});\n",
       "}}\n",
       "\n",
       "// Listen for the clearing of the current output cell\n",
       "var outputEl = gd.closest('.output');\n",
       "if (outputEl) {{\n",
       "    x.observe(outputEl, {childList: true});\n",
       "}}\n",
       "\n",
       "                        })                };                });            </script>        </div>"
      ]
     },
     "metadata": {},
     "output_type": "display_data"
    }
   ],
   "source": [
    "splot = go.Scatter3d(x=data['x'], y=data['y'], z=data['z'], name='Calculated points for a linear movement')\n",
    "braccio_plot = go.Scatter3d(x=data_braccio['x'], y=data_braccio['y'], z=data_braccio['z'], name='Braccio')\n",
    "\n",
    "pdata = [splot, braccio_plot]\n",
    "\n",
    "layout = go.Layout(\n",
    "    scene = dict(\n",
    "        camera=dict(\n",
    "            up=dict(x=0, y=0, z=1),\n",
    "            center=dict(x=0, y=0, z=0),\n",
    "            eye=dict(x=-1.3, y=-1.7, z=0.06)\n",
    "        ),\n",
    "        xaxis = dict(range = [0,400], backgroundcolor=\"rgba(0,0,0,0)\"),\n",
    "        yaxis = dict(range = [-150,150], backgroundcolor=\"rgba(0,0,0,0)\"),\n",
    "        zaxis = dict(range = [0,265], backgroundcolor=\"rgba(205,133,63,1)\", showticklabels=False),\n",
    "        aspectmode='data'\n",
    "    ),\n",
    "    margin=dict(l=0, r=0, b=0, t=0)\n",
    ")\n",
    "\n",
    "fig = go.Figure(data=pdata, layout=layout)\n",
    "\n",
    "fig.write_image('image.svg')\n",
    "fig.show()"
   ]
  },
  {
   "cell_type": "code",
   "execution_count": 181,
   "id": "fec63289",
   "metadata": {},
   "outputs": [
    {
     "name": "stdout",
     "output_type": "stream",
     "text": [
      "Requirement already satisfied: kaleido in c:\\users\\micha\\anaconda3\\lib\\site-packages (0.2.1)\n"
     ]
    }
   ],
   "source": [
    "!pip install kaleido"
   ]
  }
 ],
 "metadata": {
  "kernelspec": {
   "display_name": "robok1",
   "language": "python",
   "name": "robok1"
  },
  "language_info": {
   "codemirror_mode": {
    "name": "ipython",
    "version": 3
   },
   "file_extension": ".py",
   "mimetype": "text/x-python",
   "name": "python",
   "nbconvert_exporter": "python",
   "pygments_lexer": "ipython3",
   "version": "3.9.7"
  }
 },
 "nbformat": 4,
 "nbformat_minor": 5
}
