{
 "cells": [
  {
   "cell_type": "markdown",
   "id": "01c479fb",
   "metadata": {},
   "source": [
    "## Bibliothek importieren"
   ]
  },
  {
   "cell_type": "code",
   "execution_count": 1,
   "id": "df096f19",
   "metadata": {},
   "outputs": [],
   "source": [
    "import serial as ser"
   ]
  },
  {
   "cell_type": "markdown",
   "id": "b96dcab2",
   "metadata": {},
   "source": [
    "# Roboter UNBEDINGT senkrecht stellen!"
   ]
  },
  {
   "cell_type": "markdown",
   "id": "bbe9f746",
   "metadata": {},
   "source": [
    "## Seriellen Port öffnen"
   ]
  },
  {
   "cell_type": "code",
   "execution_count": 215,
   "id": "f47c2e58",
   "metadata": {},
   "outputs": [],
   "source": [
    "s = ser.Serial ('COM9', baudrate = 9600, parity = 'N', bytesize = 8, stopbits = 1, timeout = None)"
   ]
  },
  {
   "cell_type": "markdown",
   "id": "3852a601",
   "metadata": {},
   "source": [
    "## Aufgabe 3"
   ]
  },
  {
   "cell_type": "code",
   "execution_count": 115,
   "id": "a4a04a60",
   "metadata": {},
   "outputs": [],
   "source": [
    "def reset():\n",
    "    s.write (b'90 b 90 s 90 e 90 v 90 w 60 g\\r\\n')"
   ]
  },
  {
   "cell_type": "code",
   "execution_count": 216,
   "id": "620a7c75",
   "metadata": {},
   "outputs": [
    {
     "data": {
      "text/plain": [
       "6"
      ]
     },
     "execution_count": 216,
     "metadata": {},
     "output_type": "execute_result"
    }
   ],
   "source": [
    "s.write (b'10 g\\r\\n')"
   ]
  },
  {
   "cell_type": "code",
   "execution_count": 217,
   "id": "ad0538cc",
   "metadata": {
    "scrolled": true
   },
   "outputs": [
    {
     "data": {
      "text/plain": [
       "29"
      ]
     },
     "execution_count": 217,
     "metadata": {},
     "output_type": "execute_result"
    }
   ],
   "source": [
    "s.write (b'63 b 140 s 128 e 165 v 65 w\\r\\n')"
   ]
  },
  {
   "cell_type": "code",
   "execution_count": 218,
   "id": "c237af34",
   "metadata": {},
   "outputs": [
    {
     "data": {
      "text/plain": [
       "6"
      ]
     },
     "execution_count": 218,
     "metadata": {},
     "output_type": "execute_result"
    }
   ],
   "source": [
    "s.write (b'73 g\\r\\n')"
   ]
  },
  {
   "cell_type": "code",
   "execution_count": 219,
   "id": "fc176510",
   "metadata": {},
   "outputs": [
    {
     "data": {
      "text/plain": [
       "28"
      ]
     },
     "execution_count": 219,
     "metadata": {},
     "output_type": "execute_result"
    }
   ],
   "source": [
    "s.write (b'120 b 100 s 90 e 90 v 90 w\\r\\n')"
   ]
  },
  {
   "cell_type": "code",
   "execution_count": 220,
   "id": "9e9b5a0d",
   "metadata": {},
   "outputs": [
    {
     "data": {
      "text/plain": [
       "25"
      ]
     },
     "execution_count": 220,
     "metadata": {},
     "output_type": "execute_result"
    }
   ],
   "source": [
    "s.write (b'135 s 135 e 166 v 130 w\\r\\n')"
   ]
  },
  {
   "cell_type": "code",
   "execution_count": 221,
   "id": "d37f8e07",
   "metadata": {},
   "outputs": [
    {
     "data": {
      "text/plain": [
       "6"
      ]
     },
     "execution_count": 221,
     "metadata": {},
     "output_type": "execute_result"
    }
   ],
   "source": [
    "s.write (b'10 g\\r\\n')"
   ]
  },
  {
   "cell_type": "code",
   "execution_count": 222,
   "id": "aacb58e2",
   "metadata": {},
   "outputs": [
    {
     "data": {
      "text/plain": [
       "6"
      ]
     },
     "execution_count": 222,
     "metadata": {},
     "output_type": "execute_result"
    }
   ],
   "source": [
    "s.write (b'90 s\\r\\n')"
   ]
  },
  {
   "cell_type": "code",
   "execution_count": 223,
   "id": "33fbcf0e",
   "metadata": {},
   "outputs": [],
   "source": [
    "reset()"
   ]
  },
  {
   "cell_type": "markdown",
   "id": "c0738692",
   "metadata": {},
   "source": [
    "## Port schliessen"
   ]
  },
  {
   "cell_type": "code",
   "execution_count": 224,
   "id": "2ef32a66",
   "metadata": {},
   "outputs": [],
   "source": [
    "s.close()"
   ]
  },
  {
   "cell_type": "code",
   "execution_count": null,
   "id": "beb843e8",
   "metadata": {},
   "outputs": [],
   "source": []
  }
 ],
 "metadata": {
  "kernelspec": {
   "display_name": "robok1",
   "language": "python",
   "name": "robok1"
  },
  "language_info": {
   "codemirror_mode": {
    "name": "ipython",
    "version": 3
   },
   "file_extension": ".py",
   "mimetype": "text/x-python",
   "name": "python",
   "nbconvert_exporter": "python",
   "pygments_lexer": "ipython3",
   "version": "3.9.7"
  }
 },
 "nbformat": 4,
 "nbformat_minor": 5
}
