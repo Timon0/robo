{
 "cells": [
  {
   "cell_type": "code",
   "execution_count": 4,
   "id": "24ee09cc",
   "metadata": {},
   "outputs": [],
   "source": [
    "import numpy as np\n",
    "from math import pi, cos, sin, radians\n",
    "import time"
   ]
  },
  {
   "cell_type": "markdown",
   "id": "d9d25725",
   "metadata": {},
   "source": [
    "### Forward Kinematic (Vorherige Aufgabe)"
   ]
  },
  {
   "cell_type": "code",
   "execution_count": 6,
   "id": "2ef32a66",
   "metadata": {},
   "outputs": [],
   "source": [
    "def forward_kinematic_braccio(joint_angles):\n",
    "    ''' param: joints: current position of all the joints of the braccio '''\n",
    "    ''' return: current position'''\n",
    "\n",
    "    result = np.eye(4)\n",
    "    \n",
    "    ## initial translation\n",
    "    result = result @ translation([281, 0, 3])\n",
    "    \n",
    "    ## Joint 0 (Base b)\n",
    "    result = result @ rotate_z(90 - joint_angles[0]) @ translation([0, 0, 71]) \n",
    "    \n",
    "    ## Joint 1 (Shoulder s)\n",
    "    result = result @ rotate_y(90 - joint_angles[1]) @ translation([0, 0, 126]) \n",
    "    \n",
    "    ## Joint 2 (Elbow e)\n",
    "    result = result @ rotate_y(90 - joint_angles[2]) @ translation([0, 0, 124]) \n",
    "    \n",
    "    ## Joint 3 (Wrist tilt v)\n",
    "    result = result @ rotate_y(90 - joint_angles[3]) @ translation([0, 0, 60])\n",
    "\n",
    "    ## Joint 4 (Wrist rotate w)\n",
    "    result = result @ rotate_z(90 - joint_angles[4]) @ translation([0, 0, 134]) \n",
    "    \n",
    "    return result\n",
    "\n",
    "def forward_kinematic_braccio_each_joint(joint_angles):\n",
    "    ''' param: joints: current position of all the joints of the braccio '''\n",
    "    ''' return: current position'''\n",
    "\n",
    "    result = np.eye(4)\n",
    "    positions = []\n",
    "    \n",
    "    ## initial translation\n",
    "    result = result @ translation([281, 0, 3])\n",
    "    positions.append(result[0:3,3])\n",
    "    \n",
    "    ## Joint 0 (Base b)\n",
    "    result = result @ rotate_z(90 - joint_angles[0]) @ translation([0, 0, 71]) \n",
    "    positions.append(result[0:3,3])\n",
    "    \n",
    "    ## Joint 1 (Shoulder s)\n",
    "    result = result @ rotate_y(90 - joint_angles[1]) @ translation([0, 0, 126]) \n",
    "    positions.append(result[0:3,3])\n",
    "    \n",
    "    ## Joint 2 (Elbow e)\n",
    "    result = result @ rotate_y(90 - joint_angles[2]) @ translation([0, 0, 124]) \n",
    "    positions.append(result[0:3,3])\n",
    "    \n",
    "    ## Joint 3 (Wrist tilt v)\n",
    "    result = result @ rotate_y(90 - joint_angles[3]) @ translation([0, 0, 60])\n",
    "    positions.append(result[0:3,3])\n",
    "\n",
    "    ## Joint 4 (Wrist rotate w)\n",
    "    result = result @ rotate_z(90 - joint_angles[4]) @ translation([0, 0, 134]) \n",
    "    positions.append(result[0:3,3])\n",
    "    \n",
    "    return positions\n",
    "\n",
    "\n",
    "def translation(trans):\n",
    "    return np.array([\n",
    "        [1,0,0,trans[0]],\n",
    "        [0,1,0,trans[1]],\n",
    "        [0,0,1,trans[2]],\n",
    "        [0,0,0,1]\n",
    "    ])\n",
    "\n",
    "def rotate_z(theta):\n",
    "    rad = radians(theta)\n",
    "    return np.array([\n",
    "        [cos(rad), -sin(rad), 0, 0],\n",
    "        [sin(rad), cos(rad), 0, 0],\n",
    "        [0,0,1,0],\n",
    "        [0,0,0,1]\n",
    "    ])\n",
    "\n",
    "def rotate_y(theta):\n",
    "    rad = radians(theta)\n",
    "    return np.array([\n",
    "        [cos(rad),0, sin(rad), 0],\n",
    "        [0,1,0,0],\n",
    "        [-sin(rad),0, cos(rad), 0],\n",
    "        [0,0,0,1]\n",
    "    ])\n",
    "\n",
    "def forward_kinematic_braccio_fixed(joint_angles):\n",
    "    b = joint_angles[0]\n",
    "    s = 110\n",
    "    e = joint_angles[1]\n",
    "    v = joint_angles[2]\n",
    "    w = 90\n",
    "    g = 73\n",
    "    joint_angles_with_fixed = [b, s, e, v, w, g]\n",
    "    return forward_kinematic_braccio(joint_angles_with_fixed)"
   ]
  },
  {
   "cell_type": "markdown",
   "id": "e821977a",
   "metadata": {},
   "source": [
    "### Plot linear movement"
   ]
  },
  {
   "cell_type": "code",
   "execution_count": 2,
   "id": "01d026c7",
   "metadata": {},
   "outputs": [],
   "source": [
    "import plotly.graph_objects as go\n",
    "import pandas as pd"
   ]
  },
  {
   "cell_type": "code",
   "execution_count": 7,
   "id": "0bfec19b",
   "metadata": {},
   "outputs": [
    {
     "data": {
      "text/plain": [
       "[array([281.,   0.,   3.]),\n",
       " array([281.,   0.,  74.]),\n",
       " array([241.94308458, -18.21253877, 192.40127022]),\n",
       " array([129.98856705, -70.41778765, 203.20858232]),\n",
       " array([111.3900359 , -79.09042516, 146.82702507]),\n",
       " array([ 69.85331633, -98.45931559,  20.90821389])]"
      ]
     },
     "execution_count": 7,
     "metadata": {},
     "output_type": "execute_result"
    }
   ],
   "source": []
  },
  {
   "cell_type": "code",
   "execution_count": 11,
   "id": "677d34d9",
   "metadata": {},
   "outputs": [],
   "source": [
    "data = pd.DataFrame(positions, columns = ['x','y','z'])"
   ]
  },
  {
   "cell_type": "code",
   "execution_count": 8,
   "id": "7892c61c",
   "metadata": {},
   "outputs": [
    {
     "data": {
      "text/html": [
       "<div>\n",
       "<style scoped>\n",
       "    .dataframe tbody tr th:only-of-type {\n",
       "        vertical-align: middle;\n",
       "    }\n",
       "\n",
       "    .dataframe tbody tr th {\n",
       "        vertical-align: top;\n",
       "    }\n",
       "\n",
       "    .dataframe thead th {\n",
       "        text-align: right;\n",
       "    }\n",
       "</style>\n",
       "<table border=\"1\" class=\"dataframe\">\n",
       "  <thead>\n",
       "    <tr style=\"text-align: right;\">\n",
       "      <th></th>\n",
       "      <th>x</th>\n",
       "      <th>y</th>\n",
       "      <th>z</th>\n",
       "    </tr>\n",
       "  </thead>\n",
       "  <tbody>\n",
       "    <tr>\n",
       "      <th>0</th>\n",
       "      <td>281.000000</td>\n",
       "      <td>0.000000</td>\n",
       "      <td>3.000000</td>\n",
       "    </tr>\n",
       "    <tr>\n",
       "      <th>1</th>\n",
       "      <td>281.000000</td>\n",
       "      <td>0.000000</td>\n",
       "      <td>74.000000</td>\n",
       "    </tr>\n",
       "    <tr>\n",
       "      <th>2</th>\n",
       "      <td>241.943085</td>\n",
       "      <td>-18.212539</td>\n",
       "      <td>192.401270</td>\n",
       "    </tr>\n",
       "    <tr>\n",
       "      <th>3</th>\n",
       "      <td>129.988567</td>\n",
       "      <td>-70.417788</td>\n",
       "      <td>203.208582</td>\n",
       "    </tr>\n",
       "    <tr>\n",
       "      <th>4</th>\n",
       "      <td>111.390036</td>\n",
       "      <td>-79.090425</td>\n",
       "      <td>146.827025</td>\n",
       "    </tr>\n",
       "  </tbody>\n",
       "</table>\n",
       "</div>"
      ],
      "text/plain": [
       "            x          y           z\n",
       "0  281.000000   0.000000    3.000000\n",
       "1  281.000000   0.000000   74.000000\n",
       "2  241.943085 -18.212539  192.401270\n",
       "3  129.988567 -70.417788  203.208582\n",
       "4  111.390036 -79.090425  146.827025"
      ]
     },
     "execution_count": 8,
     "metadata": {},
     "output_type": "execute_result"
    }
   ],
   "source": [
    "positions_braccio = forward_kinematic_braccio_each_joint([65, 110, 155, 165, 90, 73])\n",
    "data_braccio = pd.DataFrame(positions_braccio, columns = ['x','y','z'])\n",
    "data_braccio.head()"
   ]
  },
  {
   "cell_type": "code",
   "execution_count": 63,
   "id": "6e6fad19",
   "metadata": {},
   "outputs": [],
   "source": [
    "for i in range(1, 7):\n",
    "    braccio_plot = go.Scatter3d(x=data_braccio['x'][:i], y=data_braccio['y'][:i], z=data_braccio['z'][:i], name='Braccio')\n",
    "\n",
    "    pdata = [braccio_plot]\n",
    "\n",
    "    layout = go.Layout(\n",
    "        scene = dict(\n",
    "            camera=dict(\n",
    "                up=dict(x=0, y=0, z=1),\n",
    "                center=dict(x=0, y=0, z=0),\n",
    "                eye=dict(x=-1.3, y=-1.7, z=0.06)\n",
    "            ),\n",
    "            xaxis = dict(range = [0,400]),\n",
    "            yaxis = dict(range = [-150,150]),\n",
    "            zaxis = dict(range = [0,265], backgroundcolor=\"rgba(205,133,63,1)\"),\n",
    "            aspectmode='cube'\n",
    "        ),\n",
    "        margin=dict(l=0, r=0, b=0, t=0)\n",
    "    )\n",
    "\n",
    "    fig = go.Figure(data=pdata, layout=layout)\n",
    "    fig.update_traces(marker=dict(\n",
    "            color='red'))\n",
    "    fig.write_image(f'joint{i}.svg')"
   ]
  }
 ],
 "metadata": {
  "kernelspec": {
   "display_name": "robok1",
   "language": "python",
   "name": "robok1"
  },
  "language_info": {
   "codemirror_mode": {
    "name": "ipython",
    "version": 3
   },
   "file_extension": ".py",
   "mimetype": "text/x-python",
   "name": "python",
   "nbconvert_exporter": "python",
   "pygments_lexer": "ipython3",
   "version": "3.9.7"
  }
 },
 "nbformat": 4,
 "nbformat_minor": 5
}
