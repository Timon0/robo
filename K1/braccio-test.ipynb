{
 "cells": [
  {
   "cell_type": "markdown",
   "id": "01c479fb",
   "metadata": {},
   "source": [
    "## Bibliothek importieren"
   ]
  },
  {
   "cell_type": "code",
   "execution_count": 2,
   "id": "df096f19",
   "metadata": {},
   "outputs": [],
   "source": [
    "import serial as ser"
   ]
  },
  {
   "cell_type": "markdown",
   "id": "b96dcab2",
   "metadata": {},
   "source": [
    "# Roboter UNBEDINGT senkrecht stellen!"
   ]
  },
  {
   "cell_type": "markdown",
   "id": "bbe9f746",
   "metadata": {},
   "source": [
    "## Seriellen Port öffnen"
   ]
  },
  {
   "cell_type": "code",
   "execution_count": 3,
   "id": "f47c2e58",
   "metadata": {},
   "outputs": [],
   "source": [
    "s = ser.Serial ('COM4', baudrate = 9600, parity = 'N', bytesize = 8, stopbits = 1, timeout = None)"
   ]
  },
  {
   "cell_type": "markdown",
   "id": "f8be3be6",
   "metadata": {},
   "source": [
    "## Ein paar Sekunden warten"
   ]
  },
  {
   "cell_type": "markdown",
   "id": "ed897dd7",
   "metadata": {},
   "source": [
    "## ersten Befehl senden"
   ]
  },
  {
   "cell_type": "code",
   "execution_count": null,
   "id": "2acdd39e",
   "metadata": {
    "scrolled": true
   },
   "outputs": [],
   "source": [
    "s.write (b'0 b 90 s 90 e 90 v 90 w 90 g\\r\\n')"
   ]
  },
  {
   "cell_type": "markdown",
   "id": "aad90261",
   "metadata": {},
   "source": [
    "## zweiten Befehl senden"
   ]
  },
  {
   "cell_type": "code",
   "execution_count": 11,
   "id": "8e87d6f9",
   "metadata": {},
   "outputs": [
    {
     "data": {
      "text/plain": [
       "31"
      ]
     },
     "execution_count": 11,
     "metadata": {},
     "output_type": "execute_result"
    }
   ],
   "source": [
    "s.write (b'90 b 90 s 90 e 90 v 90 w 90 g\\r\\n')"
   ]
  },
  {
   "cell_type": "markdown",
   "id": "c0738692",
   "metadata": {},
   "source": [
    "## Port schliessen"
   ]
  },
  {
   "cell_type": "code",
   "execution_count": null,
   "id": "2ef32a66",
   "metadata": {},
   "outputs": [],
   "source": [
    "s.close()"
   ]
  }
 ],
 "metadata": {
  "kernelspec": {
   "display_name": "robok1",
   "language": "python",
   "name": "robok1"
  },
  "language_info": {
   "codemirror_mode": {
    "name": "ipython",
    "version": 3
   },
   "file_extension": ".py",
   "mimetype": "text/x-python",
   "name": "python",
   "nbconvert_exporter": "python",
   "pygments_lexer": "ipython3",
   "version": "3.9.7"
  }
 },
 "nbformat": 4,
 "nbformat_minor": 5
}
