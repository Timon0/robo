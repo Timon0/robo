{
 "cells": [
  {
   "cell_type": "code",
   "execution_count": 1,
   "id": "43121ecd",
   "metadata": {},
   "outputs": [],
   "source": [
    "from imagerecognition import ImageRecognition"
   ]
  },
  {
   "cell_type": "code",
   "execution_count": 2,
   "id": "e9f77526",
   "metadata": {},
   "outputs": [],
   "source": [
    "imagereco = ImageRecognition()"
   ]
  },
  {
   "cell_type": "markdown",
   "id": "d58f8f9c",
   "metadata": {},
   "source": [
    "# Get objects in image"
   ]
  },
  {
   "cell_type": "code",
   "execution_count": 3,
   "id": "60f7d6c1",
   "metadata": {},
   "outputs": [
    {
     "name": "stdout",
     "output_type": "stream",
     "text": [
      "['television', 'chair', 'Laptop', 'chair', 'person']\n"
     ]
    }
   ],
   "source": [
    "with open(r\"PATH_TO_IMAGE\", 'rb') as f:\n",
    "    data = f.read()\n",
    "\n",
    "print(imagereco.get_objects(data))"
   ]
  },
  {
   "cell_type": "markdown",
   "id": "1b505034",
   "metadata": {},
   "source": [
    "# Describe Image"
   ]
  },
  {
   "cell_type": "code",
   "execution_count": 4,
   "id": "490a5621",
   "metadata": {},
   "outputs": [
    {
     "name": "stdout",
     "output_type": "stream",
     "text": [
      "a man sitting in a chair\n"
     ]
    }
   ],
   "source": [
    "with open(r\"PATH_TO_IMAGE\", 'rb') as f:\n",
    "    data = f.read()\n",
    "\n",
    "print(imagereco.describe_image(data))"
   ]
  }
 ],
 "metadata": {
  "kernelspec": {
   "display_name": "pepper",
   "language": "python",
   "name": "pepper"
  },
  "language_info": {
   "codemirror_mode": {
    "name": "ipython",
    "version": 3
   },
   "file_extension": ".py",
   "mimetype": "text/x-python",
   "name": "python",
   "nbconvert_exporter": "python",
   "pygments_lexer": "ipython3",
   "version": "3.9.7"
  }
 },
 "nbformat": 4,
 "nbformat_minor": 5
}