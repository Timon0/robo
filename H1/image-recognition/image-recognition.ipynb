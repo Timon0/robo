{
 "cells": [
  {
   "cell_type": "code",
   "execution_count": 9,
   "id": "9092ba00",
   "metadata": {},
   "outputs": [],
   "source": [
    "import requests\n",
    "import matplotlib.pyplot as plt\n",
    "from matplotlib.patches import Polygon\n",
    "from PIL import Image\n",
    "from io import BytesIO\n"
   ]
  },
  {
   "cell_type": "code",
   "execution_count": 32,
   "id": "e87eb5f1",
   "metadata": {},
   "outputs": [],
   "source": [
    "subscription_key = ''"
   ]
  },
  {
   "cell_type": "code",
   "execution_count": 47,
   "id": "70c9607d",
   "metadata": {},
   "outputs": [],
   "source": [
    "endpoint = 'https://pepper-image-recognition.cognitiveservices.azure.com'\n",
    "model_version = 'latest'"
   ]
  },
  {
   "cell_type": "code",
   "execution_count": 56,
   "id": "3f198b12",
   "metadata": {},
   "outputs": [],
   "source": [
    "image_url = \"https://wpvip.edutopia.org/wp-content/uploads/2022/11/F7JHMM-crop.jpg\""
   ]
  },
  {
   "cell_type": "markdown",
   "id": "471a79d8",
   "metadata": {},
   "source": [
    "# Get objects in image"
   ]
  },
  {
   "cell_type": "code",
   "execution_count": 57,
   "id": "81d27905",
   "metadata": {},
   "outputs": [],
   "source": [
    "object_recognition_url = endpoint + \"/vision/v3.2/detect?model-version=\" + model_version"
   ]
  },
  {
   "cell_type": "code",
   "execution_count": 66,
   "id": "a61eb455",
   "metadata": {},
   "outputs": [],
   "source": [
    "headers = {'Ocp-Apim-Subscription-Key': subscription_key}\n",
    "data = {'url': image_url}\n",
    "response = requests.post(\n",
    "    object_recognition_url, headers=headers, json=data)"
   ]
  },
  {
   "cell_type": "code",
   "execution_count": 68,
   "id": "ec92d2c4",
   "metadata": {},
   "outputs": [
    {
     "name": "stdout",
     "output_type": "stream",
     "text": [
      "{'rectangle': {'x': 1176, 'y': 422, 'w': 161, 'h': 236}, 'object': 'person', 'confidence': 0.653}\n",
      "{'rectangle': {'x': 1465, 'y': 490, 'w': 170, 'h': 250}, 'object': 'person', 'confidence': 0.533}\n",
      "{'rectangle': {'x': 783, 'y': 1489, 'w': 208, 'h': 131}, 'object': 'Luggage and bags', 'confidence': 0.608}\n",
      "{'rectangle': {'x': 123, 'y': 381, 'w': 273, 'h': 885}, 'object': 'person', 'confidence': 0.747}\n",
      "{'rectangle': {'x': 903, 'y': 675, 'w': 339, 'h': 371}, 'object': 'person', 'confidence': 0.689}\n",
      "{'rectangle': {'x': 618, 'y': 726, 'w': 521, 'h': 802}, 'object': 'person', 'confidence': 0.646}\n",
      "{'rectangle': {'x': 2001, 'y': 827, 'w': 322, 'h': 563}, 'object': 'seating', 'confidence': 0.503}\n",
      "{'rectangle': {'x': 426, 'y': 970, 'w': 279, 'h': 603}, 'object': 'chair', 'confidence': 0.634, 'parent': {'object': 'seating', 'confidence': 0.635}}\n",
      "{'rectangle': {'x': 570, 'y': 1008, 'w': 330, 'h': 592}, 'object': 'chair', 'confidence': 0.717, 'parent': {'object': 'seating', 'confidence': 0.717}}\n"
     ]
    }
   ],
   "source": [
    "for obj in response.json()['objects']:\n",
    "    print(obj)"
   ]
  },
  {
   "cell_type": "markdown",
   "id": "d66f4aa3",
   "metadata": {},
   "source": [
    "# Describe Image"
   ]
  },
  {
   "cell_type": "code",
   "execution_count": 69,
   "id": "9a5922b1",
   "metadata": {},
   "outputs": [],
   "source": [
    "max_candidates = '2'\n",
    "language = 'en'\n",
    "model_version = 'latest'\n",
    "image_description_url = endpoint + \"/vision/v3.2/describe?maxCandidates=\" + max_candidates + \"&language=\" + language + \"&model-version=\" + model_version"
   ]
  },
  {
   "cell_type": "code",
   "execution_count": 70,
   "id": "fd07b1fe",
   "metadata": {},
   "outputs": [
    {
     "data": {
      "text/plain": [
       "'https://pepper-image-recognition.cognitiveservices.azure.com/vision/v3.2/describe?maxCandidates=2&language=en&model-version=latest'"
      ]
     },
     "execution_count": 70,
     "metadata": {},
     "output_type": "execute_result"
    }
   ],
   "source": [
    "image_description_url"
   ]
  },
  {
   "cell_type": "code",
   "execution_count": 71,
   "id": "4005a3b6",
   "metadata": {},
   "outputs": [],
   "source": [
    "headers = {'Ocp-Apim-Subscription-Key': subscription_key}\n",
    "data = {'url': image_url}\n",
    "response = requests.post(\n",
    "    image_description_url, headers=headers, json=data)"
   ]
  },
  {
   "cell_type": "code",
   "execution_count": 72,
   "id": "5c0d953f",
   "metadata": {},
   "outputs": [
    {
     "name": "stdout",
     "output_type": "stream",
     "text": [
      "{'description': {'tags': ['floor', 'indoor', 'laptop', 'window'], 'captions': [{'text': 'a group of people in a classroom', 'confidence': 0.5718702077865601}]}, 'requestId': 'a6c1e449-bada-4e4f-98cd-9deaab03f4c6', 'metadata': {'height': 1620, 'width': 2880, 'format': 'Jpeg'}, 'modelVersion': '2021-05-01'}\n"
     ]
    }
   ],
   "source": [
    "print(response.json())"
   ]
  },
  {
   "cell_type": "markdown",
   "id": "d96bb626",
   "metadata": {},
   "source": [
    "# Get objects from local Image"
   ]
  },
  {
   "cell_type": "code",
   "execution_count": 87,
   "id": "22ee8354",
   "metadata": {},
   "outputs": [],
   "source": [
    "headers = {'Ocp-Apim-Subscription-Key': subscription_key, 'Content-Type': 'application/octet-stream'}\n",
    "with open(r\"PATH_TO_LOCAL_IMAGE\", 'rb') as f:\n",
    "    data = f.read()\n",
    "response = requests.post(\n",
    "    object_recognition_url, headers=headers, data=data)"
   ]
  },
  {
   "cell_type": "code",
   "execution_count": 89,
   "id": "dafd93d7",
   "metadata": {},
   "outputs": [
    {
     "name": "stdout",
     "output_type": "stream",
     "text": [
      "{'rectangle': {'x': 1232, 'y': 610, 'w': 169, 'h': 196}, 'object': 'plant', 'confidence': 0.502}\n",
      "{'rectangle': {'x': 271, 'y': 530, 'w': 388, 'h': 383}, 'object': 'refrigerator', 'confidence': 0.629, 'parent': {'object': 'kitchen appliance', 'confidence': 0.704}}\n",
      "{'rectangle': {'x': 984, 'y': 1136, 'w': 253, 'h': 303}, 'object': 'Toilet', 'confidence': 0.663}\n"
     ]
    }
   ],
   "source": [
    "for obj in response.json()['objects']:\n",
    "    print(obj)"
   ]
  }
 ],
 "metadata": {
  "kernelspec": {
   "display_name": "pepper",
   "language": "python",
   "name": "pepper"
  },
  "language_info": {
   "codemirror_mode": {
    "name": "ipython",
    "version": 3
   },
   "file_extension": ".py",
   "mimetype": "text/x-python",
   "name": "python",
   "nbconvert_exporter": "python",
   "pygments_lexer": "ipython3",
   "version": "3.9.7"
  }
 },
 "nbformat": 4,
 "nbformat_minor": 5
}
