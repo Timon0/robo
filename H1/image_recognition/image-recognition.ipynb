{
 "cells": [
  {
   "cell_type": "code",
   "execution_count": 1,
   "id": "43121ecd",
   "metadata": {},
   "outputs": [],
   "source": [
    "from imagerecognition import ImageRecognition"
   ]
  },
  {
   "cell_type": "code",
   "execution_count": 2,
   "id": "e9f77526",
   "metadata": {},
   "outputs": [],
   "source": [
    "imagereco = ImageRecognition()"
   ]
  },
  {
   "cell_type": "markdown",
   "id": "1e8343e2",
   "metadata": {},
   "source": [
    "# Get object from selection"
   ]
  },
  {
   "cell_type": "code",
   "execution_count": 3,
   "id": "75ba476c",
   "metadata": {},
   "outputs": [
    {
     "data": {
      "text/plain": [
       "('person', None)"
      ]
     },
     "execution_count": 3,
     "metadata": {},
     "output_type": "execute_result"
    }
   ],
   "source": [
    "path1 = r\"PATH1\"\n",
    "path2 = r\"PATH2\"\n",
    "path3 = r\"PATH3\"\n",
    "\n",
    "imagereco.get_object_from_selection([path1, path2, path3])"
   ]
  },
  {
   "cell_type": "markdown",
   "id": "d58f8f9c",
   "metadata": {},
   "source": [
    "# Get objects in image"
   ]
  },
  {
   "cell_type": "code",
   "execution_count": 28,
   "id": "60f7d6c1",
   "metadata": {},
   "outputs": [
    {
     "name": "stdout",
     "output_type": "stream",
     "text": [
      "['television', 'chair', 'chair']\n"
     ]
    }
   ],
   "source": [
    "with open(r\"C:\\Users\\micha\\OneDrive\\Pictures\\i_see.jpg\", 'rb') as f:\n",
    "    data = f.read()\n",
    "\n",
    "print(imagereco.get_objects(data))"
   ]
  },
  {
   "cell_type": "markdown",
   "id": "1b505034",
   "metadata": {},
   "source": [
    "# Describe Image"
   ]
  },
  {
   "cell_type": "code",
   "execution_count": 11,
   "id": "490a5621",
   "metadata": {},
   "outputs": [
    {
     "name": "stdout",
     "output_type": "stream",
     "text": [
      "a person holding a basket of fruit\n"
     ]
    }
   ],
   "source": [
    "with open(r\"PATH_TO_IMAGE\", 'rb') as f:\n",
    "    data = f.read()\n",
    "\n",
    "print(imagereco.describe_image(data))"
   ]
  },
  {
   "cell_type": "markdown",
   "id": "5f8cc91f",
   "metadata": {},
   "source": [
    "# Get single Object"
   ]
  },
  {
   "cell_type": "code",
   "execution_count": 9,
   "id": "360f7244",
   "metadata": {},
   "outputs": [
    {
     "name": "stdout",
     "output_type": "stream",
     "text": [
      "('person', 'No parent available')\n"
     ]
    }
   ],
   "source": [
    "with open(r\"PATH_TO_IMAGE\", 'rb') as f:\n",
    "    data = f.read()\n",
    "\n",
    "print(imagereco.get_single_object(data))"
   ]
  }
 ],
 "metadata": {
  "kernelspec": {
   "display_name": "pepper",
   "language": "python",
   "name": "pepper"
  },
  "language_info": {
   "codemirror_mode": {
    "name": "ipython",
    "version": 3
   },
   "file_extension": ".py",
   "mimetype": "text/x-python",
   "name": "python",
   "nbconvert_exporter": "python",
   "pygments_lexer": "ipython3",
   "version": "3.9.7"
  }
 },
 "nbformat": 4,
 "nbformat_minor": 5
}
