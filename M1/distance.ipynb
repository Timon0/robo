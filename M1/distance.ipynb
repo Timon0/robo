{
 "cells": [
  {
   "cell_type": "code",
   "execution_count": 1,
   "id": "795b5f30",
   "metadata": {},
   "outputs": [],
   "source": [
    "import matplotlib.pyplot as plt"
   ]
  },
  {
   "cell_type": "markdown",
   "id": "ed23e6b9",
   "metadata": {},
   "source": [
    "## Straight Line"
   ]
  },
  {
   "cell_type": "code",
   "execution_count": 2,
   "id": "3be6d273",
   "metadata": {},
   "outputs": [],
   "source": [
    "# Meassured during 5 seconds\n",
    "velocity = [100, 200, 300 , 400, 500]\n",
    "distances = [16, 31, 46, 58, 60]"
   ]
  },
  {
   "cell_type": "code",
   "execution_count": 11,
   "id": "b1a9a56c",
   "metadata": {},
   "outputs": [
    {
     "data": {
      "image/png": "[encoded data removed]",
      "text/plain": [
       "<Figure size 432x288 with 1 Axes>"
      ]
     },
     "metadata": {
      "needs_background": "light"
     },
     "output_type": "display_data"
    }
   ],
   "source": [
    "plt.scatter(velocity, distances)\n",
    "plt.title(\"Thymio Distance during 5 seconds\")\n",
    "plt.xlabel(\"Thymio Velocity\")\n",
    "plt.ylabel(\"Distance\")\n",
    "plt.show()"
   ]
  },
  {
   "cell_type": "markdown",
   "id": "a4c8b15c",
   "metadata": {},
   "source": [
    "### Measurement Variance for v = 300"
   ]
  },
  {
   "cell_type": "code",
   "execution_count": 8,
   "id": "86004878",
   "metadata": {},
   "outputs": [],
   "source": [
    "d = [41, 46, 46]"
   ]
  },
  {
   "cell_type": "markdown",
   "id": "3df5bb02",
   "metadata": {},
   "source": [
    "## Circle"
   ]
  },
  {
   "cell_type": "code",
   "execution_count": null,
   "id": "0f6bb2bc",
   "metadata": {},
   "outputs": [],
   "source": [
    "## radius = 200mm\n",
    "velocity = [100, 200, 300 , 400, 500]\n",
    "time = []"
   ]
  }
 ],
 "metadata": {
  "kernelspec": {
   "display_name": "dviz-dimension",
   "language": "python",
   "name": "dviz-dimension"
  },
  "language_info": {
   "codemirror_mode": {
    "name": "ipython",
    "version": 3
   },
   "file_extension": ".py",
   "mimetype": "text/x-python",
   "name": "python",
   "nbconvert_exporter": "python",
   "pygments_lexer": "ipython3",
   "version": "3.8.5"
  }
 },
 "nbformat": 4,
 "nbformat_minor": 5
}
