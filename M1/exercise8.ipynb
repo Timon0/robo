{
 "cells": [
  {
   "cell_type": "code",
   "execution_count": 1,
   "id": "0c33e310",
   "metadata": {},
   "outputs": [],
   "source": [
    "from thymiodirect import Thymio, Connection\n",
    "import time\n",
    "import math\n",
    "import ThymioUtils"
   ]
  },
  {
   "cell_type": "code",
   "execution_count": 2,
   "id": "ec14ecce",
   "metadata": {},
   "outputs": [],
   "source": [
    "port = Connection.serial_default_port()"
   ]
  },
  {
   "cell_type": "code",
   "execution_count": 3,
   "id": "9eb142b1",
   "metadata": {},
   "outputs": [
    {
     "name": "stdout",
     "output_type": "stream",
     "text": [
      "34241 is connected\n"
     ]
    }
   ],
   "source": [
    "# Connect to Thymio and store id in variable\n",
    "\n",
    "th = Thymio(serial_port = port, on_connect = lambda id: print (f\"{id} is connected\"))\n",
    "th.connect()\n",
    "id_thymio = th.first_node()"
   ]
  },
  {
   "cell_type": "code",
   "execution_count": 4,
   "id": "5519b58d",
   "metadata": {},
   "outputs": [],
   "source": [
    "th[id_thymio][\"motor.left.target\"] = 0\n",
    "th[id_thymio][\"motor.right.target\"] = 0\n",
    "th[id_thymio][\"leds.top\"] = [0, 0, 0]"
   ]
  },
  {
   "cell_type": "markdown",
   "id": "c61e42e6",
   "metadata": {},
   "source": [
    "## Exercise 1\n",
    "\n",
    "\n"
   ]
  },
  {
   "cell_type": "code",
   "execution_count": null,
   "id": "ace555ec",
   "metadata": {},
   "outputs": [],
   "source": [
    "th[id_thymio][\"motor.left.target\"] = 300\n",
    "th[id_thymio][\"motor.right.target\"] = 300\n",
    "\n",
    "time.sleep(20)\n",
    "\n",
    "th[id_thymio][\"motor.left.target\"] = 0\n",
    "th[id_thymio][\"motor.right.target\"] = 0"
   ]
  },
  {
   "cell_type": "markdown",
   "id": "5068752c",
   "metadata": {},
   "source": [
    "## Exercise 2"
   ]
  },
  {
   "cell_type": "code",
   "execution_count": 11,
   "id": "2ea40122",
   "metadata": {},
   "outputs": [],
   "source": []
  },
  {
   "cell_type": "markdown",
   "id": "9dcaa2d2",
   "metadata": {},
   "source": [
    "#### Circle (Left Turn)"
   ]
  },
  {
   "cell_type": "code",
   "execution_count": null,
   "id": "af470bb3",
   "metadata": {},
   "outputs": [],
   "source": [
    "# in mm\n",
    "r = 200\n",
    "# in mm per second\n",
    "v = 90\n",
    "v_inner, v_outer = ThymioUtils.curve_velocity(r, v)\n",
    "\n",
    "th[id_thymio][\"leds.top\"] = [32, 0, 0]\n",
    "th[id_thymio][\"motor.left.target\"] = v_inner\n",
    "th[id_thymio][\"motor.right.target\"] = v_outer\n",
    "\n",
    "time.sleep(ThymioUtils.time_for_circle(r, v))\n",
    "\n",
    "th[id_thymio][\"motor.left.target\"] = 0\n",
    "th[id_thymio][\"motor.right.target\"] = 0\n",
    "\n",
    "time.sleep(0.5)"
   ]
  },
  {
   "cell_type": "markdown",
   "id": "d79a653a",
   "metadata": {},
   "source": [
    "#### Circle (Right Turn)"
   ]
  },
  {
   "cell_type": "code",
   "execution_count": null,
   "id": "2a285b54",
   "metadata": {},
   "outputs": [],
   "source": [
    "th[id_thymio][\"leds.top\"] = [0, 32, 0]\n",
    "th[id_thymio][\"motor.left.target\"] = v_outer\n",
    "th[id_thymio][\"motor.right.target\"] = v_inner\n",
    "\n",
    "time.sleep(ThymioUtils.time_for_circle(r, v))\n",
    "\n",
    "th[id_thymio][\"leds.top\"] = [32, 32, 32]\n",
    "th[id_thymio][\"motor.left.target\"] = 0\n",
    "th[id_thymio][\"motor.right.target\"] = 0"
   ]
  },
  {
   "cell_type": "code",
   "execution_count": 16,
   "id": "186c98fa",
   "metadata": {},
   "outputs": [
    {
     "name": "stderr",
     "output_type": "stream",
     "text": [
      "Task exception was never retrieved\n",
      "future: <Task finished name='Task-116' coro=<Connection.handle_message.<locals>.do_refresh() done, defined at C:\\Users\\timon\\.conda\\envs\\robo-thymio\\lib\\site-packages\\thymiodirect\\connection.py:451> exception=KeyError(34241)>\n",
      "Traceback (most recent call last):\n",
      "  File \"C:\\Users\\timon\\.conda\\envs\\robo-thymio\\lib\\site-packages\\thymiodirect\\connection.py\", line 458, in do_refresh\n",
      "    self.get_variables(source_node)\n",
      "  File \"C:\\Users\\timon\\.conda\\envs\\robo-thymio\\lib\\site-packages\\thymiodirect\\connection.py\", line 571, in get_variables\n",
      "    chunk_length = (self.get_target_node_var_total_size(target_node_id)\n",
      "  File \"C:\\Users\\timon\\.conda\\envs\\robo-thymio\\lib\\site-packages\\thymiodirect\\connection.py\", line 536, in get_target_node_var_total_size\n",
      "    return self.remote_nodes[target_node_id].var_total_size\n",
      "KeyError: 34241\n"
     ]
    },
    {
     "name": "stdout",
     "output_type": "stream",
     "text": [
      "34241 is connected\n"
     ]
    }
   ],
   "source": [
    "# in mm\n",
    "r = 200\n",
    "# in mm per second\n",
    "v = 90\n",
    "v_inner, v_outer = ThymioUtils.curve_velocity(r, v)\n",
    "\n",
    "th[id_thymio][\"leds.top\"] = [32, 0, 0]\n",
    "th[id_thymio][\"motor.left.target\"] = v_inner\n",
    "th[id_thymio][\"motor.right.target\"] = v_outer\n",
    "\n",
    "time.sleep(ThymioUtils.time_for_circle(r, v))\n",
    "\n",
    "th[id_thymio][\"motor.left.target\"] = 0\n",
    "th[id_thymio][\"motor.right.target\"] = 0\n",
    "\n",
    "time.sleep(0.5)\n",
    "\n",
    "th[id_thymio][\"leds.top\"] = [0, 32, 0]\n",
    "th[id_thymio][\"motor.left.target\"] = v_outer\n",
    "th[id_thymio][\"motor.right.target\"] = v_inner\n",
    "\n",
    "time.sleep(ThymioUtils.time_for_circle(r, v))\n",
    "\n",
    "th[id_thymio][\"leds.top\"] = [32, 32, 32]\n",
    "th[id_thymio][\"motor.left.target\"] = 0\n",
    "th[id_thymio][\"motor.right.target\"] = 0"
   ]
  },
  {
   "cell_type": "markdown",
   "id": "b6775846",
   "metadata": {},
   "source": [
    "## Exercise 3"
   ]
  },
  {
   "cell_type": "code",
   "execution_count": 15,
   "id": "9a0d7ee1",
   "metadata": {},
   "outputs": [],
   "source": [
    "# in mm\n",
    "r = 200\n",
    "# in mm per second\n",
    "v = 90\n",
    "v_thymio = ThymioUtils.mms_to_thymio(v)\n",
    "v_inner, v_outer = ThymioUtils.curve_velocity(r, v)\n",
    "\n",
    "## Three-quarter Circle (A - B)\n",
    "th[id_thymio][\"leds.top\"] = [32, 0, 0]\n",
    "th[id_thymio][\"motor.left.target\"] = v_inner\n",
    "th[id_thymio][\"motor.right.target\"] = v_outer\n",
    "\n",
    "time.sleep((ThymioUtils.time_for_circle(r, v, 270))\n",
    "\n",
    "th[id_thymio][\"motor.left.target\"] = 0\n",
    "th[id_thymio][\"motor.right.target\"] = 0\n",
    "\n",
    "time.sleep(0.5)\n",
    "\n",
    "## Straight (B - C)\n",
    "th[id_thymio][\"leds.top\"] = [32, 32, 0]\n",
    "th[id_thymio][\"motor.left.target\"] = v_thymio\n",
    "th[id_thymio][\"motor.right.target\"] = v_thymio\n",
    "\n",
    "time.sleep(ThymioUtils.time_for_distance(2 * r, v))\n",
    "\n",
    "th[id_thymio][\"motor.left.target\"] = 0\n",
    "th[id_thymio][\"motor.right.target\"] = 0\n",
    "\n",
    "time.sleep(0.5)\n",
    "\n",
    "## Three-quarter Circle (C - D) \n",
    "th[id_thymio][\"leds.top\"] = [32, 32, 0]\n",
    "th[id_thymio][\"motor.left.target\"] = v_outer\n",
    "th[id_thymio][\"motor.right.target\"] = v_inner\n",
    "\n",
    "time.sleep((ThymioUtils.time_for_circle(r, v, 270))\n",
    "\n",
    "th[id_thymio][\"motor.left.target\"] = 0\n",
    "th[id_thymio][\"motor.right.target\"] = 0\n",
    "\n",
    "time.sleep(0.5)\n",
    "\n",
    "## Straight (D - A)\n",
    "th[id_thymio][\"leds.top\"] = [0, 0, 32]\n",
    "th[id_thymio][\"motor.left.target\"] = v_thymio\n",
    "th[id_thymio][\"motor.right.target\"] = v_thymio\n",
    "\n",
    "time.sleep(ThymioUtils.time_for_distance(2 * r, v))\n",
    "\n",
    "th[id_thymio][\"motor.left.target\"] = 0\n",
    "th[id_thymio][\"motor.right.target\"] = 0"
   ]
  },
  {
   "cell_type": "markdown",
   "id": "a522fd6b",
   "metadata": {},
   "source": [
    "## Exercise 4"
   ]
  },
  {
   "cell_type": "code",
   "execution_count": null,
   "id": "a0923ac5",
   "metadata": {},
   "outputs": [],
   "source": []
  },
  {
   "cell_type": "markdown",
   "id": "dcb255fc",
   "metadata": {},
   "source": [
    "## Exercise 8"
   ]
  },
  {
   "cell_type": "code",
   "execution_count": 73,
   "id": "5e288d28",
   "metadata": {},
   "outputs": [],
   "source": [
    "import numpy as np\n",
    "import matplotlib.pyplot as plt\n",
    "from math import cos, sin\n",
    "from ThymioUtils import *"
   ]
  },
  {
   "cell_type": "code",
   "execution_count": 70,
   "id": "c275c1d9",
   "metadata": {},
   "outputs": [],
   "source": [
    "def x(t):\n",
    "    return 10*t\n",
    "\n",
    "def y(t):\n",
    "    return 0.8*((t-20)**2)+100\n",
    "\n",
    "def c(t):\n",
    "    x_coord = x(t)\n",
    "    y_coord = y(t)\n",
    "    return np.array([x_coord, y_coord])\n",
    "\n",
    "def c1(t):\n",
    "    h = 1E-8\n",
    "    return (c(t+h)-c(t))/h\n",
    "\n",
    "def c1_left(t):\n",
    "    h = 0.00001\n",
    "    return (get_left_wheel(t+h)-get_left_wheel(t))/h\n",
    "\n",
    "def c1_right(t):\n",
    "    h = 0.00001\n",
    "    return (get_right_wheel(t+h)-get_right_wheel(t))/h\n",
    "\n",
    "def rotate_vec_90(v):\n",
    "    theta = np.deg2rad(90)\n",
    "\n",
    "    rot = np.array([[cos(theta), -sin(theta)], [sin(theta), cos(theta)]])\n",
    "    return np.dot(rot, v)\n",
    "\n",
    "def rotate_vec_270(v):\n",
    "    theta = np.deg2rad(270)\n",
    "\n",
    "    rot = np.array([[cos(theta), -sin(theta)], [sin(theta), cos(theta)]])\n",
    "    return np.dot(rot, v)\n",
    "\n",
    "def get_left_wheel(t):\n",
    "    x_value, y_value = c(t)\n",
    "    x_left, y_left = rotate_vec_90(c1(t)/np.linalg.norm(c1(t)) * 48)\n",
    "    return np.array([x_value + x_left, y_value + y_left])\n",
    "\n",
    "\n",
    "def get_right_wheel(t):\n",
    "    x_value, y_value = c(t)\n",
    "    x_right, y_right = rotate_vec_270(c1(t)/np.linalg.norm(c1(t)) * 48)\n",
    "    return np.array([x_value + x_right, y_value + y_right])"
   ]
  },
  {
   "cell_type": "code",
   "execution_count": 47,
   "id": "91c75502",
   "metadata": {},
   "outputs": [],
   "source": [
    "def plot_tangents(times):\n",
    "    for time in times:\n",
    "        if time == 20:\n",
    "            print(c(time))\n",
    "            print(c1(time))\n",
    "        s1 = c(time)\n",
    "        p1 = c1(time)\n",
    "        ax.arrow(s1[0], s1[1], p1[0]*10, p1[1]*10)\n",
    "        \n",
    "def plot_tangents_left(times):\n",
    "    for time in times:\n",
    "        if time == 15:\n",
    "            print(get_left_wheel(time))\n",
    "            print(c1_left(time))\n",
    "        s1 = get_left_wheel(time)\n",
    "        p1 = c1_left(time)\n",
    "        ax.arrow(s1[0], s1[1], p1[0], p1[1])\n",
    "\n",
    "def plot_tangents_right(times):\n",
    "    for time in times:\n",
    "        if time == 15:\n",
    "            print(get_right_wheel(time))\n",
    "            print(c1_right(time))\n",
    "        s1 = get_right_wheel(time)\n",
    "        p1 = c1_right(time)\n",
    "        ax.arrow(s1[0], s1[1], p1[0], p1[1])\n",
    "        \n",
    "def plot_tangents_rotated(times):\n",
    "    for time in times:\n",
    "        s1 = c(time)\n",
    "        p1 = rotate_vec_90(c1(time)/np.linalg.norm(c1(time)) * 48)\n",
    "        p2 = rotate_vec_270(c1(time)/np.linalg.norm(c1(time)) * 48)\n",
    "        ax.arrow(s1[0], s1[1], p1[0], p1[1])\n",
    "        ax.arrow(s1[0], s1[1], p2[0], p2[1])"
   ]
  },
  {
   "cell_type": "code",
   "execution_count": 71,
   "id": "1f4fab9f",
   "metadata": {
    "scrolled": false
   },
   "outputs": [
    {
     "name": "stdout",
     "output_type": "stream",
     "text": [
      "[179.98535968 157.48170493]\n",
      "[ 6.94701935 -5.55760986]\n",
      "[120.01464032  82.51829507]\n",
      "[ 13.05298065 -10.44237413]\n"
     ]
    },
    {
     "data": {
      "image/png": "[encoded data removed]",
      "text/plain": [
       "<Figure size 432x432 with 1 Axes>"
      ]
     },
     "metadata": {
      "needs_background": "light"
     },
     "output_type": "display_data"
    }
   ],
   "source": [
    "x_values = []\n",
    "y_values = []\n",
    "x_lefts = []\n",
    "y_lefts = []\n",
    "x_rights = []\n",
    "y_rights = []\n",
    "\n",
    "\n",
    "for i in range(4001):\n",
    "    t = i/100\n",
    "    x_value, y_value = c(t)\n",
    "    x_left, y_left = rotate_vec_90(c1(t)/np.linalg.norm(c1(t)) * 48)\n",
    "    x_right, y_right = rotate_vec_270(c1(t)/np.linalg.norm(c1(t)) * 48)\n",
    "    x_values.append(x_value)\n",
    "    y_values.append(y_value)\n",
    "    x_lefts.append(x_value + x_left)\n",
    "    y_lefts.append(y_value + y_left)\n",
    "    x_rights.append(x_value + x_right)\n",
    "    y_rights.append(y_value + y_right)\n",
    "    \n",
    "fig, ax = plt.subplots(figsize=(6, 6))\n",
    "ax.set_aspect('equal', 'box')\n",
    "    \n",
    "ax.plot(x_values, y_values)\n",
    "ax.plot(x_lefts, y_lefts)\n",
    "ax.plot(x_rights, y_rights)\n",
    "plot_tangents_left([0, 5, 10, 15, 20, 25, 30, 35, 40])\n",
    "plot_tangents_right([0, 5, 10, 15, 20, 25, 30, 35, 40])\n",
    "#plot_tangents([0, 5, 10, 15, 20, 25, 30, 35, 40])\n",
    "#plot_tangents_rotated([0, 5, 10, 15, 20, 25, 30, 35, 40])"
   ]
  },
  {
   "cell_type": "code",
   "execution_count": 74,
   "id": "cfc9c6bf",
   "metadata": {},
   "outputs": [
    {
     "name": "stdout",
     "output_type": "stream",
     "text": [
      "[109, 107, 107, 107, 104, 105, 105, 105, 104, 101, 102, 102, 101, 100, 99, 100, 99, 99, 98, 96, 98, 96, 98, 98, 94, 96, 93, 93, 96, 92, 91, 93, 91, 92, 87, 91, 88, 88, 90, 84, 87, 87, 87, 85, 86, 84, 83, 83, 82, 82, 83, 79, 82, 79, 81, 77, 76, 79, 78, 78, 74, 76, 74, 74, 75, 73, 73, 71, 70, 73, 71, 69, 70, 68, 69, 69, 66, 67, 63, 68, 66, 66, 64, 64, 63, 63, 62, 60, 63, 61, 62, 60, 58, 61, 59, 58, 58, 55, 58, 56, 56, 55, 52, 54, 52, 55, 51, 51, 51, 51, 50, 49, 46, 48, 46, 47, 45, 42, 47, 43, 44, 42, 42, 42, 41, 41, 39, 38, 42, 40, 41, 36, 34, 40, 37, 36, 34, 31, 35, 36, 33, 32, 29, 33, 32, 32, 29, 25, 30, 29, 29, 25, 22, 27, 25, 26, 23, 19, 24, 24, 23, 21, 16, 20, 17, 20, 16, 16, 19, 15, 18, 16, 11, 14, 13, 13, 11, 11, 12, 11, 13, 11, 8, 12, 9, 9, 10, 6, 10, 8, 9, 9, 8, 9, 8, 8, 8, 5, 6, 8, 5, 8, 8, 5, 8, 8, 8, 7, 8, 9, 8, 9, 8, 9, 11, 9, 8, 12, 10, 13, 10, 12, 12, 9, 15, 10, 12, 16, 11, 17, 14, 16, 17, 16, 20, 15, 19, 20, 16, 23, 19, 22, 23, 21, 25, 22, 24, 26, 23, 27, 24, 27, 29, 26, 31, 27, 26, 29, 31, 36, 34, 25, 32, 33, 38, 36, 30, 35, 38, 41, 37, 33, 40, 39, 46, 40, 36, 41, 43, 45, 43, 41, 44, 45, 49, 46, 42, 47, 47, 52, 50, 45, 50, 53, 55, 51, 48, 53, 54, 58, 55, 51, 55, 56, 60, 59, 54, 59, 59, 63, 60, 55, 62, 62, 65, 61, 59, 65, 65, 70, 65, 65, 63, 70, 72, 68, 68, 66, 74, 74, 71, 70, 69, 76, 75, 73, 75, 72, 78, 80, 77, 76, 74, 81, 81, 79, 81, 75, 85, 85, 83, 83, 79, 86, 88, 84, 83, 82, 89, 93, 87, 88, 85, 92, 92, 89, 90, 87, 94, 95, 91, 96, 92, 96, 98, 96, 96, 93, 98, 100, 98, 98, 95, 102, 103, 99, 100, 98, 106, 105, 102, 104, 101, 108, 107, 107, 106, 104, 110, 110, 108]\n",
      "[112, 112, 112, 110, 112, 110, 110, 108, 109, 110, 108, 107, 107, 107, 107, 105, 105, 105, 104, 105, 102, 103, 100, 100, 102, 100, 101, 101, 96, 99, 99, 97, 97, 95, 99, 95, 96, 95, 93, 97, 94, 92, 92, 93, 90, 92, 91, 91, 91, 89, 88, 91, 87, 88, 86, 89, 89, 85, 85, 83, 86, 84, 85, 84, 82, 83, 82, 83, 83, 79, 81, 81, 80, 80, 78, 78, 79, 78, 80, 75, 76, 75, 76, 75, 75, 74, 74, 75, 72, 72, 71, 71, 73, 69, 70, 70, 70, 71, 68, 68, 67, 68, 70, 67, 68, 64, 67, 67, 66, 65, 65, 64, 67, 64, 65, 64, 64, 67, 61, 64, 62, 63, 62, 61, 62, 61, 62, 63, 57, 59, 57, 61, 63, 56, 58, 58, 60, 62, 57, 55, 57, 58, 60, 55, 55, 55, 57, 61, 55, 55, 55, 58, 60, 54, 56, 54, 56, 60, 54, 54, 54, 56, 60, 56, 58, 54, 58, 58, 54, 58, 54, 56, 60, 57, 58, 57, 58, 58, 57, 58, 55, 57, 60, 56, 58, 58, 57, 60, 56, 58, 56, 57, 58, 57, 58, 57, 57, 60, 59, 57, 60, 57, 57, 60, 57, 58, 57, 59, 58, 56, 58, 57, 58, 58, 56, 58, 59, 56, 58, 55, 58, 57, 57, 60, 55, 60, 58, 55, 60, 55, 58, 56, 56, 58, 54, 60, 56, 56, 60, 54, 58, 56, 56, 58, 54, 59, 57, 56, 59, 56, 59, 57, 56, 59, 55, 60, 62, 59, 58, 53, 57, 66, 60, 60, 55, 58, 65, 60, 59, 56, 61, 66, 60, 62, 56, 62, 67, 63, 61, 60, 63, 66, 64, 64, 60, 65, 69, 65, 66, 62, 65, 71, 67, 64, 63, 68, 72, 68, 67, 65, 68, 74, 70, 70, 67, 69, 75, 71, 72, 69, 73, 78, 73, 73, 72, 76, 79, 75, 75, 71, 77, 78, 81, 74, 74, 79, 79, 82, 75, 77, 81, 82, 84, 79, 80, 83, 82, 86, 81, 80, 83, 85, 89, 83, 83, 87, 86, 93, 84, 84, 88, 88, 93, 87, 87, 92, 93, 96, 90, 87, 94, 93, 98, 91, 93, 96, 97, 100, 94, 94, 99, 96, 100, 97, 96, 100, 100, 104, 100, 99, 102, 103, 108, 101, 101, 106, 106, 109, 102, 105, 108, 107, 111, 106, 107, 108, 111, 114, 108, 109, 113]\n"
     ]
    }
   ],
   "source": [
    "left_speeds = []\n",
    "right_speeds = []\n",
    "\n",
    "for i in range(401):\n",
    "    t = i/10\n",
    "    left_speeds.append(mms_to_thymio(np.linalg.norm(c1_left(t))))\n",
    "    right_speeds.append(mms_to_thymio(np.linalg.norm(c1_right(t))))\n"
   ]
  },
  {
   "cell_type": "code",
   "execution_count": 69,
   "id": "d5c28dd6",
   "metadata": {},
   "outputs": [
    {
     "name": "stdout",
     "output_type": "stream",
     "text": [
      "[120.01477085  82.51819064]\n",
      "[120.01464032  82.51829507]\n"
     ]
    },
    {
     "data": {
      "text/plain": [
       "array([ 13.05298065, -10.44237413])"
      ]
     },
     "execution_count": 69,
     "metadata": {},
     "output_type": "execute_result"
    }
   ],
   "source": [
    "def c1_right(t):\n",
    "    h = 0.00001\n",
    "    print(get_right_wheel(t+h))\n",
    "    print(get_right_wheel(t))\n",
    "    return (get_right_wheel(t+h)-get_right_wheel(t))/h\n",
    "\n",
    "c1_right(15)"
   ]
  },
  {
   "cell_type": "code",
   "execution_count": 88,
   "id": "922de843",
   "metadata": {},
   "outputs": [
    {
     "data": {
      "text/plain": [
       "[1.999999881263688e-09, -1.0]"
      ]
     },
     "execution_count": 88,
     "metadata": {},
     "output_type": "execute_result"
    }
   ],
   "source": [
    "rotate_vec(tangent_20)"
   ]
  },
  {
   "cell_type": "code",
   "execution_count": 122,
   "id": "d93b70c2",
   "metadata": {},
   "outputs": [
    {
     "name": "stdout",
     "output_type": "stream",
     "text": [
      "[ 1.9999997e-09 -1.0000000e+00]\n"
     ]
    },
    {
     "data": {
      "image/png": "[encoded data removed]",
      "text/plain": [
       "<Figure size 432x288 with 1 Axes>"
      ]
     },
     "metadata": {
      "needs_background": "light"
     },
     "output_type": "display_data"
    }
   ],
   "source": [
    "x_values = []\n",
    "y_values = []\n",
    "x_tangs = []\n",
    "y_tangs = []\n",
    "\n",
    "for i in range(1900, 2100):\n",
    "    t = i/100\n",
    "    x_value, y_value = c(t)\n",
    "    x_values.append(x_value)\n",
    "    y_values.append(y_value)\n",
    "    \n",
    "fig, ax = plt.subplots()\n",
    "ax.set_aspect('equal', 'box')\n",
    "    \n",
    "ax.plot(x_values, y_values)\n",
    "plot_tangents([20])\n",
    "plot_tangents_rotated([20])"
   ]
  },
  {
   "cell_type": "code",
   "execution_count": 39,
   "id": "97efb5c4",
   "metadata": {},
   "outputs": [
    {
     "data": {
      "text/plain": [
       "array([5.00000112e+00, 1.00000017e-08])"
      ]
     },
     "execution_count": 39,
     "metadata": {},
     "output_type": "execute_result"
    }
   ],
   "source": [
    "c1(20)"
   ]
  },
  {
   "cell_type": "markdown",
   "id": "4e0c8c1d",
   "metadata": {},
   "source": [
    "## Appendix\n"
   ]
  },
  {
   "cell_type": "code",
   "execution_count": null,
   "id": "02de7c60",
   "metadata": {},
   "outputs": [],
   "source": [
    "def mms_to_thymio(v):\n",
    "    v_thymio = v * 3.3\n",
    "    return min(math.floor(v_thymio), 400)\n",
    "\n",
    "def curve_velocity(r, v):\n",
    "    w = v / r\n",
    "    v_inner = w * (r - 105/2)\n",
    "    v_outer = w * (r + 105/2)\n",
    "    return mms_to_thymio(v_inner), mms_to_thymio(v_outer)\n",
    "\n",
    "def time_for_distance(d, v):\n",
    "    return d / v;\n",
    "\n",
    "def time_for_circle(r, v):\n",
    "    return time_for_distance(2 * r * math.pi, v);"
   ]
  }
 ],
 "metadata": {
  "kernelspec": {
   "display_name": "robo",
   "language": "python",
   "name": "robo"
  },
  "language_info": {
   "codemirror_mode": {
    "name": "ipython",
    "version": 3
   },
   "file_extension": ".py",
   "mimetype": "text/x-python",
   "name": "python",
   "nbconvert_exporter": "python",
   "pygments_lexer": "ipython3",
   "version": "3.10.10"
  }
 },
 "nbformat": 4,
 "nbformat_minor": 5
}
