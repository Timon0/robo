{
 "cells": [
  {
   "cell_type": "code",
   "execution_count": 1,
   "id": "0c33e310",
   "metadata": {},
   "outputs": [],
   "source": [
    "from thymiodirect import Thymio, Connection\n",
    "import time\n",
    "import math\n",
    "import ThymioUtils"
   ]
  },
  {
   "cell_type": "code",
   "execution_count": 2,
   "id": "ec14ecce",
   "metadata": {},
   "outputs": [],
   "source": [
    "port = Connection.serial_default_port()"
   ]
  },
  {
   "cell_type": "code",
   "execution_count": 3,
   "id": "9eb142b1",
   "metadata": {},
   "outputs": [
    {
     "name": "stdout",
     "output_type": "stream",
     "text": [
      "34241 is connected\n"
     ]
    }
   ],
   "source": [
    "# Connect to Thymio and store id in variable\n",
    "\n",
    "th = Thymio(serial_port = port, on_connect = lambda id: print (f\"{id} is connected\"))\n",
    "th.connect()\n",
    "id_thymio = th.first_node()"
   ]
  },
  {
   "cell_type": "code",
   "execution_count": 4,
   "id": "5519b58d",
   "metadata": {},
   "outputs": [],
   "source": [
    "th[id_thymio][\"motor.left.target\"] = 0\n",
    "th[id_thymio][\"motor.right.target\"] = 0\n",
    "th[id_thymio][\"leds.top\"] = [0, 0, 0]"
   ]
  },
  {
   "cell_type": "markdown",
   "id": "c61e42e6",
   "metadata": {},
   "source": [
    "## Exercise 1\n",
    "\n",
    "\n"
   ]
  },
  {
   "cell_type": "code",
   "execution_count": null,
   "id": "ace555ec",
   "metadata": {},
   "outputs": [],
   "source": [
    "th[id_thymio][\"motor.left.target\"] = 300\n",
    "th[id_thymio][\"motor.right.target\"] = 300\n",
    "\n",
    "time.sleep(20)\n",
    "\n",
    "th[id_thymio][\"motor.left.target\"] = 0\n",
    "th[id_thymio][\"motor.right.target\"] = 0"
   ]
  },
  {
   "cell_type": "markdown",
   "id": "5068752c",
   "metadata": {},
   "source": [
    "## Exercise 2"
   ]
  },
  {
   "cell_type": "code",
   "execution_count": null,
   "id": "2ea40122",
   "metadata": {},
   "outputs": [],
   "source": []
  },
  {
   "cell_type": "markdown",
   "id": "9dcaa2d2",
   "metadata": {},
   "source": [
    "#### Circle (Left Turn)"
   ]
  },
  {
   "cell_type": "code",
   "execution_count": null,
   "id": "af470bb3",
   "metadata": {},
   "outputs": [],
   "source": [
    "# in mm\n",
    "r = 200\n",
    "# in mm per second\n",
    "v = 90\n",
    "v_inner, v_outer = ThymioUtils.curve_velocity(r, v)\n",
    "\n",
    "th[id_thymio][\"leds.top\"] = [32, 0, 0]\n",
    "th[id_thymio][\"motor.left.target\"] = v_inner\n",
    "th[id_thymio][\"motor.right.target\"] = v_outer\n",
    "\n",
    "time.sleep(ThymioUtils.time_for_circle(r, v))\n",
    "\n",
    "th[id_thymio][\"motor.left.target\"] = 0\n",
    "th[id_thymio][\"motor.right.target\"] = 0\n",
    "\n",
    "time.sleep(0.5)"
   ]
  },
  {
   "cell_type": "markdown",
   "id": "d79a653a",
   "metadata": {},
   "source": [
    "#### Circle (Right Turn)"
   ]
  },
  {
   "cell_type": "code",
   "execution_count": null,
   "id": "2a285b54",
   "metadata": {},
   "outputs": [],
   "source": [
    "th[id_thymio][\"leds.top\"] = [0, 32, 0]\n",
    "th[id_thymio][\"motor.left.target\"] = v_outer\n",
    "th[id_thymio][\"motor.right.target\"] = v_inner\n",
    "\n",
    "time.sleep(ThymioUtils.time_for_circle(r, v))\n",
    "\n",
    "th[id_thymio][\"leds.top\"] = [32, 32, 32]\n",
    "th[id_thymio][\"motor.left.target\"] = 0\n",
    "th[id_thymio][\"motor.right.target\"] = 0"
   ]
  },
  {
   "cell_type": "code",
   "execution_count": null,
   "id": "186c98fa",
   "metadata": {},
   "outputs": [],
   "source": [
    "# in mm\n",
    "r = 200\n",
    "# in mm per second\n",
    "v = 90\n",
    "v_inner, v_outer = ThymioUtils.curve_velocity(r, v)\n",
    "\n",
    "th[id_thymio][\"leds.top\"] = [32, 0, 0]\n",
    "th[id_thymio][\"motor.left.target\"] = v_inner\n",
    "th[id_thymio][\"motor.right.target\"] = v_outer\n",
    "\n",
    "time.sleep(ThymioUtils.time_for_circle(r, v))\n",
    "\n",
    "th[id_thymio][\"motor.left.target\"] = 0\n",
    "th[id_thymio][\"motor.right.target\"] = 0\n",
    "\n",
    "time.sleep(0.5)\n",
    "\n",
    "th[id_thymio][\"leds.top\"] = [0, 32, 0]\n",
    "th[id_thymio][\"motor.left.target\"] = v_outer\n",
    "th[id_thymio][\"motor.right.target\"] = v_inner\n",
    "\n",
    "time.sleep(ThymioUtils.time_for_circle(r, v))\n",
    "\n",
    "th[id_thymio][\"leds.top\"] = [32, 32, 32]\n",
    "th[id_thymio][\"motor.left.target\"] = 0\n",
    "th[id_thymio][\"motor.right.target\"] = 0"
   ]
  },
  {
   "cell_type": "markdown",
   "id": "b6775846",
   "metadata": {},
   "source": [
    "## Exercise 3"
   ]
  },
  {
   "cell_type": "code",
   "execution_count": null,
   "id": "9a0d7ee1",
   "metadata": {},
   "outputs": [],
   "source": [
    "# in mm\n",
    "r = 200\n",
    "# in mm per second\n",
    "v = 90\n",
    "v_thymio = ThymioUtils.mms_to_thymio(v)\n",
    "v_inner, v_outer = ThymioUtils.curve_velocity(r, v)\n",
    "\n",
    "## Three-quarter Circle (A - B)\n",
    "th[id_thymio][\"leds.top\"] = [32, 0, 0]\n",
    "th[id_thymio][\"motor.left.target\"] = v_inner\n",
    "th[id_thymio][\"motor.right.target\"] = v_outer\n",
    "\n",
    "time.sleep((ThymioUtils.time_for_circle(r, v, 270))\n",
    "\n",
    "th[id_thymio][\"motor.left.target\"] = 0\n",
    "th[id_thymio][\"motor.right.target\"] = 0\n",
    "\n",
    "time.sleep(0.5)\n",
    "\n",
    "## Straight (B - C)\n",
    "th[id_thymio][\"leds.top\"] = [32, 32, 0]\n",
    "th[id_thymio][\"motor.left.target\"] = v_thymio\n",
    "th[id_thymio][\"motor.right.target\"] = v_thymio\n",
    "\n",
    "time.sleep(ThymioUtils.time_for_distance(2 * r, v))\n",
    "\n",
    "th[id_thymio][\"motor.left.target\"] = 0\n",
    "th[id_thymio][\"motor.right.target\"] = 0\n",
    "\n",
    "time.sleep(0.5)\n",
    "\n",
    "## Three-quarter Circle (C - D) \n",
    "th[id_thymio][\"leds.top\"] = [32, 32, 0]\n",
    "th[id_thymio][\"motor.left.target\"] = v_outer\n",
    "th[id_thymio][\"motor.right.target\"] = v_inner\n",
    "\n",
    "time.sleep((ThymioUtils.time_for_circle(r, v, 270))\n",
    "\n",
    "th[id_thymio][\"motor.left.target\"] = 0\n",
    "th[id_thymio][\"motor.right.target\"] = 0\n",
    "\n",
    "time.sleep(0.5)\n",
    "\n",
    "## Straight (D - A)\n",
    "th[id_thymio][\"leds.top\"] = [0, 0, 32]\n",
    "th[id_thymio][\"motor.left.target\"] = v_thymio\n",
    "th[id_thymio][\"motor.right.target\"] = v_thymio\n",
    "\n",
    "time.sleep(ThymioUtils.time_for_distance(2 * r, v))\n",
    "\n",
    "th[id_thymio][\"motor.left.target\"] = 0\n",
    "th[id_thymio][\"motor.right.target\"] = 0"
   ]
  },
  {
   "cell_type": "markdown",
   "id": "a522fd6b",
   "metadata": {},
   "source": [
    "## Exercise 4"
   ]
  },
  {
   "cell_type": "markdown",
   "id": "dcb255fc",
   "metadata": {},
   "source": [
    "## Exercise 8"
   ]
  },
  {
   "cell_type": "code",
   "execution_count": 5,
   "id": "5e288d28",
   "metadata": {},
   "outputs": [],
   "source": [
    "import numpy as np\n",
    "import matplotlib.pyplot as plt\n",
    "from math import cos, sin\n",
    "from ThymioUtils import *"
   ]
  },
  {
   "cell_type": "code",
   "execution_count": 6,
   "id": "c275c1d9",
   "metadata": {},
   "outputs": [],
   "source": [
    "def x(t):\n",
    "    return 20*t\n",
    "\n",
    "def y(t):\n",
    "    return 0.8*((t-20)**2)+100\n",
    "\n",
    "def c(t):\n",
    "    x_coord = x(t)\n",
    "    y_coord = y(t)\n",
    "    return np.array([x_coord, y_coord])\n",
    "\n",
    "def c1(t):\n",
    "    h = 1E-8\n",
    "    return (c(t+h)-c(t))/h\n",
    "\n",
    "def c1_left(t):\n",
    "    h = 0.01\n",
    "    return (get_left_wheel(t+h)-get_left_wheel(t))/h\n",
    "\n",
    "def c1_right(t):\n",
    "    h = 0.01\n",
    "    return (get_right_wheel(t+h)-get_right_wheel(t))/h\n",
    "\n",
    "def rotate_vec_90(v):\n",
    "    theta = np.deg2rad(90)\n",
    "\n",
    "    rot = np.array([[cos(theta), -sin(theta)], [sin(theta), cos(theta)]])\n",
    "    return np.dot(rot, v)\n",
    "\n",
    "def rotate_vec_270(v):\n",
    "    theta = np.deg2rad(270)\n",
    "\n",
    "    rot = np.array([[cos(theta), -sin(theta)], [sin(theta), cos(theta)]])\n",
    "    return np.dot(rot, v)\n",
    "\n",
    "def get_left_wheel(t):\n",
    "    x_value, y_value = c(t)\n",
    "    x_left, y_left = rotate_vec_90(c1(t)/np.linalg.norm(c1(t)) * 48)\n",
    "    return np.array([x_value + x_left, y_value + y_left])\n",
    "\n",
    "\n",
    "def get_right_wheel(t):\n",
    "    x_value, y_value = c(t)\n",
    "    x_right, y_right = rotate_vec_270(c1(t)/np.linalg.norm(c1(t)) * 48)\n",
    "    return np.array([x_value + x_right, y_value + y_right])"
   ]
  },
  {
   "cell_type": "code",
   "execution_count": 7,
   "id": "91c75502",
   "metadata": {},
   "outputs": [],
   "source": [
    "def plot_tangents(times):\n",
    "    for time in times:\n",
    "        if time == 20:\n",
    "            print(c(time))\n",
    "            print(c1(time))\n",
    "        s1 = c(time)\n",
    "        p1 = c1(time)\n",
    "        ax.arrow(s1[0], s1[1], p1[0]*10, p1[1]*10)\n",
    "        \n",
    "def plot_tangents_left(times):\n",
    "    for time in times:\n",
    "        if time == 15:\n",
    "            print(get_left_wheel(time))\n",
    "            print(c1_left(time))\n",
    "        s1 = get_left_wheel(time)\n",
    "        p1 = c1_left(time)\n",
    "        ax.arrow(s1[0], s1[1], p1[0], p1[1])\n",
    "\n",
    "def plot_tangents_right(times):\n",
    "    for time in times:\n",
    "        if time == 15:\n",
    "            print(get_right_wheel(time))\n",
    "            print(c1_right(time))\n",
    "        s1 = get_right_wheel(time)\n",
    "        p1 = c1_right(time)\n",
    "        ax.arrow(s1[0], s1[1], p1[0], p1[1])\n",
    "        \n",
    "def plot_tangents_rotated(times):\n",
    "    for time in times:\n",
    "        s1 = c(time)\n",
    "        p1 = rotate_vec_90(c1(time)/np.linalg.norm(c1(time)) * 48)\n",
    "        p2 = rotate_vec_270(c1(time)/np.linalg.norm(c1(time)) * 48)\n",
    "        ax.arrow(s1[0], s1[1], p1[0], p1[1])\n",
    "        ax.arrow(s1[0], s1[1], p2[0], p2[1])"
   ]
  },
  {
   "cell_type": "code",
   "execution_count": 8,
   "id": "1f4fab9f",
   "metadata": {
    "scrolled": false
   },
   "outputs": [
    {
     "name": "stdout",
     "output_type": "stream",
     "text": [
      "[317.82675028 164.56688204]\n",
      "[16.92515068 -6.76329056]\n",
      "[282.17324972  75.43311796]\n",
      "[23.07484932 -9.22070944]\n"
     ]
    },
    {
     "data": {
      "image/png": "[encoded data removed]",
      "text/plain": [
       "<Figure size 600x600 with 1 Axes>"
      ]
     },
     "metadata": {},
     "output_type": "display_data"
    }
   ],
   "source": [
    "x_values = []\n",
    "y_values = []\n",
    "x_lefts = []\n",
    "y_lefts = []\n",
    "x_rights = []\n",
    "y_rights = []\n",
    "\n",
    "for i in range(2001):\n",
    "    t = i/50\n",
    "    x_value, y_value = c(t)\n",
    "    x_left, y_left = rotate_vec_90(c1(t)/np.linalg.norm(c1(t)) * 48)\n",
    "    x_right, y_right = rotate_vec_270(c1(t)/np.linalg.norm(c1(t)) * 48)\n",
    "    x_values.append(x_value)\n",
    "    y_values.append(y_value)\n",
    "    x_lefts.append(x_value + x_left)\n",
    "    y_lefts.append(y_value + y_left)\n",
    "    x_rights.append(x_value + x_right)\n",
    "    y_rights.append(y_value + y_right)\n",
    "    \n",
    "fig, ax = plt.subplots(figsize=(6, 6))\n",
    "ax.set_aspect('equal', 'box')\n",
    "    \n",
    "ax.plot(x_values, y_values)\n",
    "ax.plot(x_lefts, y_lefts)\n",
    "ax.plot(x_rights, y_rights)\n",
    "plot_tangents_left([0, 5, 10, 15, 20, 25, 30, 35, 40])\n",
    "plot_tangents_right([0, 5, 10, 15, 20, 25, 30, 35, 40])\n",
    "#plot_tangents([0, 5, 10, 15, 20, 25, 30, 35, 40])\n",
    "#plot_tangents_rotated([0, 5, 10, 15, 20, 25, 30, 35, 40])"
   ]
  },
  {
   "cell_type": "code",
   "execution_count": 9,
   "id": "cfc9c6bf",
   "metadata": {},
   "outputs": [],
   "source": [
    "times = []\n",
    "left_speeds = []\n",
    "right_speeds = []\n",
    "\n",
    "for i in range(400):\n",
    "    t = i/10\n",
    "    times.append(t)\n",
    "    left_speeds.append(mms_to_thymio(np.linalg.norm(c1_left(t))))\n",
    "    right_speeds.append(mms_to_thymio(np.linalg.norm(c1_right(t))))\n"
   ]
  },
  {
   "cell_type": "code",
   "execution_count": 10,
   "id": "5d90beb6",
   "metadata": {},
   "outputs": [
    {
     "data": {
      "text/plain": [
       "[<matplotlib.lines.Line2D at 0x21d463361a0>]"
      ]
     },
     "execution_count": 10,
     "metadata": {},
     "output_type": "execute_result"
    },
    {
     "data": {
      "image/png": "[encoded data removed]",
      "text/plain": [
       "<Figure size 640x480 with 1 Axes>"
      ]
     },
     "metadata": {},
     "output_type": "display_data"
    }
   ],
   "source": [
    "plt.plot(times, left_speeds)\n",
    "plt.plot(times, right_speeds)"
   ]
  },
  {
   "cell_type": "code",
   "execution_count": 11,
   "id": "f53421dd",
   "metadata": {},
   "outputs": [],
   "source": [
    "for speed in zip(left_speeds, right_speeds):\n",
    "    th[id_thymio][\"motor.left.target\"] = speed[0]\n",
    "    th[id_thymio][\"motor.right.target\"] = speed[1]\n",
    "    time.sleep(0.1)\n",
    "    \n",
    "th[id_thymio][\"motor.left.target\"] = 0\n",
    "th[id_thymio][\"motor.right.target\"] = 0"
   ]
  },
  {
   "cell_type": "code",
   "execution_count": null,
   "id": "d5c28dd6",
   "metadata": {},
   "outputs": [],
   "source": [
    "def c1_right(t):\n",
    "    h = 0.00001\n",
    "    print(get_right_wheel(t+h))\n",
    "    print(get_right_wheel(t))\n",
    "    return (get_right_wheel(t+h)-get_right_wheel(t))/h\n",
    "\n",
    "c1_right(15)"
   ]
  },
  {
   "cell_type": "code",
   "execution_count": null,
   "id": "922de843",
   "metadata": {},
   "outputs": [],
   "source": [
    "rotate_vec(tangent_20)"
   ]
  },
  {
   "cell_type": "code",
   "execution_count": null,
   "id": "d93b70c2",
   "metadata": {},
   "outputs": [],
   "source": [
    "x_values = []\n",
    "y_values = []\n",
    "x_tangs = []\n",
    "y_tangs = []\n",
    "\n",
    "for i in range(1900, 2100):\n",
    "    t = i/100\n",
    "    x_value, y_value = c(t)\n",
    "    x_values.append(x_value)\n",
    "    y_values.append(y_value)\n",
    "    \n",
    "fig, ax = plt.subplots()\n",
    "ax.set_aspect('equal', 'box')\n",
    "    \n",
    "ax.plot(x_values, y_values)\n",
    "plot_tangents([20])\n",
    "plot_tangents_rotated([20])"
   ]
  },
  {
   "cell_type": "code",
   "execution_count": null,
   "id": "97efb5c4",
   "metadata": {},
   "outputs": [],
   "source": [
    "c1(20)"
   ]
  },
  {
   "cell_type": "markdown",
   "id": "4e0c8c1d",
   "metadata": {},
   "source": [
    "## Appendix\n"
   ]
  },
  {
   "cell_type": "code",
   "execution_count": null,
   "id": "02de7c60",
   "metadata": {},
   "outputs": [],
   "source": [
    "def mms_to_thymio(v):\n",
    "    v_thymio = v * 3.3\n",
    "    return min(math.floor(v_thymio), 400)\n",
    "\n",
    "def curve_velocity(r, v):\n",
    "    w = v / r\n",
    "    v_inner = w * (r - 105/2)\n",
    "    v_outer = w * (r + 105/2)\n",
    "    return mms_to_thymio(v_inner), mms_to_thymio(v_outer)\n",
    "\n",
    "def time_for_distance(d, v):\n",
    "    return d / v;\n",
    "\n",
    "def time_for_circle(r, v):\n",
    "    return time_for_distance(2 * r * math.pi, v);"
   ]
  }
 ],
 "metadata": {
  "kernelspec": {
   "display_name": "robo-thymio",
   "language": "python",
   "name": "robo-thymio"
  },
  "language_info": {
   "codemirror_mode": {
    "name": "ipython",
    "version": 3
   },
   "file_extension": ".py",
   "mimetype": "text/x-python",
   "name": "python",
   "nbconvert_exporter": "python",
   "pygments_lexer": "ipython3",
   "version": "3.10.9"
  }
 },
 "nbformat": 4,
 "nbformat_minor": 5
}
