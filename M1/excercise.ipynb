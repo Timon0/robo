{
 "cells": [
  {
   "cell_type": "code",
   "execution_count": 4,
   "id": "0c33e310",
   "metadata": {},
   "outputs": [],
   "source": [
    "from thymiodirect import Thymio, Connection\n",
    "import time\n",
    "import math"
   ]
  },
  {
   "cell_type": "code",
   "execution_count": 5,
   "id": "ec14ecce",
   "metadata": {},
   "outputs": [],
   "source": [
    "port = Connection.serial_default_port()"
   ]
  },
  {
   "cell_type": "code",
   "execution_count": 6,
   "id": "9eb142b1",
   "metadata": {},
   "outputs": [
    {
     "name": "stdout",
     "output_type": "stream",
     "text": [
      "34241 is connected\n"
     ]
    }
   ],
   "source": [
    "# Connect to Thymio and store id in variable\n",
    "\n",
    "th = Thymio(serial_port = port, on_connect = lambda id: print (f\"{id} is connected\"))\n",
    "th.connect()\n",
    "id_thymio = th.first_node()"
   ]
  },
  {
   "cell_type": "code",
   "execution_count": 7,
   "id": "5519b58d",
   "metadata": {},
   "outputs": [],
   "source": [
    "th[id_thymio][\"motor.left.target\"] = 0\n",
    "th[id_thymio][\"motor.right.target\"] = 0\n",
    "th[id_thymio][\"leds.top\"] = [0, 0, 0]"
   ]
  },
  {
   "cell_type": "markdown",
   "id": "c61e42e6",
   "metadata": {},
   "source": [
    "## Exercise 1\n",
    "\n",
    "\n"
   ]
  },
  {
   "cell_type": "code",
   "execution_count": 14,
   "id": "ace555ec",
   "metadata": {},
   "outputs": [],
   "source": [
    "th[id_thymio][\"motor.left.target\"] = 300\n",
    "th[id_thymio][\"motor.right.target\"] = 300\n",
    "\n",
    "time.sleep(5)\n",
    "\n",
    "th[id_thymio][\"motor.left.target\"] = 0\n",
    "th[id_thymio][\"motor.right.target\"] = 0"
   ]
  },
  {
   "cell_type": "markdown",
   "id": "5068752c",
   "metadata": {},
   "source": [
    "## Exercise 2"
   ]
  },
  {
   "cell_type": "code",
   "execution_count": 8,
   "id": "2ea40122",
   "metadata": {},
   "outputs": [],
   "source": [
    "def mms_to_thymio(v):\n",
    "    v_thymio = v * 3.1\n",
    "    return min(math.floor(v_thymio), 400)\n",
    "\n",
    "def curve_velocity(r, v):\n",
    "    w = v / r\n",
    "    v_inner = w * (r - 100/2)\n",
    "    v_outer = w * (r + 100/2)\n",
    "    return mms_to_thymio(v_inner), mms_to_thymio(v_outer)\n",
    "\n",
    "def time_for_distance(d, v):\n",
    "    return d / v;\n",
    "\n",
    "def time_for_circle(r, v):\n",
    "    return time_for_distance(2 * r * math.pi, v);"
   ]
  },
  {
   "cell_type": "markdown",
   "id": "9dcaa2d2",
   "metadata": {},
   "source": [
    "#### Circle (Left Turn)"
   ]
  },
  {
   "cell_type": "code",
   "execution_count": 16,
   "id": "af470bb3",
   "metadata": {},
   "outputs": [],
   "source": [
    "# in mm\n",
    "r = 200\n",
    "# in mm per second\n",
    "v = 90\n",
    "v_inner, v_outer = curve_velocity(r, v)\n",
    "\n",
    "th[id_thymio][\"leds.top\"] = [32, 0, 0]\n",
    "th[id_thymio][\"motor.left.target\"] = v_inner\n",
    "th[id_thymio][\"motor.right.target\"] = v_outer\n",
    "\n",
    "time.sleep(time_for_circle(r, v))\n",
    "\n",
    "th[id_thymio][\"motor.left.target\"] = 0\n",
    "th[id_thymio][\"motor.right.target\"] = 0\n",
    "\n",
    "time.sleep(0.5)"
   ]
  },
  {
   "cell_type": "markdown",
   "id": "d79a653a",
   "metadata": {},
   "source": [
    "#### Circle (Right Turn)"
   ]
  },
  {
   "cell_type": "code",
   "execution_count": null,
   "id": "2a285b54",
   "metadata": {},
   "outputs": [],
   "source": [
    "th[id_thymio][\"leds.top\"] = [0, 32, 0]\n",
    "th[id_thymio][\"motor.left.target\"] = v_outer\n",
    "th[id_thymio][\"motor.right.target\"] = v_inner\n",
    "\n",
    "time.sleep(time_for_circle(r, v))\n",
    "\n",
    "th[id_thymio][\"leds.top\"] = [32, 32, 32]\n",
    "th[id_thymio][\"motor.left.target\"] = 0\n",
    "th[id_thymio][\"motor.right.target\"] = 0"
   ]
  },
  {
   "cell_type": "code",
   "execution_count": 13,
   "id": "186c98fa",
   "metadata": {},
   "outputs": [],
   "source": [
    "# in mm\n",
    "r = 200\n",
    "# in mm per second\n",
    "v = 90\n",
    "v_inner, v_outer = curve_velocity(r, v)\n",
    "\n",
    "th[id_thymio][\"leds.top\"] = [32, 0, 0]\n",
    "th[id_thymio][\"motor.left.target\"] = v_inner\n",
    "th[id_thymio][\"motor.right.target\"] = v_outer\n",
    "\n",
    "time.sleep(time_for_circle(r, v))\n",
    "\n",
    "th[id_thymio][\"motor.left.target\"] = 0\n",
    "th[id_thymio][\"motor.right.target\"] = 0\n",
    "\n",
    "time.sleep(0.5)\n",
    "\n",
    "th[id_thymio][\"leds.top\"] = [0, 32, 0]\n",
    "th[id_thymio][\"motor.left.target\"] = v_outer\n",
    "th[id_thymio][\"motor.right.target\"] = v_inner\n",
    "\n",
    "time.sleep(time_for_circle(r, v))\n",
    "\n",
    "th[id_thymio][\"leds.top\"] = [32, 32, 32]\n",
    "th[id_thymio][\"motor.left.target\"] = 0\n",
    "th[id_thymio][\"motor.right.target\"] = 0"
   ]
  },
  {
   "cell_type": "markdown",
   "id": "b6775846",
   "metadata": {},
   "source": [
    "## Exercise 3"
   ]
  },
  {
   "cell_type": "code",
   "execution_count": 11,
   "id": "9a0d7ee1",
   "metadata": {},
   "outputs": [],
   "source": [
    "# in mm\n",
    "r = 200\n",
    "# in mm per second\n",
    "v = 90\n",
    "v_thymio = mms_to_thymio(v)\n",
    "v_inner, v_outer = curve_velocity(r, v)\n",
    "\n",
    "## Three-quarter Circle (A - B)\n",
    "th[id_thymio][\"motor.left.target\"] = v_inner\n",
    "th[id_thymio][\"motor.right.target\"] = v_outer\n",
    "\n",
    "time.sleep(time_for_circle(r, v) * 0.75)\n",
    "\n",
    "th[id_thymio][\"motor.left.target\"] = 0\n",
    "th[id_thymio][\"motor.right.target\"] = 0\n",
    "\n",
    "time.sleep(0.5)\n",
    "\n",
    "## Straight (B - C)\n",
    "th[id_thymio][\"motor.left.target\"] = v_thymio\n",
    "th[id_thymio][\"motor.right.target\"] = v_thymio\n",
    "\n",
    "time.sleep(time_for_distance(2 * r, v))\n",
    "\n",
    "th[id_thymio][\"motor.left.target\"] = 0\n",
    "th[id_thymio][\"motor.right.target\"] = 0\n",
    "\n",
    "time.sleep(0.5)\n",
    "\n",
    "## Three-quarter Circle (C - D) \n",
    "th[id_thymio][\"leds.top\"] = [0, 32, 0]\n",
    "th[id_thymio][\"motor.left.target\"] = v_outer\n",
    "th[id_thymio][\"motor.right.target\"] = v_inner\n",
    "\n",
    "time.sleep(time_for_circle(r, v) * 0.75)\n",
    "\n",
    "th[id_thymio][\"motor.left.target\"] = 0\n",
    "th[id_thymio][\"motor.right.target\"] = 0\n",
    "\n",
    "time.sleep(0.5)\n",
    "\n",
    "## Straight (D - A)\n",
    "th[id_thymio][\"motor.left.target\"] = v_thymio\n",
    "th[id_thymio][\"motor.right.target\"] = v_thymio\n",
    "\n",
    "time.sleep(time_for_distance(2 * r, v))\n",
    "\n",
    "th[id_thymio][\"motor.left.target\"] = 0\n",
    "th[id_thymio][\"motor.right.target\"] = 0"
   ]
  }
 ],
 "metadata": {
  "kernelspec": {
   "display_name": "robo-thymio",
   "language": "python",
   "name": "robo-thymio"
  },
  "language_info": {
   "codemirror_mode": {
    "name": "ipython",
    "version": 3
   },
   "file_extension": ".py",
   "mimetype": "text/x-python",
   "name": "python",
   "nbconvert_exporter": "python",
   "pygments_lexer": "ipython3",
   "version": "3.10.9"
  }
 },
 "nbformat": 4,
 "nbformat_minor": 5
}
