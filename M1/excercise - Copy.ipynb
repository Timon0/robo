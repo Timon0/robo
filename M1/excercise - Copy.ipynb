{
 "cells": [
  {
   "cell_type": "code",
   "execution_count": 14,
   "id": "0c33e310",
   "metadata": {},
   "outputs": [],
   "source": [
    "from thymiodirect import Thymio, Connection\n",
    "import time\n",
    "import math\n",
    "import ThymioUtils"
   ]
  },
  {
   "cell_type": "code",
   "execution_count": 15,
   "id": "ec14ecce",
   "metadata": {},
   "outputs": [
    {
     "ename": "ThymioConnectionError",
     "evalue": "No serial device for Thymio found",
     "output_type": "error",
     "traceback": [
      "\u001b[1;31m---------------------------------------------------------------------------\u001b[0m",
      "\u001b[1;31mThymioConnectionError\u001b[0m                     Traceback (most recent call last)",
      "\u001b[1;32mc:\\Projects\\Studium\\Robo\\robo\\M1\\excercise - Copy.ipynb Cell 2\u001b[0m in \u001b[0;36m1\n\u001b[1;32m----> <a href='vscode-notebook-cell:/c%3A/Projects/Studium/Robo/robo/M1/excercise%20-%20Copy.ipynb#W1sZmlsZQ%3D%3D?line=0'>1</a>\u001b[0m port \u001b[39m=\u001b[39m Connection\u001b[39m.\u001b[39mserial_default_port()\n",
      "File \u001b[1;32mc:\\Users\\oliko\\anaconda3\\envs\\ROBO\\lib\\site-packages\\thymiodirect\\connection.py:307\u001b[0m, in \u001b[0;36mConnection.serial_default_port\u001b[1;34m()\u001b[0m\n\u001b[0;32m    305\u001b[0m devices \u001b[39m=\u001b[39m Connection\u001b[39m.\u001b[39mserial_ports()\n\u001b[0;32m    306\u001b[0m \u001b[39mif\u001b[39;00m \u001b[39mlen\u001b[39m(devices) \u001b[39m<\u001b[39m \u001b[39m1\u001b[39m:\n\u001b[1;32m--> 307\u001b[0m     \u001b[39mraise\u001b[39;00m Connection\u001b[39m.\u001b[39mThymioConnectionError(\u001b[39m\"\u001b[39m\u001b[39mNo serial device for Thymio found\u001b[39m\u001b[39m\"\u001b[39m)\n\u001b[0;32m    308\u001b[0m \u001b[39mif\u001b[39;00m sys\u001b[39m.\u001b[39mplatform \u001b[39m==\u001b[39m \u001b[39m\"\u001b[39m\u001b[39mwin32\u001b[39m\u001b[39m\"\u001b[39m:\n\u001b[0;32m    309\u001b[0m     \u001b[39mreturn\u001b[39;00m devices[\u001b[39mlen\u001b[39m(devices) \u001b[39m-\u001b[39m \u001b[39m1\u001b[39m]\n",
      "\u001b[1;31mThymioConnectionError\u001b[0m: No serial device for Thymio found"
     ]
    }
   ],
   "source": [
    "port = Connection.serial_default_port()"
   ]
  },
  {
   "cell_type": "code",
   "execution_count": 3,
   "id": "9eb142b1",
   "metadata": {},
   "outputs": [
    {
     "name": "stdout",
     "output_type": "stream",
     "text": [
      "24330 is connected\n"
     ]
    }
   ],
   "source": [
    "# Connect to Thymio and store id in variable\n",
    "\n",
    "th = Thymio(serial_port = port, on_connect = lambda id: print (f\"{id} is connected\"))\n",
    "th.connect()\n",
    "id_thymio = th.first_node()"
   ]
  },
  {
   "cell_type": "code",
   "execution_count": 4,
   "id": "5519b58d",
   "metadata": {},
   "outputs": [],
   "source": [
    "th[id_thymio][\"motor.left.target\"] = 0\n",
    "th[id_thymio][\"motor.right.target\"] = 0\n",
    "th[id_thymio][\"leds.top\"] = [0, 0, 0]"
   ]
  },
  {
   "cell_type": "markdown",
   "id": "c61e42e6",
   "metadata": {},
   "source": [
    "## Exercise 1\n",
    "\n",
    "\n"
   ]
  },
  {
   "cell_type": "code",
   "execution_count": 5,
   "id": "ace555ec",
   "metadata": {},
   "outputs": [
    {
     "name": "stderr",
     "output_type": "stream",
     "text": [
      "Task exception was never retrieved\n",
      "future: <Task finished name='Task-55' coro=<Connection.handle_message.<locals>.do_refresh() done, defined at c:\\Users\\oliko\\anaconda3\\envs\\ROBO\\lib\\site-packages\\thymiodirect\\connection.py:451> exception=KeyError(24330)>\n",
      "Traceback (most recent call last):\n",
      "  File \"c:\\Users\\oliko\\anaconda3\\envs\\ROBO\\lib\\site-packages\\thymiodirect\\connection.py\", line 458, in do_refresh\n",
      "    self.get_variables(source_node)\n",
      "  File \"c:\\Users\\oliko\\anaconda3\\envs\\ROBO\\lib\\site-packages\\thymiodirect\\connection.py\", line 571, in get_variables\n",
      "    chunk_length = (self.get_target_node_var_total_size(target_node_id)\n",
      "  File \"c:\\Users\\oliko\\anaconda3\\envs\\ROBO\\lib\\site-packages\\thymiodirect\\connection.py\", line 536, in get_target_node_var_total_size\n",
      "    return self.remote_nodes[target_node_id].var_total_size\n",
      "KeyError: 24330\n"
     ]
    }
   ],
   "source": [
    "th[id_thymio][\"motor.left.target\"] = 300\n",
    "th[id_thymio][\"motor.right.target\"] = 300\n",
    "\n",
    "time.sleep(1)\n",
    "\n",
    "th[id_thymio][\"motor.left.target\"] = 0\n",
    "th[id_thymio][\"motor.right.target\"] = 0"
   ]
  },
  {
   "cell_type": "markdown",
   "id": "5068752c",
   "metadata": {},
   "source": [
    "## Exercise 2"
   ]
  },
  {
   "cell_type": "code",
   "execution_count": 11,
   "id": "2ea40122",
   "metadata": {},
   "outputs": [],
   "source": []
  },
  {
   "cell_type": "markdown",
   "id": "9dcaa2d2",
   "metadata": {},
   "source": [
    "#### Circle (Left Turn)"
   ]
  },
  {
   "cell_type": "code",
   "execution_count": null,
   "id": "af470bb3",
   "metadata": {},
   "outputs": [],
   "source": [
    "# in mm\n",
    "r = 200\n",
    "# in mm per second\n",
    "v = 90\n",
    "v_inner, v_outer = ThymioUtils.curve_velocity(r, v)\n",
    "\n",
    "th[id_thymio][\"leds.top\"] = [32, 0, 0]\n",
    "th[id_thymio][\"motor.left.target\"] = v_inner\n",
    "th[id_thymio][\"motor.right.target\"] = v_outer\n",
    "\n",
    "time.sleep(ThymioUtils.time_for_circle(r, v))\n",
    "\n",
    "th[id_thymio][\"motor.left.target\"] = 0\n",
    "th[id_thymio][\"motor.right.target\"] = 0\n",
    "\n",
    "time.sleep(0.5)"
   ]
  },
  {
   "cell_type": "markdown",
   "id": "d79a653a",
   "metadata": {},
   "source": [
    "#### Circle (Right Turn)"
   ]
  },
  {
   "cell_type": "code",
   "execution_count": null,
   "id": "2a285b54",
   "metadata": {},
   "outputs": [],
   "source": [
    "th[id_thymio][\"leds.top\"] = [0, 32, 0]\n",
    "th[id_thymio][\"motor.left.target\"] = v_outer\n",
    "th[id_thymio][\"motor.right.target\"] = v_inner\n",
    "\n",
    "time.sleep(ThymioUtils.time_for_circle(r, v))\n",
    "\n",
    "th[id_thymio][\"leds.top\"] = [32, 32, 32]\n",
    "th[id_thymio][\"motor.left.target\"] = 0\n",
    "th[id_thymio][\"motor.right.target\"] = 0"
   ]
  },
  {
   "cell_type": "code",
   "execution_count": 16,
   "id": "186c98fa",
   "metadata": {},
   "outputs": [
    {
     "name": "stderr",
     "output_type": "stream",
     "text": [
      "Task exception was never retrieved\n",
      "future: <Task finished name='Task-116' coro=<Connection.handle_message.<locals>.do_refresh() done, defined at C:\\Users\\timon\\.conda\\envs\\robo-thymio\\lib\\site-packages\\thymiodirect\\connection.py:451> exception=KeyError(34241)>\n",
      "Traceback (most recent call last):\n",
      "  File \"C:\\Users\\timon\\.conda\\envs\\robo-thymio\\lib\\site-packages\\thymiodirect\\connection.py\", line 458, in do_refresh\n",
      "    self.get_variables(source_node)\n",
      "  File \"C:\\Users\\timon\\.conda\\envs\\robo-thymio\\lib\\site-packages\\thymiodirect\\connection.py\", line 571, in get_variables\n",
      "    chunk_length = (self.get_target_node_var_total_size(target_node_id)\n",
      "  File \"C:\\Users\\timon\\.conda\\envs\\robo-thymio\\lib\\site-packages\\thymiodirect\\connection.py\", line 536, in get_target_node_var_total_size\n",
      "    return self.remote_nodes[target_node_id].var_total_size\n",
      "KeyError: 34241\n"
     ]
    },
    {
     "name": "stdout",
     "output_type": "stream",
     "text": [
      "34241 is connected\n"
     ]
    }
   ],
   "source": [
    "# in mm\n",
    "r = 200\n",
    "# in mm per second\n",
    "v = 90\n",
    "v_inner, v_outer = ThymioUtils.curve_velocity(r, v)\n",
    "\n",
    "th[id_thymio][\"leds.top\"] = [32, 0, 0]\n",
    "th[id_thymio][\"motor.left.target\"] = v_inner\n",
    "th[id_thymio][\"motor.right.target\"] = v_outer\n",
    "\n",
    "time.sleep(ThymioUtils.time_for_circle(r, v))\n",
    "\n",
    "th[id_thymio][\"motor.left.target\"] = 0\n",
    "th[id_thymio][\"motor.right.target\"] = 0\n",
    "\n",
    "time.sleep(0.5)\n",
    "\n",
    "th[id_thymio][\"leds.top\"] = [0, 32, 0]\n",
    "th[id_thymio][\"motor.left.target\"] = v_outer\n",
    "th[id_thymio][\"motor.right.target\"] = v_inner\n",
    "\n",
    "time.sleep(ThymioUtils.time_for_circle(r, v))\n",
    "\n",
    "th[id_thymio][\"leds.top\"] = [32, 32, 32]\n",
    "th[id_thymio][\"motor.left.target\"] = 0\n",
    "th[id_thymio][\"motor.right.target\"] = 0"
   ]
  },
  {
   "cell_type": "markdown",
   "id": "b6775846",
   "metadata": {},
   "source": [
    "## Exercise 3"
   ]
  },
  {
   "cell_type": "code",
   "execution_count": 15,
   "id": "9a0d7ee1",
   "metadata": {},
   "outputs": [],
   "source": [
    "# in mm\n",
    "r = 200\n",
    "# in mm per second\n",
    "v = 90\n",
    "v_thymio = ThymioUtils.mms_to_thymio(v)\n",
    "v_inner, v_outer = ThymioUtils.curve_velocity(r, v)\n",
    "\n",
    "## Three-quarter Circle (A - B)\n",
    "th[id_thymio][\"leds.top\"] = [32, 0, 0]\n",
    "th[id_thymio][\"motor.left.target\"] = v_inner\n",
    "th[id_thymio][\"motor.right.target\"] = v_outer\n",
    "\n",
    "time.sleep((ThymioUtils.time_for_circle(r, v, 270))\n",
    "\n",
    "th[id_thymio][\"motor.left.target\"] = 0\n",
    "th[id_thymio][\"motor.right.target\"] = 0\n",
    "\n",
    "time.sleep(0.5)\n",
    "\n",
    "## Straight (B - C)\n",
    "th[id_thymio][\"leds.top\"] = [32, 32, 0]\n",
    "th[id_thymio][\"motor.left.target\"] = v_thymio\n",
    "th[id_thymio][\"motor.right.target\"] = v_thymio\n",
    "\n",
    "time.sleep(ThymioUtils.time_for_distance(2 * r, v))\n",
    "\n",
    "th[id_thymio][\"motor.left.target\"] = 0\n",
    "th[id_thymio][\"motor.right.target\"] = 0\n",
    "\n",
    "time.sleep(0.5)\n",
    "\n",
    "## Three-quarter Circle (C - D) \n",
    "th[id_thymio][\"leds.top\"] = [32, 32, 0]\n",
    "th[id_thymio][\"motor.left.target\"] = v_outer\n",
    "th[id_thymio][\"motor.right.target\"] = v_inner\n",
    "\n",
    "time.sleep((ThymioUtils.time_for_circle(r, v, 270))\n",
    "\n",
    "th[id_thymio][\"motor.left.target\"] = 0\n",
    "th[id_thymio][\"motor.right.target\"] = 0\n",
    "\n",
    "time.sleep(0.5)\n",
    "\n",
    "## Straight (D - A)\n",
    "th[id_thymio][\"leds.top\"] = [0, 0, 32]\n",
    "th[id_thymio][\"motor.left.target\"] = v_thymio\n",
    "th[id_thymio][\"motor.right.target\"] = v_thymio\n",
    "\n",
    "time.sleep(ThymioUtils.time_for_distance(2 * r, v))\n",
    "\n",
    "th[id_thymio][\"motor.left.target\"] = 0\n",
    "th[id_thymio][\"motor.right.target\"] = 0"
   ]
  },
  {
   "cell_type": "markdown",
   "id": "a522fd6b",
   "metadata": {},
   "source": [
    "## Exercise 4"
   ]
  },
  {
   "cell_type": "code",
   "execution_count": null,
   "id": "a0923ac5",
   "metadata": {},
   "outputs": [],
   "source": []
  },
  {
   "attachments": {},
   "cell_type": "markdown",
   "id": "384ca7c2",
   "metadata": {},
   "source": [
    "# Exercise 7"
   ]
  },
  {
   "cell_type": "code",
   "execution_count": 6,
   "id": "bbdfd367",
   "metadata": {},
   "outputs": [
    {
     "name": "stdout",
     "output_type": "stream",
     "text": [
      "330\n"
     ]
    },
    {
     "ename": "KeyError",
     "evalue": "'motor.left.target'",
     "output_type": "error",
     "traceback": [
      "\u001b[1;31m---------------------------------------------------------------------------\u001b[0m",
      "\u001b[1;31mKeyError\u001b[0m                                  Traceback (most recent call last)",
      "File \u001b[1;32mc:\\Users\\oliko\\anaconda3\\envs\\ROBO\\lib\\site-packages\\thymiodirect\\thymio.py:194\u001b[0m, in \u001b[0;36mThymio.__getitem__.<locals>.Node.__setitem__\u001b[1;34m(self_node, name, val)\u001b[0m\n\u001b[0;32m    193\u001b[0m     \u001b[39melse\u001b[39;00m:\n\u001b[1;32m--> 194\u001b[0m         \u001b[39mself\u001b[39;49m\u001b[39m.\u001b[39;49mthymio_proxy\u001b[39m.\u001b[39;49mconnection\u001b[39m.\u001b[39;49mset_var(self_node\u001b[39m.\u001b[39;49mnode_id, name, val)\n\u001b[0;32m    195\u001b[0m \u001b[39mexcept\u001b[39;00m \u001b[39mKeyError\u001b[39;00m:\n",
      "File \u001b[1;32mc:\\Users\\oliko\\anaconda3\\envs\\ROBO\\lib\\site-packages\\thymiodirect\\connection.py:626\u001b[0m, in \u001b[0;36mConnection.set_var\u001b[1;34m(self, target_node_id, name, val, index)\u001b[0m\n\u001b[0;32m    624\u001b[0m \u001b[39m\"\"\"Set the value of a scalar variable in the local copy and send it.\u001b[39;00m\n\u001b[0;32m    625\u001b[0m \u001b[39m\"\"\"\u001b[39;00m\n\u001b[1;32m--> 626\u001b[0m node \u001b[39m=\u001b[39m \u001b[39mself\u001b[39;49m\u001b[39m.\u001b[39;49mremote_nodes[target_node_id]\n\u001b[0;32m    627\u001b[0m \u001b[39mwith\u001b[39;00m \u001b[39mself\u001b[39m\u001b[39m.\u001b[39minput_lock:\n",
      "\u001b[1;31mKeyError\u001b[0m: 24330",
      "\nDuring handling of the above exception, another exception occurred:\n",
      "\u001b[1;31mKeyError\u001b[0m                                  Traceback (most recent call last)",
      "\u001b[1;32mc:\\Projects\\Studium\\Robo\\robo\\M1\\excercise - Copy.ipynb Cell 19\u001b[0m in \u001b[0;36m2\n\u001b[0;32m     <a href='vscode-notebook-cell:/c%3A/Projects/Studium/Robo/robo/M1/excercise%20-%20Copy.ipynb#X24sZmlsZQ%3D%3D?line=9'>10</a>\u001b[0m instructions \u001b[39m=\u001b[39m [\n\u001b[0;32m     <a href='vscode-notebook-cell:/c%3A/Projects/Studium/Robo/robo/M1/excercise%20-%20Copy.ipynb#X24sZmlsZQ%3D%3D?line=10'>11</a>\u001b[0m     [time_for_medium_dist, \u001b[39mTrue\u001b[39;00m, \u001b[39m2\u001b[39m\u001b[39m*\u001b[39mtime_for_45_deg_turn], \u001b[39m#first line + 90 degree turn\u001b[39;00m\n\u001b[0;32m     <a href='vscode-notebook-cell:/c%3A/Projects/Studium/Robo/robo/M1/excercise%20-%20Copy.ipynb#X24sZmlsZQ%3D%3D?line=11'>12</a>\u001b[0m     [time_for_medium_dist, \u001b[39mTrue\u001b[39;00m, \u001b[39m2\u001b[39m\u001b[39m*\u001b[39mtime_for_45_deg_turn],\n\u001b[1;32m   (...)\u001b[0m\n\u001b[0;32m     <a href='vscode-notebook-cell:/c%3A/Projects/Studium/Robo/robo/M1/excercise%20-%20Copy.ipynb#X24sZmlsZQ%3D%3D?line=17'>18</a>\u001b[0m     [time_for_long_dist, \u001b[39mFalse\u001b[39;00m, \u001b[39m0\u001b[39m]\n\u001b[0;32m     <a href='vscode-notebook-cell:/c%3A/Projects/Studium/Robo/robo/M1/excercise%20-%20Copy.ipynb#X24sZmlsZQ%3D%3D?line=18'>19</a>\u001b[0m ]\n\u001b[0;32m     <a href='vscode-notebook-cell:/c%3A/Projects/Studium/Robo/robo/M1/excercise%20-%20Copy.ipynb#X24sZmlsZQ%3D%3D?line=20'>21</a>\u001b[0m \u001b[39mfor\u001b[39;00m instruction \u001b[39min\u001b[39;00m instructions:\n\u001b[1;32m---> <a href='vscode-notebook-cell:/c%3A/Projects/Studium/Robo/robo/M1/excercise%20-%20Copy.ipynb#X24sZmlsZQ%3D%3D?line=21'>22</a>\u001b[0m     th[id_thymio][\u001b[39m\"\u001b[39m\u001b[39mmotor.left.target\u001b[39m\u001b[39m\"\u001b[39m] \u001b[39m=\u001b[39m default_speed\n\u001b[0;32m     <a href='vscode-notebook-cell:/c%3A/Projects/Studium/Robo/robo/M1/excercise%20-%20Copy.ipynb#X24sZmlsZQ%3D%3D?line=22'>23</a>\u001b[0m     th[id_thymio][\u001b[39m\"\u001b[39m\u001b[39mmotor.right.target\u001b[39m\u001b[39m\"\u001b[39m] \u001b[39m=\u001b[39m default_speed\n\u001b[0;32m     <a href='vscode-notebook-cell:/c%3A/Projects/Studium/Robo/robo/M1/excercise%20-%20Copy.ipynb#X24sZmlsZQ%3D%3D?line=23'>24</a>\u001b[0m     time\u001b[39m.\u001b[39msleep(instruction[\u001b[39m0\u001b[39m])\n",
      "File \u001b[1;32mc:\\Users\\oliko\\anaconda3\\envs\\ROBO\\lib\\site-packages\\thymiodirect\\thymio.py:196\u001b[0m, in \u001b[0;36mThymio.__getitem__.<locals>.Node.__setitem__\u001b[1;34m(self_node, name, val)\u001b[0m\n\u001b[0;32m    194\u001b[0m         \u001b[39mself\u001b[39m\u001b[39m.\u001b[39mthymio_proxy\u001b[39m.\u001b[39mconnection\u001b[39m.\u001b[39mset_var(self_node\u001b[39m.\u001b[39mnode_id, name, val)\n\u001b[0;32m    195\u001b[0m \u001b[39mexcept\u001b[39;00m \u001b[39mKeyError\u001b[39;00m:\n\u001b[1;32m--> 196\u001b[0m     \u001b[39mraise\u001b[39;00m \u001b[39mKeyError\u001b[39;00m(name)\n",
      "\u001b[1;31mKeyError\u001b[0m: 'motor.left.target'"
     ]
    },
    {
     "name": "stdout",
     "output_type": "stream",
     "text": [
      "24330 is connected\n"
     ]
    }
   ],
   "source": [
    "default_speed = ThymioUtils.Thymio.mms_to_thymio(100)\n",
    "print(default_speed)\n",
    "turn_speed = 200\n",
    "\n",
    "time_for_short_dist = 0.85 #roof of the house\n",
    "time_for_medium_dist = 1.2 #side walls of the quadrat\n",
    "time_for_long_dist = 1.7 #diagonals\n",
    "time_for_45_deg_turn = 0.6\n",
    "\n",
    "instructions = [\n",
    "    [time_for_medium_dist, True, 2*time_for_45_deg_turn], #first line + 90 degree turn\n",
    "    [time_for_medium_dist, True, 2*time_for_45_deg_turn],\n",
    "    [time_for_medium_dist, False, 3*time_for_45_deg_turn],\n",
    "    [time_for_short_dist, False, 2*time_for_45_deg_turn],\n",
    "    [time_for_short_dist, False, 2*time_for_45_deg_turn],\n",
    "    [time_for_long_dist, False, 3*time_for_45_deg_turn],\n",
    "    [time_for_medium_dist, False, 3*time_for_45_deg_turn],\n",
    "    [time_for_long_dist, False, 0]\n",
    "]\n",
    "\n",
    "for instruction in instructions:\n",
    "    th[id_thymio][\"motor.left.target\"] = default_speed\n",
    "    th[id_thymio][\"motor.right.target\"] = default_speed\n",
    "    time.sleep(instruction[0])\n",
    "\n",
    "    if instruction[1]:\n",
    "        th[id_thymio][\"motor.left.target\"] = -turn_speed\n",
    "        th[id_thymio][\"motor.right.target\"] = turn_speed\n",
    "    else:\n",
    "        th[id_thymio][\"motor.right.target\"] = -turn_speed\n",
    "        th[id_thymio][\"motor.left.target\"] = turn_speed\n",
    "    time.sleep(instruction[2])\n",
    "\n",
    "    th[id_thymio][\"motor.left.target\"] = 0\n",
    "    th[id_thymio][\"motor.right.target\"] = 0\n",
    "    time.sleep(0.5)\n",
    "\n"
   ]
  },
  {
   "attachments": {},
   "cell_type": "markdown",
   "id": "752090dc",
   "metadata": {},
   "source": [
    "## Haus des Nikolaus\n",
    "- Aussenkanten Quadrat, berechnet: 12cm tatsächlich: 12.2cm\n",
    "- Dachdreieck, berechnet: 8.5cm tatsächlich: 8.5cm\n",
    "- Diagonale, berechnet: 17cm tatsächlich: 17.2cm"
   ]
  },
  {
   "cell_type": "markdown",
   "id": "4e0c8c1d",
   "metadata": {},
   "source": [
    "## Appendix\n"
   ]
  },
  {
   "cell_type": "code",
   "execution_count": null,
   "id": "02de7c60",
   "metadata": {},
   "outputs": [],
   "source": [
    "def mms_to_thymio(v):\n",
    "    v_thymio = v * 3.3\n",
    "    return min(math.floor(v_thymio), 400)\n",
    "\n",
    "def curve_velocity(r, v):\n",
    "    w = v / r\n",
    "    v_inner = w * (r - 105/2)\n",
    "    v_outer = w * (r + 105/2)\n",
    "    return mms_to_thymio(v_inner), mms_to_thymio(v_outer)\n",
    "\n",
    "def time_for_distance(d, v):\n",
    "    return d / v;\n",
    "\n",
    "def time_for_circle(r, v):\n",
    "    return time_for_distance(2 * r * math.pi, v);"
   ]
  }
 ],
 "metadata": {
  "kernelspec": {
   "display_name": "ROBO",
   "language": "python",
   "name": "python3"
  },
  "language_info": {
   "codemirror_mode": {
    "name": "ipython",
    "version": 3
   },
   "file_extension": ".py",
   "mimetype": "text/x-python",
   "name": "python",
   "nbconvert_exporter": "python",
   "pygments_lexer": "ipython3",
   "version": "3.9.16"
  }
 },
 "nbformat": 4,
 "nbformat_minor": 5
}
