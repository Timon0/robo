{
 "cells": [
  {
   "cell_type": "code",
   "execution_count": 1,
   "id": "0c33e310",
   "metadata": {},
   "outputs": [],
   "source": [
    "from thymiodirect import Thymio, Connection\n",
    "import time\n",
    "import math\n",
    "import ThymioUtils"
   ]
  },
  {
   "cell_type": "code",
   "execution_count": 2,
   "id": "ec14ecce",
   "metadata": {},
   "outputs": [],
   "source": [
    "port = Connection.serial_default_port()"
   ]
  },
  {
   "cell_type": "code",
   "execution_count": 3,
   "id": "9eb142b1",
   "metadata": {},
   "outputs": [
    {
     "name": "stdout",
     "output_type": "stream",
     "text": [
      "24330 is connected\n"
     ]
    }
   ],
   "source": [
    "# Connect to Thymio and store id in variable\n",
    "\n",
    "th = Thymio(serial_port = port, on_connect = lambda id: print (f\"{id} is connected\"))\n",
    "th.connect()\n",
    "id_thymio = th.first_node()"
   ]
  },
  {
   "cell_type": "code",
   "execution_count": 4,
   "id": "5519b58d",
   "metadata": {},
   "outputs": [],
   "source": [
    "th[id_thymio][\"motor.left.target\"] = 0\n",
    "th[id_thymio][\"motor.right.target\"] = 0\n",
    "th[id_thymio][\"leds.top\"] = [0, 0, 0]"
   ]
  },
  {
   "cell_type": "markdown",
   "id": "c61e42e6",
   "metadata": {},
   "source": [
    "## Exercise 1\n",
    "\n",
    "\n"
   ]
  },
  {
   "cell_type": "code",
   "execution_count": null,
   "id": "ace555ec",
   "metadata": {},
   "outputs": [],
   "source": [
    "th[id_thymio][\"motor.left.target\"] = 300\n",
    "th[id_thymio][\"motor.right.target\"] = 300\n",
    "\n",
    "time.sleep(20)\n",
    "\n",
    "th[id_thymio][\"motor.left.target\"] = 0\n",
    "th[id_thymio][\"motor.right.target\"] = 0"
   ]
  },
  {
   "cell_type": "markdown",
   "id": "5068752c",
   "metadata": {},
   "source": [
    "## Exercise 2"
   ]
  },
  {
   "cell_type": "code",
   "execution_count": 11,
   "id": "2ea40122",
   "metadata": {},
   "outputs": [],
   "source": []
  },
  {
   "cell_type": "markdown",
   "id": "9dcaa2d2",
   "metadata": {},
   "source": [
    "#### Circle (Left Turn)"
   ]
  },
  {
   "cell_type": "code",
   "execution_count": null,
   "id": "af470bb3",
   "metadata": {},
   "outputs": [],
   "source": [
    "# in mm\n",
    "r = 200\n",
    "# in mm per second\n",
    "v = 90\n",
    "v_inner, v_outer = ThymioUtils.curve_velocity(r, v)\n",
    "\n",
    "th[id_thymio][\"leds.top\"] = [32, 0, 0]\n",
    "th[id_thymio][\"motor.left.target\"] = v_inner\n",
    "th[id_thymio][\"motor.right.target\"] = v_outer\n",
    "\n",
    "time.sleep(ThymioUtils.time_for_circle(r, v))\n",
    "\n",
    "th[id_thymio][\"motor.left.target\"] = 0\n",
    "th[id_thymio][\"motor.right.target\"] = 0\n",
    "\n",
    "time.sleep(0.5)"
   ]
  },
  {
   "cell_type": "markdown",
   "id": "d79a653a",
   "metadata": {},
   "source": [
    "#### Circle (Right Turn)"
   ]
  },
  {
   "cell_type": "code",
   "execution_count": null,
   "id": "2a285b54",
   "metadata": {},
   "outputs": [],
   "source": [
    "th[id_thymio][\"leds.top\"] = [0, 32, 0]\n",
    "th[id_thymio][\"motor.left.target\"] = v_outer\n",
    "th[id_thymio][\"motor.right.target\"] = v_inner\n",
    "\n",
    "time.sleep(ThymioUtils.time_for_circle(r, v))\n",
    "\n",
    "th[id_thymio][\"leds.top\"] = [32, 32, 32]\n",
    "th[id_thymio][\"motor.left.target\"] = 0\n",
    "th[id_thymio][\"motor.right.target\"] = 0"
   ]
  },
  {
   "cell_type": "code",
   "execution_count": 16,
   "id": "186c98fa",
   "metadata": {},
   "outputs": [
    {
     "name": "stderr",
     "output_type": "stream",
     "text": [
      "Task exception was never retrieved\n",
      "future: <Task finished name='Task-116' coro=<Connection.handle_message.<locals>.do_refresh() done, defined at C:\\Users\\timon\\.conda\\envs\\robo-thymio\\lib\\site-packages\\thymiodirect\\connection.py:451> exception=KeyError(34241)>\n",
      "Traceback (most recent call last):\n",
      "  File \"C:\\Users\\timon\\.conda\\envs\\robo-thymio\\lib\\site-packages\\thymiodirect\\connection.py\", line 458, in do_refresh\n",
      "    self.get_variables(source_node)\n",
      "  File \"C:\\Users\\timon\\.conda\\envs\\robo-thymio\\lib\\site-packages\\thymiodirect\\connection.py\", line 571, in get_variables\n",
      "    chunk_length = (self.get_target_node_var_total_size(target_node_id)\n",
      "  File \"C:\\Users\\timon\\.conda\\envs\\robo-thymio\\lib\\site-packages\\thymiodirect\\connection.py\", line 536, in get_target_node_var_total_size\n",
      "    return self.remote_nodes[target_node_id].var_total_size\n",
      "KeyError: 34241\n"
     ]
    },
    {
     "name": "stdout",
     "output_type": "stream",
     "text": [
      "34241 is connected\n"
     ]
    }
   ],
   "source": [
    "# in mm\n",
    "r = 200\n",
    "# in mm per second\n",
    "v = 90\n",
    "v_inner, v_outer = ThymioUtils.curve_velocity(r, v)\n",
    "\n",
    "th[id_thymio][\"leds.top\"] = [32, 0, 0]\n",
    "th[id_thymio][\"motor.left.target\"] = v_inner\n",
    "th[id_thymio][\"motor.right.target\"] = v_outer\n",
    "\n",
    "time.sleep(ThymioUtils.time_for_circle(r, v))\n",
    "\n",
    "th[id_thymio][\"motor.left.target\"] = 0\n",
    "th[id_thymio][\"motor.right.target\"] = 0\n",
    "\n",
    "time.sleep(0.5)\n",
    "\n",
    "th[id_thymio][\"leds.top\"] = [0, 32, 0]\n",
    "th[id_thymio][\"motor.left.target\"] = v_outer\n",
    "th[id_thymio][\"motor.right.target\"] = v_inner\n",
    "\n",
    "time.sleep(ThymioUtils.time_for_circle(r, v))\n",
    "\n",
    "th[id_thymio][\"leds.top\"] = [32, 32, 32]\n",
    "th[id_thymio][\"motor.left.target\"] = 0\n",
    "th[id_thymio][\"motor.right.target\"] = 0"
   ]
  },
  {
   "cell_type": "markdown",
   "id": "b6775846",
   "metadata": {},
   "source": [
    "## Exercise 3"
   ]
  },
  {
   "cell_type": "code",
   "execution_count": 15,
   "id": "9a0d7ee1",
   "metadata": {},
   "outputs": [],
   "source": [
    "# in mm\n",
    "r = 200\n",
    "# in mm per second\n",
    "v = 90\n",
    "v_thymio = ThymioUtils.mms_to_thymio(v)\n",
    "v_inner, v_outer = ThymioUtils.curve_velocity(r, v)\n",
    "\n",
    "## Three-quarter Circle (A - B)\n",
    "th[id_thymio][\"leds.top\"] = [32, 0, 0]\n",
    "th[id_thymio][\"motor.left.target\"] = v_inner\n",
    "th[id_thymio][\"motor.right.target\"] = v_outer\n",
    "\n",
    "time.sleep((ThymioUtils.time_for_circle(r, v, 270))\n",
    "\n",
    "th[id_thymio][\"motor.left.target\"] = 0\n",
    "th[id_thymio][\"motor.right.target\"] = 0\n",
    "\n",
    "time.sleep(0.5)\n",
    "\n",
    "## Straight (B - C)\n",
    "th[id_thymio][\"leds.top\"] = [32, 32, 0]\n",
    "th[id_thymio][\"motor.left.target\"] = v_thymio\n",
    "th[id_thymio][\"motor.right.target\"] = v_thymio\n",
    "\n",
    "time.sleep(ThymioUtils.time_for_distance(2 * r, v))\n",
    "\n",
    "th[id_thymio][\"motor.left.target\"] = 0\n",
    "th[id_thymio][\"motor.right.target\"] = 0\n",
    "\n",
    "time.sleep(0.5)\n",
    "\n",
    "## Three-quarter Circle (C - D) \n",
    "th[id_thymio][\"leds.top\"] = [32, 32, 0]\n",
    "th[id_thymio][\"motor.left.target\"] = v_outer\n",
    "th[id_thymio][\"motor.right.target\"] = v_inner\n",
    "\n",
    "time.sleep((ThymioUtils.time_for_circle(r, v, 270))\n",
    "\n",
    "th[id_thymio][\"motor.left.target\"] = 0\n",
    "th[id_thymio][\"motor.right.target\"] = 0\n",
    "\n",
    "time.sleep(0.5)\n",
    "\n",
    "## Straight (D - A)\n",
    "th[id_thymio][\"leds.top\"] = [0, 0, 32]\n",
    "th[id_thymio][\"motor.left.target\"] = v_thymio\n",
    "th[id_thymio][\"motor.right.target\"] = v_thymio\n",
    "\n",
    "time.sleep(ThymioUtils.time_for_distance(2 * r, v))\n",
    "\n",
    "th[id_thymio][\"motor.left.target\"] = 0\n",
    "th[id_thymio][\"motor.right.target\"] = 0"
   ]
  },
  {
   "cell_type": "markdown",
   "id": "a522fd6b",
   "metadata": {},
   "source": [
    "## Exercise 4"
   ]
  },
  {
   "cell_type": "code",
   "execution_count": null,
   "id": "a0923ac5",
   "metadata": {},
   "outputs": [],
   "source": []
  },
  {
   "attachments": {},
   "cell_type": "markdown",
   "id": "384ca7c2",
   "metadata": {},
   "source": [
    "# Exercise 7"
   ]
  },
  {
   "cell_type": "code",
   "execution_count": 4,
   "id": "bbdfd367",
   "metadata": {},
   "outputs": [
    {
     "name": "stderr",
     "output_type": "stream",
     "text": [
      "Task exception was never retrieved\n",
      "future: <Task finished name='Task-55' coro=<Connection.handle_message.<locals>.do_refresh() done, defined at c:\\Users\\oliko\\anaconda3\\envs\\ROBO\\lib\\site-packages\\thymiodirect\\connection.py:451> exception=KeyError(24330)>\n",
      "Traceback (most recent call last):\n",
      "  File \"c:\\Users\\oliko\\anaconda3\\envs\\ROBO\\lib\\site-packages\\thymiodirect\\connection.py\", line 458, in do_refresh\n",
      "    self.get_variables(source_node)\n",
      "  File \"c:\\Users\\oliko\\anaconda3\\envs\\ROBO\\lib\\site-packages\\thymiodirect\\connection.py\", line 571, in get_variables\n",
      "    chunk_length = (self.get_target_node_var_total_size(target_node_id)\n",
      "  File \"c:\\Users\\oliko\\anaconda3\\envs\\ROBO\\lib\\site-packages\\thymiodirect\\connection.py\", line 536, in get_target_node_var_total_size\n",
      "    return self.remote_nodes[target_node_id].var_total_size\n",
      "KeyError: 24330\n"
     ]
    }
   ],
   "source": [
    "default_speed = ThymioUtils.Thymio.mms_to_thymio(100)\n",
    "turn_speed = 200\n",
    "\n",
    "time_for_short_dist = 0.85 #roof of the house\n",
    "time_for_medium_dist = 1.2 #side walls of the quadrat\n",
    "time_for_long_dist = 1.7 #diagonals\n",
    "time_for_45_deg_turn = 0.6\n",
    "\n",
    "instructions = [\n",
    "    [time_for_medium_dist, True, 2*time_for_45_deg_turn], #first line + 90 degree turn\n",
    "    [time_for_medium_dist, True, 2*time_for_45_deg_turn],\n",
    "    [time_for_medium_dist, False, 3*time_for_45_deg_turn],\n",
    "    [time_for_short_dist, False, 2*time_for_45_deg_turn],\n",
    "    [time_for_short_dist, False, 2*time_for_45_deg_turn],\n",
    "    [time_for_long_dist, False, 3*time_for_45_deg_turn],\n",
    "    [time_for_medium_dist, False, 3*time_for_45_deg_turn],\n",
    "    [time_for_long_dist, False, 0]\n",
    "]\n",
    "\n",
    "for instruction in instructions:\n",
    "    th[id_thymio][\"motor.left.target\"] = default_speed\n",
    "    th[id_thymio][\"motor.right.target\"] = default_speed\n",
    "    time.sleep(instruction[0])\n",
    "\n",
    "    if instruction[1]:\n",
    "        th[id_thymio][\"motor.left.target\"] = -turn_speed\n",
    "        th[id_thymio][\"motor.right.target\"] = turn_speed\n",
    "    else:\n",
    "        th[id_thymio][\"motor.right.target\"] = -turn_speed\n",
    "        th[id_thymio][\"motor.left.target\"] = turn_speed\n",
    "    time.sleep(instruction[2])\n",
    "\n",
    "    th[id_thymio][\"motor.left.target\"] = 0\n",
    "    th[id_thymio][\"motor.right.target\"] = 0\n",
    "    time.sleep(0.5)\n",
    "\n"
   ]
  },
  {
   "cell_type": "markdown",
   "id": "4e0c8c1d",
   "metadata": {},
   "source": [
    "## Appendix\n"
   ]
  },
  {
   "cell_type": "code",
   "execution_count": null,
   "id": "02de7c60",
   "metadata": {},
   "outputs": [],
   "source": [
    "def mms_to_thymio(v):\n",
    "    v_thymio = v * 3.3\n",
    "    return min(math.floor(v_thymio), 400)\n",
    "\n",
    "def curve_velocity(r, v):\n",
    "    w = v / r\n",
    "    v_inner = w * (r - 105/2)\n",
    "    v_outer = w * (r + 105/2)\n",
    "    return mms_to_thymio(v_inner), mms_to_thymio(v_outer)\n",
    "\n",
    "def time_for_distance(d, v):\n",
    "    return d / v;\n",
    "\n",
    "def time_for_circle(r, v):\n",
    "    return time_for_distance(2 * r * math.pi, v);"
   ]
  }
 ],
 "metadata": {
  "kernelspec": {
   "display_name": "ROBO",
   "language": "python",
   "name": "python3"
  },
  "language_info": {
   "codemirror_mode": {
    "name": "ipython",
    "version": 3
   },
   "file_extension": ".py",
   "mimetype": "text/x-python",
   "name": "python",
   "nbconvert_exporter": "python",
   "pygments_lexer": "ipython3",
   "version": "3.9.16"
  }
 },
 "nbformat": 4,
 "nbformat_minor": 5
}
