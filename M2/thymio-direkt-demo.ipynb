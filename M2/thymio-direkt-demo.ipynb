{
 "cells": [
  {
   "cell_type": "code",
   "execution_count": 1,
   "id": "00f3a61f",
   "metadata": {},
   "outputs": [],
   "source": [
    "from thymiodirect import Connection\n",
    "from thymiodirect import Thymio"
   ]
  },
  {
   "cell_type": "code",
   "execution_count": 2,
   "id": "59b1aeba",
   "metadata": {},
   "outputs": [],
   "source": [
    "port = \"COM8:\""
   ]
  },
  {
   "cell_type": "code",
   "execution_count": 3,
   "id": "5093ac40",
   "metadata": {},
   "outputs": [
    {
     "name": "stdout",
     "output_type": "stream",
     "text": [
      "34241 is connected\n"
     ]
    }
   ],
   "source": [
    "th = Thymio (serial_port = port, on_connect = lambda id: print (f\"{id} is connected\"), refreshing_rate = 0.05, refreshing_coverage = {\"prox.horizontal\"})\n",
    "th.connect()"
   ]
  },
  {
   "cell_type": "code",
   "execution_count": 4,
   "id": "6b016f7b",
   "metadata": {},
   "outputs": [],
   "source": [
    "id = th.first_node()"
   ]
  },
  {
   "cell_type": "code",
   "execution_count": 5,
   "id": "aa2feff9",
   "metadata": {},
   "outputs": [],
   "source": [
    "th [id] [\"leds.top\"] = [32, 32, 32]"
   ]
  },
  {
   "cell_type": "code",
   "execution_count": 6,
   "id": "0c77d83d",
   "metadata": {},
   "outputs": [],
   "source": [
    "th [id] [\"motor.left.target\"] = 0"
   ]
  },
  {
   "cell_type": "code",
   "execution_count": 7,
   "id": "5d05ff84",
   "metadata": {},
   "outputs": [],
   "source": [
    "def f (id):\n",
    "    print (th [id] [\"prox.horizontal\"], end = \"          \\r\")"
   ]
  },
  {
   "cell_type": "code",
   "execution_count": 8,
   "id": "68981917",
   "metadata": {},
   "outputs": [
    {
     "name": "stdout",
     "output_type": "stream",
     "text": [
      "[0, 0, 0, 0, 0, 0, 0]\n"
     ]
    }
   ],
   "source": [
    "print (th [id] [\"prox.horizontal\"])"
   ]
  },
  {
   "cell_type": "code",
   "execution_count": 9,
   "id": "5c701118",
   "metadata": {},
   "outputs": [
    {
     "name": "stdout",
     "output_type": "stream",
     "text": [
      "[0, 0, 0, 0, 3663, 0, 0]                          \r"
     ]
    },
    {
     "name": "stderr",
     "output_type": "stream",
     "text": [
      "Task exception was never retrieved\n",
      "future: <Task finished name='Task-111' coro=<Connection.handle_message.<locals>.do_refresh() done, defined at C:\\SW\\MiniConda3\\lib\\site-packages\\thymiodirect\\connection.py:451> exception=KeyError(34241)>\n",
      "Traceback (most recent call last):\n",
      "  File \"C:\\SW\\MiniConda3\\lib\\site-packages\\thymiodirect\\connection.py\", line 464, in do_refresh\n",
      "    self.get_variables(source_node, self.refreshing_data_span[0], self.refreshing_data_span[1])\n",
      "  File \"C:\\SW\\MiniConda3\\lib\\site-packages\\thymiodirect\\connection.py\", line 579, in get_variables\n",
      "    self.remote_nodes[target_node_id].expected_var_end = chunk_offset + chunk_length\n",
      "KeyError: 34241\n"
     ]
    },
    {
     "name": "stdout",
     "output_type": "stream",
     "text": [
      "34241 is connected\n",
      "[2443, 3219, 4048, 0, 0, 0, 0]                \r"
     ]
    },
    {
     "name": "stderr",
     "output_type": "stream",
     "text": [
      "Task exception was never retrieved\n",
      "future: <Task finished name='Task-241754' coro=<Connection.handle_message.<locals>.do_refresh() done, defined at C:\\SW\\MiniConda3\\lib\\site-packages\\thymiodirect\\connection.py:451> exception=KeyError(34241)>\n",
      "Traceback (most recent call last):\n",
      "  File \"C:\\SW\\MiniConda3\\lib\\site-packages\\thymiodirect\\connection.py\", line 464, in do_refresh\n",
      "    self.get_variables(source_node, self.refreshing_data_span[0], self.refreshing_data_span[1])\n",
      "  File \"C:\\SW\\MiniConda3\\lib\\site-packages\\thymiodirect\\connection.py\", line 579, in get_variables\n",
      "    self.remote_nodes[target_node_id].expected_var_end = chunk_offset + chunk_length\n",
      "KeyError: 34241\n",
      "Task exception was never retrieved\n",
      "future: <Task finished name='Task-4' coro=<Connection.__init__.<locals>.discover() done, defined at C:\\SW\\MiniConda3\\lib\\site-packages\\thymiodirect\\connection.py:236> exception=SerialTimeoutException('Write timeout')>\n",
      "Traceback (most recent call last):\n",
      "  File \"C:\\SW\\MiniConda3\\lib\\site-packages\\thymiodirect\\connection.py\", line 238, in discover\n",
      "    self.handshake()\n",
      "  File \"C:\\SW\\MiniConda3\\lib\\site-packages\\thymiodirect\\connection.py\", line 363, in handshake\n",
      "    self.list_nodes()\n",
      "  File \"C:\\SW\\MiniConda3\\lib\\site-packages\\thymiodirect\\connection.py\", line 543, in list_nodes\n",
      "    self.send(msg)\n",
      "  File \"C:\\SW\\MiniConda3\\lib\\site-packages\\thymiodirect\\connection.py\", line 530, in send\n",
      "    raise error\n",
      "  File \"C:\\SW\\MiniConda3\\lib\\site-packages\\thymiodirect\\connection.py\", line 525, in send\n",
      "    self.io.write(msg.serialize())\n",
      "  File \"C:\\SW\\MiniConda3\\lib\\site-packages\\serial\\serialwin32.py\", line 325, in write\n",
      "    raise SerialTimeoutException('Write timeout')\n",
      "serial.serialutil.SerialTimeoutException: Write timeout\n",
      "Exception in thread Thread-6:\n",
      "Traceback (most recent call last):\n",
      "  File \"C:\\SW\\MiniConda3\\lib\\threading.py\", line 973, in _bootstrap_inner\n",
      "    self.run()\n",
      "  File \"C:\\SW\\MiniConda3\\lib\\site-packages\\thymiodirect\\connection.py\", line 69, in run\n",
      "    msg = self.read_message()\n",
      "  File \"C:\\SW\\MiniConda3\\lib\\site-packages\\thymiodirect\\connection.py\", line 62, in read_message\n",
      "    raise error\n",
      "  File \"C:\\SW\\MiniConda3\\lib\\site-packages\\thymiodirect\\connection.py\", line 54, in read_message\n",
      "    payload_len = self.read_uint16()\n",
      "  File \"C:\\SW\\MiniConda3\\lib\\site-packages\\thymiodirect\\connection.py\", line 39, in read_uint16\n",
      "    b = self.io.read(2)\n",
      "  File \"C:\\SW\\MiniConda3\\lib\\site-packages\\serial\\serialwin32.py\", line 275, in read\n",
      "    raise SerialException(\"ClearCommError failed ({!r})\".format(ctypes.WinError()))\n",
      "serial.serialutil.SerialException: ClearCommError failed (PermissionError(13, 'Das Gerät erkennt den Befehl nicht.', None, 22))\n"
     ]
    }
   ],
   "source": [
    "th.set_variable_observer (id, f)"
   ]
  },
  {
   "cell_type": "code",
   "execution_count": null,
   "id": "1264a64e",
   "metadata": {},
   "outputs": [],
   "source": []
  }
 ],
 "metadata": {
  "kernelspec": {
   "display_name": "Python 3 (ipykernel)",
   "language": "python",
   "name": "python3"
  },
  "language_info": {
   "codemirror_mode": {
    "name": "ipython",
    "version": 3
   },
   "file_extension": ".py",
   "mimetype": "text/x-python",
   "name": "python",
   "nbconvert_exporter": "python",
   "pygments_lexer": "ipython3",
   "version": "3.9.12"
  }
 },
 "nbformat": 4,
 "nbformat_minor": 5
}
