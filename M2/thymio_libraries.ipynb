{
 "cells": [
  {
   "cell_type": "markdown",
   "metadata": {},
   "source": [
    "***\n",
    "### Thymio Libraries\n",
    "***\n",
    "\n",
    "__Overview of the different ways to work with Thymio.__"
   ]
  },
  {
   "cell_type": "markdown",
   "metadata": {},
   "source": [
    "#### Aseba Studio"
   ]
  },
  {
   "cell_type": "markdown",
   "metadata": {},
   "source": [
    "[Aseba Studio](http://wiki.thymio.org/en:asebastudio) is the native way to work with Thymio. It's a small IDE with a data inspector and other nice features.\n",
    "\n",
    "*Pros*:\n",
    "- Fast and reliable\n",
    "- Optimized for working with Thymio\n",
    "- Many examples for Thymio for Aseba available\n",
    "\n",
    "*Cons*:\n",
    "- No Python Support, the programming language is [Aseba](https://mobsya.github.io/aseba/aseba-language.html)"
   ]
  },
  {
   "cell_type": "markdown",
   "metadata": {},
   "source": [
    "#### Thymio Direct"
   ]
  },
  {
   "cell_type": "markdown",
   "metadata": {},
   "source": [
    "[Thymio Direct](https://pypi.org/project/thymiodirect/) is a Python package to connect to a Thymio robot with its native binary protocol via a serial port.\n",
    "\n",
    "*Pros*:\n",
    "- All code can be written in Python \n",
    "- Code can be executed in Jupyter Notebooks\n",
    "\n",
    "*Cons*:\n",
    "- Close to no exaples on how to use is\n",
    "- Poorly Documented\n",
    "- Some events are not implemented. You'll have to use a Python alternative (e.g. timer events -> time.sleep)"
   ]
  },
  {
   "cell_type": "code",
   "execution_count": 1,
   "id": "00f3a61f",
   "metadata": {},
   "outputs": [],
   "source": [
    "from thymiodirect import Thymio, Connection"
   ]
  },
  {
   "cell_type": "code",
   "execution_count": 3,
   "id": "5ef6bf0b",
   "metadata": {},
   "outputs": [
    {
     "name": "stdout",
     "output_type": "stream",
     "text": [
      "/dev/cu.ENEBY30\n",
      "/dev/cu.THR30IIWIRELESS760A05\n",
      "/dev/cu.Bluetooth-Incoming-Port\n",
      "/dev/cu.usbmodem2101\n"
     ]
    }
   ],
   "source": [
    "# Get the default port \n",
    "\n",
    "port = Connection.serial_default_port()"
   ]
  },
  {
   "cell_type": "code",
   "execution_count": 3,
   "id": "5093ac40",
   "metadata": {},
   "outputs": [
    {
     "name": "stdout",
     "output_type": "stream",
     "text": [
      "25784 is connected\n"
     ]
    }
   ],
   "source": [
    "# Connect to Thymio and store id in variable\n",
    "\n",
    "th = Thymio(serial_port = port, on_connect = lambda id: print (f\"{id} is connected\"))\n",
    "th.connect()\n",
    "id = th.first_node()"
   ]
  },
  {
   "cell_type": "code",
   "execution_count": 9,
   "metadata": {},
   "outputs": [],
   "source": [
    "# Example script to let Thymios lights blink\n",
    "\n",
    "from time import sleep\n",
    "on = False\n",
    "\n",
    "def obs(node_id):\n",
    "    global on\n",
    "\n",
    "    on = not on\n",
    "\n",
    "    if on:\n",
    "        th[node_id][\"leds.top\"] = [32, 32, 0]\n",
    "    else:\n",
    "        th[node_id][\"leds.top\"] = [0, 0, 0]\n",
    "\n",
    "    sleep(0.5)"
   ]
  },
  {
   "cell_type": "code",
   "execution_count": 12,
   "metadata": {},
   "outputs": [],
   "source": [
    "# Set the observer for the Thymio with this function\n",
    "\n",
    "th.set_variable_observer(id, obs)\n"
   ]
  },
  {
   "cell_type": "code",
   "execution_count": 14,
   "metadata": {},
   "outputs": [],
   "source": [
    "# Stop the function\n",
    "\n",
    "th.set_variable_observer(id, lambda x: None)\n"
   ]
  },
  {
   "cell_type": "markdown",
   "metadata": {},
   "source": [
    "#### TDM Client"
   ]
  },
  {
   "cell_type": "markdown",
   "metadata": {},
   "source": [
    "[TDM Client](https://pypi.org/project/tdmclient/) is a Python package to connect to a Thymio robot via the Thymio Device Manager (TDM), a component of the Thymio Suite. \n",
    "\n",
    "*Pros*:\n",
    "- All code can be written in Python\n",
    "- Some examples and a documentation is provided\n",
    "- A data inspector is provided \n",
    "\n",
    "*Cons*:\n",
    "- Most Python code has to be transpiled to Aseba\n",
    "- A bit more complex at the start in comparison to Aseba Studio"
   ]
  },
  {
   "cell_type": "markdown",
   "metadata": {},
   "source": [
    "Download [Thymio Suite](https://www.thymio.org/de/download-thymio-suite-redirect/) and start it."
   ]
  },
  {
   "cell_type": "markdown",
   "metadata": {},
   "source": [
    "##### Blink example"
   ]
  },
  {
   "cell_type": "code",
   "execution_count": null,
   "metadata": {},
   "outputs": [],
   "source": [
    "# Check if thymio is found\n",
    "\n",
    "! python3 -m tdmclient tdmdiscovery"
   ]
  },
  {
   "cell_type": "code",
   "execution_count": null,
   "metadata": {},
   "outputs": [],
   "source": [
    "# Open the GUI to observe the values of Thymios sensors and actuators\n",
    "\n",
    "! python3 -m tdmclient gui"
   ]
  },
  {
   "cell_type": "code",
   "execution_count": null,
   "metadata": {},
   "outputs": [],
   "source": [
    "# Look at the file \"blink.py\""
   ]
  },
  {
   "cell_type": "code",
   "execution_count": null,
   "metadata": {},
   "outputs": [],
   "source": [
    "# Now we transpile the python code to aseby code.\n",
    "\n",
    "! python3 -m tdmclient transpile blink.py"
   ]
  },
  {
   "cell_type": "code",
   "execution_count": null,
   "metadata": {},
   "outputs": [],
   "source": [
    "# run the code on the robot\n",
    "\n",
    "! python3 -m tdmclient run blink.py"
   ]
  },
  {
   "cell_type": "code",
   "execution_count": null,
   "metadata": {},
   "outputs": [],
   "source": [
    "# stop the code\n",
    "\n",
    "! python3 -m tdmclient run --stop"
   ]
  }
 ],
 "metadata": {
  "kernelspec": {
   "display_name": "Python 3.9.13 ('Robotic')",
   "language": "python",
   "name": "python3"
  },
  "language_info": {
   "codemirror_mode": {
    "name": "ipython",
    "version": 3
   },
   "file_extension": ".py",
   "mimetype": "text/x-python",
   "name": "python",
   "nbconvert_exporter": "python",
   "pygments_lexer": "ipython3",
   "version": "3.9.13"
  },
  "orig_nbformat": 4,
  "vscode": {
   "interpreter": {
    "hash": "95367b4de54a62fda97d8e576db66e167067df039989955d187fc317f4638111"
   }
  }
 },
 "nbformat": 4,
 "nbformat_minor": 2
}
