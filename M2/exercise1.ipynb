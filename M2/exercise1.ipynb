{
 "cells": [
  {
   "cell_type": "code",
   "execution_count": 13,
   "metadata": {},
   "outputs": [],
   "source": [
    "from tdmclient import ClientAsync\n",
    "import tdmclient.notebook"
   ]
  },
  {
   "cell_type": "code",
   "execution_count": 19,
   "metadata": {},
   "outputs": [],
   "source": [
    "await tdmclient.notebook.start()"
   ]
  },
  {
   "cell_type": "code",
   "execution_count": 20,
   "metadata": {},
   "outputs": [],
   "source": [
    "defaultSpeed = 200\n",
    "started = False\n",
    "\n",
    "def drive_straigth(speed):\n",
    "    global motor_left_target, motor_right_target\n",
    "    motor_left_target = speed\n",
    "    motor_right_target = speed"
   ]
  },
  {
   "cell_type": "code",
   "execution_count": 24,
   "metadata": {},
   "outputs": [],
   "source": [
    "@onevent\n",
    "def button_forward():\n",
    "    global motor_right_target, motor_left_target, defaultSpeed, started\n",
    "    drive_straigth(defaultSpeed)\n",
    "    started = True\n",
    "@onevent\n",
    "def button_backward():\n",
    "    global motor_right_target, motor_left_target, defaultSpeed, started\n",
    "    started = False\n",
    "    drive_straigth(0)"
   ]
  },
  {
   "cell_type": "code",
   "execution_count": 22,
   "metadata": {},
   "outputs": [],
   "source": [
    "@onevent\n",
    "def prox():\n",
    "    global started\n",
    "    if started:\n",
    "        started = not started"
   ]
  },
  {
   "cell_type": "code",
   "execution_count": null,
   "metadata": {},
   "outputs": [],
   "source": []
  },
  {
   "cell_type": "code",
   "execution_count": 25,
   "metadata": {},
   "outputs": [
    {
     "name": "stderr",
     "output_type": "stream",
     "text": [
      "Exception in thread Exception in thread Thread-3:\n",
      "Traceback (most recent call last):\n",
      "  File \"c:\\Users\\oliko\\anaconda3\\envs\\ROBO\\lib\\threading.py\", line 980, in _bootstrap_inner\n",
      "Exception in thread Thread-4:\n",
      "Traceback (most recent call last):\n",
      "  File \"c:\\Users\\oliko\\anaconda3\\envs\\ROBO\\lib\\threading.py\", line 980, in _bootstrap_inner\n",
      "Thread-5:\n",
      "Traceback (most recent call last):\n",
      "  File \"c:\\Users\\oliko\\anaconda3\\envs\\ROBO\\lib\\threading.py\", line 980, in _bootstrap_inner\n",
      "    self.run()\n",
      "  File \"c:\\Users\\oliko\\anaconda3\\envs\\ROBO\\lib\\site-packages\\tdmclient\\tcp.py\", line 73, in run\n",
      "    self.run()\n",
      "  File \"c:\\Users\\oliko\\anaconda3\\envs\\ROBO\\lib\\site-packages\\tdmclient\\tcp.py\", line 73, in run\n",
      "    packet = self.read_packet()\n",
      "  File \"c:\\Users\\oliko\\anaconda3\\envs\\ROBO\\lib\\site-packages\\tdmclient\\tcp.py\", line 66, in read_packet\n",
      "    self.run()\n",
      "  File \"c:\\Users\\oliko\\anaconda3\\envs\\ROBO\\lib\\site-packages\\tdmclient\\tcp.py\", line 73, in run\n",
      "    packet = self.read_packet()\n",
      "  File \"c:\\Users\\oliko\\anaconda3\\envs\\ROBO\\lib\\site-packages\\tdmclient\\tcp.py\", line 66, in read_packet\n",
      "    raise error\n",
      "  File \"c:\\Users\\oliko\\anaconda3\\envs\\ROBO\\lib\\site-packages\\tdmclient\\tcp.py\", line 59, in read_packet\n",
      "    raise error\n",
      "  File \"c:\\Users\\oliko\\anaconda3\\envs\\ROBO\\lib\\site-packages\\tdmclient\\tcp.py\", line 59, in read_packet\n",
      "    packet = self.read_packet()\n",
      "  File \"c:\\Users\\oliko\\anaconda3\\envs\\ROBO\\lib\\site-packages\\tdmclient\\tcp.py\", line 66, in read_packet\n",
      "    packet_len = self.read_uint32()\n",
      "  File \"c:\\Users\\oliko\\anaconda3\\envs\\ROBO\\lib\\site-packages\\tdmclient\\tcp.py\", line 46, in read_uint32\n",
      "    packet_len = self.read_uint32()\n",
      "  File \"c:\\Users\\oliko\\anaconda3\\envs\\ROBO\\lib\\site-packages\\tdmclient\\tcp.py\", line 46, in read_uint32\n",
      "    b = self.io.read(4)\n",
      "  File \"c:\\Users\\oliko\\anaconda3\\envs\\ROBO\\lib\\site-packages\\tdmclient\\tcp.py\", line 99, in read\n",
      "    raise error\n",
      "  File \"c:\\Users\\oliko\\anaconda3\\envs\\ROBO\\lib\\site-packages\\tdmclient\\tcp.py\", line 59, in read_packet\n",
      "    b = self.io.read(4)\n",
      "  File \"c:\\Users\\oliko\\anaconda3\\envs\\ROBO\\lib\\site-packages\\tdmclient\\tcp.py\", line 99, in read\n",
      "    return self.socket.recv(n)\n",
      "ConnectionResetError: [WinError 10054] An existing connection was forcibly closed by the remote host\n",
      "    packet_len = self.read_uint32()\n",
      "  File \"c:\\Users\\oliko\\anaconda3\\envs\\ROBO\\lib\\site-packages\\tdmclient\\tcp.py\", line 46, in read_uint32\n",
      "    return self.socket.recv(n)\n",
      "ConnectionResetError: [WinError 10054] An existing connection was forcibly closed by the remote host\n",
      "    b = self.io.read(4)\n",
      "  File \"c:\\Users\\oliko\\anaconda3\\envs\\ROBO\\lib\\site-packages\\tdmclient\\tcp.py\", line 99, in read\n",
      "    return self.socket.recv(n)\n",
      "ConnectionResetError: [WinError 10054] An existing connection was forcibly closed by the remote host\n"
     ]
    }
   ],
   "source": [
    "await tdmclient.notebook.stop()"
   ]
  }
 ],
 "metadata": {
  "kernelspec": {
   "display_name": "ROBO",
   "language": "python",
   "name": "python3"
  },
  "language_info": {
   "codemirror_mode": {
    "name": "ipython",
    "version": 3
   },
   "file_extension": ".py",
   "mimetype": "text/x-python",
   "name": "python",
   "nbconvert_exporter": "python",
   "pygments_lexer": "ipython3",
   "version": "3.9.16"
  },
  "orig_nbformat": 4
 },
 "nbformat": 4,
 "nbformat_minor": 2
}
